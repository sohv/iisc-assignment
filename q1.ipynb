{
  "cells": [
    {
      "cell_type": "markdown",
      "metadata": {
        "id": "view-in-github",
        "colab_type": "text"
      },
      "source": [
        "<a href=\"https://colab.research.google.com/github/sohv/iisc-assignment/blob/main/q1.ipynb\" target=\"_parent\"><img src=\"https://colab.research.google.com/assets/colab-badge.svg\" alt=\"Open In Colab\"/></a>"
      ]
    },
    {
      "cell_type": "code",
      "execution_count": null,
      "metadata": {
        "colab": {
          "base_uri": "https://localhost:8080/"
        },
        "id": "bJBKw4QnSU91",
        "outputId": "0a0be399-1872-4d7b-a8b0-3334ca0535aa"
      },
      "outputs": [
        {
          "name": "stdout",
          "output_type": "stream",
          "text": [
            "Requirement already satisfied: torch in /venv/main/lib/python3.12/site-packages (2.7.1+cu128)\n",
            "Requirement already satisfied: numpy in /venv/main/lib/python3.12/site-packages (2.1.2)\n",
            "Requirement already satisfied: tqdm in /venv/main/lib/python3.12/site-packages (4.67.1)\n",
            "Requirement already satisfied: filelock in /venv/main/lib/python3.12/site-packages (from torch) (3.19.1)\n",
            "Requirement already satisfied: typing-extensions>=4.10.0 in /venv/main/lib/python3.12/site-packages (from torch) (4.15.0)\n",
            "Requirement already satisfied: setuptools in /venv/main/lib/python3.12/site-packages (from torch) (80.9.0)\n",
            "Requirement already satisfied: sympy>=1.13.3 in /venv/main/lib/python3.12/site-packages (from torch) (1.13.3)\n",
            "Requirement already satisfied: networkx in /venv/main/lib/python3.12/site-packages (from torch) (3.3)\n",
            "Requirement already satisfied: jinja2 in /venv/main/lib/python3.12/site-packages (from torch) (3.1.4)\n",
            "Requirement already satisfied: fsspec in /venv/main/lib/python3.12/site-packages (from torch) (2025.9.0)\n",
            "Requirement already satisfied: nvidia-cuda-nvrtc-cu12==12.8.61 in /venv/main/lib/python3.12/site-packages (from torch) (12.8.61)\n",
            "Requirement already satisfied: nvidia-cuda-runtime-cu12==12.8.57 in /venv/main/lib/python3.12/site-packages (from torch) (12.8.57)\n",
            "Requirement already satisfied: nvidia-cuda-cupti-cu12==12.8.57 in /venv/main/lib/python3.12/site-packages (from torch) (12.8.57)\n",
            "Requirement already satisfied: nvidia-cudnn-cu12==9.7.1.26 in /venv/main/lib/python3.12/site-packages (from torch) (9.7.1.26)\n",
            "Requirement already satisfied: nvidia-cublas-cu12==12.8.3.14 in /venv/main/lib/python3.12/site-packages (from torch) (12.8.3.14)\n",
            "Requirement already satisfied: nvidia-cufft-cu12==11.3.3.41 in /venv/main/lib/python3.12/site-packages (from torch) (11.3.3.41)\n",
            "Requirement already satisfied: nvidia-curand-cu12==10.3.9.55 in /venv/main/lib/python3.12/site-packages (from torch) (10.3.9.55)\n",
            "Requirement already satisfied: nvidia-cusolver-cu12==11.7.2.55 in /venv/main/lib/python3.12/site-packages (from torch) (11.7.2.55)\n",
            "Requirement already satisfied: nvidia-cusparse-cu12==12.5.7.53 in /venv/main/lib/python3.12/site-packages (from torch) (12.5.7.53)\n",
            "Requirement already satisfied: nvidia-cusparselt-cu12==0.6.3 in /venv/main/lib/python3.12/site-packages (from torch) (0.6.3)\n",
            "Requirement already satisfied: nvidia-nccl-cu12==2.26.2 in /venv/main/lib/python3.12/site-packages (from torch) (2.26.2)\n",
            "Requirement already satisfied: nvidia-nvtx-cu12==12.8.55 in /venv/main/lib/python3.12/site-packages (from torch) (12.8.55)\n",
            "Requirement already satisfied: nvidia-nvjitlink-cu12==12.8.61 in /venv/main/lib/python3.12/site-packages (from torch) (12.8.61)\n",
            "Requirement already satisfied: nvidia-cufile-cu12==1.13.0.11 in /venv/main/lib/python3.12/site-packages (from torch) (1.13.0.11)\n",
            "Requirement already satisfied: triton==3.3.1 in /venv/main/lib/python3.12/site-packages (from torch) (3.3.1)\n",
            "Requirement already satisfied: mpmath<1.4,>=1.1.0 in /venv/main/lib/python3.12/site-packages (from sympy>=1.13.3->torch) (1.3.0)\n",
            "Requirement already satisfied: MarkupSafe>=2.0 in /venv/main/lib/python3.12/site-packages (from jinja2->torch) (2.1.5)\n",
            "\u001b[33mWARNING: Running pip as the 'root' user can result in broken permissions and conflicting behaviour with the system package manager, possibly rendering your system unusable. It is recommended to use a virtual environment instead: https://pip.pypa.io/warnings/venv. Use the --root-user-action option if you know what you are doing and want to suppress this warning.\u001b[0m\u001b[33m\n",
            "\u001b[0mNote: you may need to restart the kernel to use updated packages.\n"
          ]
        }
      ],
      "source": [
        "%pip install torch numpy tqdm"
      ]
    },
    {
      "cell_type": "code",
      "execution_count": null,
      "metadata": {
        "id": "q7hu2Vh-n4if"
      },
      "outputs": [],
      "source": [
        "import torch\n",
        "import torch.nn as nn\n",
        "import torch.nn.functional as F\n",
        "from torch.utils.data import DataLoader\n",
        "import torchvision\n",
        "import torchvision.transforms as transforms\n",
        "from torch.optim.lr_scheduler import CosineAnnealingLR, OneCycleLR\n",
        "import numpy as np\n",
        "from tqdm import tqdm\n",
        "import math"
      ]
    },
    {
      "cell_type": "code",
      "execution_count": null,
      "metadata": {
        "id": "1x6HgZwzoBYu"
      },
      "outputs": [],
      "source": [
        "# ==================== configuration ====================\n",
        "class Config:\n",
        "    img_size = 32\n",
        "    patch_size = 4  # best for CIFAR-10 (32x32 images)\n",
        "    num_patches = (img_size // patch_size) ** 2  # 64 patches\n",
        "    in_channels = 3\n",
        "    embed_dim = 384  # increased from typical 256\n",
        "    depth = 12\n",
        "    num_heads = 12\n",
        "    mlp_ratio = 4\n",
        "    dropout = 0.1\n",
        "    attn_dropout = 0.1\n",
        "    num_classes = 10\n",
        "\n",
        "    # training Hyperparameters\n",
        "    batch_size = 128\n",
        "    epochs = 300\n",
        "    learning_rate = 3e-4\n",
        "    weight_decay = 0.05\n",
        "    warmup_epochs = 10\n",
        "    label_smoothing = 0.1\n",
        "\n",
        "    # regularization\n",
        "    stochastic_depth = 0.1  # drop path\n",
        "    grad_clip = 1.0\n",
        "\n",
        "    # device\n",
        "    device = 'cuda' if torch.cuda.is_available() else 'cpu'"
      ]
    },
    {
      "cell_type": "code",
      "execution_count": null,
      "metadata": {
        "id": "G6WaT5jioRXm"
      },
      "outputs": [],
      "source": [
        "# ==================== data augmentation ====================\n",
        "def get_transforms(train=True):\n",
        "    if train:\n",
        "        return transforms.Compose([\n",
        "            transforms.RandomCrop(32, padding=4),\n",
        "            transforms.RandomHorizontalFlip(p=0.5),\n",
        "            transforms.AutoAugment(transforms.AutoAugmentPolicy.CIFAR10),\n",
        "            transforms.ToTensor(),\n",
        "            transforms.Normalize((0.4914, 0.4822, 0.4465),\n",
        "                               (0.2470, 0.2435, 0.2616)),\n",
        "            transforms.RandomErasing(p=0.25, scale=(0.02, 0.33)),\n",
        "        ])\n",
        "    else:\n",
        "        return transforms.Compose([\n",
        "            transforms.ToTensor(),\n",
        "            transforms.Normalize((0.4914, 0.4822, 0.4465),\n",
        "                               (0.2470, 0.2435, 0.2616)),\n",
        "        ])"
      ]
    },
    {
      "cell_type": "code",
      "execution_count": null,
      "metadata": {
        "id": "lF5zPwxgobP1"
      },
      "outputs": [],
      "source": [
        "# ==================== patch embedding ====================\n",
        "class PatchEmbedding(nn.Module):\n",
        "    def __init__(self, img_size, patch_size, in_channels, embed_dim):\n",
        "        super().__init__()\n",
        "        self.num_patches = (img_size // patch_size) ** 2\n",
        "        self.patch_size = patch_size\n",
        "\n",
        "        self.projection = nn.Conv2d(\n",
        "            in_channels, embed_dim,\n",
        "            kernel_size=patch_size, stride=patch_size\n",
        "        )\n",
        "\n",
        "    def forward(self, x):\n",
        "        # x: (B, C, H, W) -> (B, E, H/P, W/P) -> (B, E, N) -> (B, N, E)\n",
        "        x = self.projection(x)  # (B, embed_dim, H/P, W/P)\n",
        "        x = x.flatten(2)  # (B, embed_dim, num_patches)\n",
        "        x = x.transpose(1, 2)  # (B, num_patches, embed_dim)\n",
        "        return x"
      ]
    },
    {
      "cell_type": "code",
      "execution_count": null,
      "metadata": {
        "id": "WJUlV4i6ojXZ"
      },
      "outputs": [],
      "source": [
        "# ==================== stochastic depth - drop path ====================\n",
        "class DropPath(nn.Module):\n",
        "    def __init__(self, drop_prob=0.0):\n",
        "        super().__init__()\n",
        "        self.drop_prob = drop_prob\n",
        "\n",
        "    def forward(self, x):\n",
        "        if self.drop_prob == 0. or not self.training:\n",
        "            return x\n",
        "        keep_prob = 1 - self.drop_prob\n",
        "        shape = (x.shape[0],) + (1,) * (x.ndim - 1)\n",
        "        random_tensor = keep_prob + torch.rand(shape, dtype=x.dtype, device=x.device)\n",
        "        random_tensor.floor_()\n",
        "        output = x.div(keep_prob) * random_tensor\n",
        "        return output"
      ]
    },
    {
      "cell_type": "code",
      "execution_count": null,
      "metadata": {
        "id": "oLhAwQr1osiV"
      },
      "outputs": [],
      "source": [
        "# ==================== multi-head self-attention ====================\n",
        "class MultiHeadSelfAttention(nn.Module):\n",
        "    def __init__(self, embed_dim, num_heads, attn_dropout=0.0, proj_dropout=0.0):\n",
        "        super().__init__()\n",
        "        assert embed_dim % num_heads == 0\n",
        "\n",
        "        self.num_heads = num_heads\n",
        "        self.head_dim = embed_dim // num_heads\n",
        "        self.scale = self.head_dim ** -0.5\n",
        "\n",
        "        self.qkv = nn.Linear(embed_dim, embed_dim * 3, bias=True)\n",
        "        self.attn_dropout = nn.Dropout(attn_dropout)\n",
        "        self.proj = nn.Linear(embed_dim, embed_dim)\n",
        "        self.proj_dropout = nn.Dropout(proj_dropout)\n",
        "\n",
        "    def forward(self, x):\n",
        "        B, N, C = x.shape\n",
        "        qkv = self.qkv(x).reshape(B, N, 3, self.num_heads, self.head_dim).permute(2, 0, 3, 1, 4)\n",
        "        q, k, v = qkv[0], qkv[1], qkv[2]\n",
        "\n",
        "        # scaled dot-product attention\n",
        "        attn = (q @ k.transpose(-2, -1)) * self.scale\n",
        "        attn = F.softmax(attn, dim=-1)\n",
        "        attn = self.attn_dropout(attn)\n",
        "\n",
        "        x = (attn @ v).transpose(1, 2).reshape(B, N, C)\n",
        "        x = self.proj(x)\n",
        "        x = self.proj_dropout(x)\n",
        "        return x"
      ]
    },
    {
      "cell_type": "code",
      "execution_count": null,
      "metadata": {
        "id": "9l-EC5xho-Yq"
      },
      "outputs": [],
      "source": [
        "# ==================== MLP block ====================\n",
        "class MLP(nn.Module):\n",
        "    def __init__(self, in_features, hidden_features, dropout=0.0):\n",
        "        super().__init__()\n",
        "        self.fc1 = nn.Linear(in_features, hidden_features)\n",
        "        self.act = nn.GELU()\n",
        "        self.fc2 = nn.Linear(hidden_features, in_features)\n",
        "        self.dropout = nn.Dropout(dropout)\n",
        "\n",
        "    def forward(self, x):\n",
        "        x = self.fc1(x)\n",
        "        x = self.act(x)\n",
        "        x = self.dropout(x)\n",
        "        x = self.fc2(x)\n",
        "        x = self.dropout(x)\n",
        "        return x"
      ]
    },
    {
      "cell_type": "code",
      "execution_count": null,
      "metadata": {
        "id": "4soum5zUpBuI"
      },
      "outputs": [],
      "source": [
        "# ==================== Transformer encoder block ====================\n",
        "class TransformerBlock(nn.Module):\n",
        "    def __init__(self, embed_dim, num_heads, mlp_ratio=4, dropout=0.0,\n",
        "                 attn_dropout=0.0, drop_path=0.0):\n",
        "        super().__init__()\n",
        "        self.norm1 = nn.LayerNorm(embed_dim)\n",
        "        self.attn = MultiHeadSelfAttention(\n",
        "            embed_dim, num_heads, attn_dropout, dropout\n",
        "        )\n",
        "        self.drop_path = DropPath(drop_path) if drop_path > 0. else nn.Identity()\n",
        "        self.norm2 = nn.LayerNorm(embed_dim)\n",
        "        self.mlp = MLP(embed_dim, int(embed_dim * mlp_ratio), dropout)\n",
        "\n",
        "    def forward(self, x):\n",
        "        # pre norm architecture\n",
        "        x = x + self.drop_path(self.attn(self.norm1(x)))\n",
        "        x = x + self.drop_path(self.mlp(self.norm2(x)))\n",
        "        return x"
      ]
    },
    {
      "cell_type": "code",
      "execution_count": null,
      "metadata": {
        "id": "9gVlsJJ6pN7m"
      },
      "outputs": [],
      "source": [
        "# ==================== Define vision transformer ====================\n",
        "class VisionTransformer(nn.Module):\n",
        "    def __init__(self, config):\n",
        "        super().__init__()\n",
        "        self.config = config\n",
        "\n",
        "        # patch embedding\n",
        "        self.patch_embed = PatchEmbedding(\n",
        "            config.img_size, config.patch_size,\n",
        "            config.in_channels, config.embed_dim\n",
        "        )\n",
        "\n",
        "        # CLS token and positional embeddings\n",
        "        self.cls_token = nn.Parameter(torch.zeros(1, 1, config.embed_dim))\n",
        "        self.pos_embed = nn.Parameter(\n",
        "            torch.zeros(1, config.num_patches + 1, config.embed_dim)\n",
        "        )\n",
        "        self.pos_dropout = nn.Dropout(config.dropout)\n",
        "\n",
        "        # stochastic depth decay rule\n",
        "        dpr = [x.item() for x in torch.linspace(0, config.stochastic_depth, config.depth)]\n",
        "\n",
        "        # Transformer encoder blocks\n",
        "        self.blocks = nn.ModuleList([\n",
        "            TransformerBlock(\n",
        "                config.embed_dim, config.num_heads, config.mlp_ratio,\n",
        "                config.dropout, config.attn_dropout, dpr[i]\n",
        "            ) for i in range(config.depth)\n",
        "        ])\n",
        "\n",
        "        # classification head\n",
        "        self.norm = nn.LayerNorm(config.embed_dim)\n",
        "        self.head = nn.Linear(config.embed_dim, config.num_classes)\n",
        "\n",
        "        # initializing weights\n",
        "        self._init_weights()\n",
        "\n",
        "    def _init_weights(self):\n",
        "        # initialize patch embedding\n",
        "        nn.init.trunc_normal_(self.pos_embed, std=0.02)\n",
        "        nn.init.trunc_normal_(self.cls_token, std=0.02)\n",
        "\n",
        "        # initialize linear layers\n",
        "        for m in self.modules():\n",
        "            if isinstance(m, nn.Linear):\n",
        "                nn.init.trunc_normal_(m.weight, std=0.02)\n",
        "                if m.bias is not None:\n",
        "                    nn.init.constant_(m.bias, 0)\n",
        "            elif isinstance(m, nn.LayerNorm):\n",
        "                nn.init.constant_(m.bias, 0)\n",
        "                nn.init.constant_(m.weight, 1.0)\n",
        "\n",
        "    def forward(self, x):\n",
        "        B = x.shape[0]\n",
        "\n",
        "        # patch embedding\n",
        "        x = self.patch_embed(x)  # (B, num_patches, embed_dim)\n",
        "\n",
        "        # prepend CLS token\n",
        "        cls_tokens = self.cls_token.expand(B, -1, -1)\n",
        "        x = torch.cat([cls_tokens, x], dim=1)  # (B, num_patches+1, embed_dim)\n",
        "\n",
        "        # add positional embeddings\n",
        "        x = x + self.pos_embed\n",
        "        x = self.pos_dropout(x)\n",
        "\n",
        "        # transformer encoder blocks\n",
        "        for block in self.blocks:\n",
        "            x = block(x)\n",
        "\n",
        "        # final norm and classification head\n",
        "        x = self.norm(x)\n",
        "        x = x[:, 0]  # extracting CLS token\n",
        "        x = self.head(x)\n",
        "\n",
        "        return x"
      ]
    },
    {
      "cell_type": "code",
      "execution_count": null,
      "metadata": {
        "id": "TSj-NSPRpeFu"
      },
      "outputs": [],
      "source": [
        "# training functions\n",
        "def train_epoch(model, loader, criterion, optimizer, scheduler, config, scaler):\n",
        "    model.train()\n",
        "    total_loss = 0\n",
        "    correct = 0\n",
        "    total = 0\n",
        "\n",
        "    pbar = tqdm(loader, desc='Training')\n",
        "    for inputs, targets in pbar:\n",
        "        inputs, targets = inputs.to(config.device), targets.to(config.device)\n",
        "\n",
        "        optimizer.zero_grad()\n",
        "\n",
        "        # Mixed precision training\n",
        "        with torch.cuda.amp.autocast():\n",
        "            outputs = model(inputs)\n",
        "            loss = criterion(outputs, targets)\n",
        "\n",
        "        scaler.scale(loss).backward()\n",
        "        scaler.unscale_(optimizer)\n",
        "        torch.nn.utils.clip_grad_norm_(model.parameters(), config.grad_clip)\n",
        "        scaler.step(optimizer)\n",
        "        scaler.update()\n",
        "\n",
        "        if scheduler is not None and isinstance(scheduler, OneCycleLR):\n",
        "            scheduler.step()\n",
        "\n",
        "        total_loss += loss.item()\n",
        "        _, predicted = outputs.max(1)\n",
        "        total += targets.size(0)\n",
        "        correct += predicted.eq(targets).sum().item()\n",
        "\n",
        "        pbar.set_postfix({\n",
        "            'loss': f'{loss.item():.4f}',\n",
        "            'acc': f'{100.*correct/total:.2f}%'\n",
        "        })\n",
        "\n",
        "    return total_loss / len(loader), 100. * correct / total"
      ]
    },
    {
      "cell_type": "code",
      "execution_count": null,
      "metadata": {
        "id": "zD5y8BeupsYu"
      },
      "outputs": [],
      "source": [
        "def validate(model, loader, criterion, config):\n",
        "    model.eval()\n",
        "    total_loss = 0\n",
        "    correct = 0\n",
        "    total = 0\n",
        "\n",
        "    with torch.no_grad():\n",
        "        for inputs, targets in tqdm(loader, desc='Validating'):\n",
        "            inputs, targets = inputs.to(config.device), targets.to(config.device)\n",
        "            outputs = model(inputs)\n",
        "            loss = criterion(outputs, targets)\n",
        "\n",
        "            total_loss += loss.item()\n",
        "            _, predicted = outputs.max(1)\n",
        "            total += targets.size(0)\n",
        "            correct += predicted.eq(targets).sum().item()\n",
        "\n",
        "    return total_loss / len(loader), 100. * correct / total"
      ]
    },
    {
      "cell_type": "code",
      "execution_count": null,
      "metadata": {
        "colab": {
          "base_uri": "https://localhost:8080/"
        },
        "id": "T1HQZZf1pspr",
        "outputId": "ee0cc2b4-cbd8-4950-f6e9-159f285d82ff"
      },
      "outputs": [
        {
          "name": "stdout",
          "output_type": "stream",
          "text": [
            "Using device: cuda\n",
            "Model configuration: 384D, 12 layers, 12 heads\n",
            "Loading CIFAR-10 dataset...\n",
            "Creating Vision Transformer model...\n"
          ]
        },
        {
          "name": "stderr",
          "output_type": "stream",
          "text": [
            "/tmp/ipykernel_619/880310869.py:50: FutureWarning: `torch.cuda.amp.GradScaler(args...)` is deprecated. Please use `torch.amp.GradScaler('cuda', args...)` instead.\n",
            "  scaler = torch.cuda.amp.GradScaler()\n"
          ]
        },
        {
          "name": "stdout",
          "output_type": "stream",
          "text": [
            "Total parameters: 21,342,346\n",
            "Trainable parameters: 21,342,346\n",
            "\n",
            "Starting training for 300 epochs...\n",
            "\n",
            "Epoch 1/300\n"
          ]
        },
        {
          "name": "stderr",
          "output_type": "stream",
          "text": [
            "Training:   0%|          | 0/391 [00:00<?, ?it/s]/tmp/ipykernel_619/3995718836.py:15: FutureWarning: `torch.cuda.amp.autocast(args...)` is deprecated. Please use `torch.amp.autocast('cuda', args...)` instead.\n",
            "  with torch.cuda.amp.autocast():\n",
            "Training: 100%|██████████| 391/391 [00:22<00:00, 17.69it/s, loss=2.0627, acc=21.86%]\n",
            "Validating: 100%|██████████| 79/79 [00:02<00:00, 33.14it/s]\n"
          ]
        },
        {
          "name": "stdout",
          "output_type": "stream",
          "text": [
            "Train Loss: 2.1261, Train Acc: 21.86%\n",
            "Test Loss: 1.9134, Test Acc: 32.85%\n",
            "Learning Rate: 0.000030\n",
            "✓ Saved best model with test accuracy: 32.85%\n",
            "\n",
            "Epoch 2/300\n"
          ]
        },
        {
          "name": "stderr",
          "output_type": "stream",
          "text": [
            "Training: 100%|██████████| 391/391 [00:21<00:00, 18.58it/s, loss=1.9859, acc=28.82%]\n",
            "Validating: 100%|██████████| 79/79 [00:02<00:00, 33.88it/s]\n"
          ]
        },
        {
          "name": "stdout",
          "output_type": "stream",
          "text": [
            "Train Loss: 2.0011, Train Acc: 28.82%\n",
            "Test Loss: 1.8032, Test Acc: 39.97%\n",
            "Learning Rate: 0.000060\n",
            "✓ Saved best model with test accuracy: 39.97%\n",
            "\n",
            "Epoch 3/300\n"
          ]
        },
        {
          "name": "stderr",
          "output_type": "stream",
          "text": [
            "Training: 100%|██████████| 391/391 [00:20<00:00, 18.63it/s, loss=1.9294, acc=34.67%]\n",
            "Validating: 100%|██████████| 79/79 [00:02<00:00, 33.66it/s]\n"
          ]
        },
        {
          "name": "stdout",
          "output_type": "stream",
          "text": [
            "Train Loss: 1.8973, Train Acc: 34.67%\n",
            "Test Loss: 1.6662, Test Acc: 45.13%\n",
            "Learning Rate: 0.000090\n",
            "✓ Saved best model with test accuracy: 45.13%\n",
            "\n",
            "Epoch 4/300\n"
          ]
        },
        {
          "name": "stderr",
          "output_type": "stream",
          "text": [
            "Training: 100%|██████████| 391/391 [00:20<00:00, 19.46it/s, loss=1.8218, acc=39.31%]\n",
            "Validating: 100%|██████████| 79/79 [00:02<00:00, 33.55it/s]\n"
          ]
        },
        {
          "name": "stdout",
          "output_type": "stream",
          "text": [
            "Train Loss: 1.8064, Train Acc: 39.31%\n",
            "Test Loss: 1.6840, Test Acc: 44.82%\n",
            "Learning Rate: 0.000120\n",
            "\n",
            "Epoch 5/300\n"
          ]
        },
        {
          "name": "stderr",
          "output_type": "stream",
          "text": [
            "Training: 100%|██████████| 391/391 [00:20<00:00, 18.65it/s, loss=1.6176, acc=42.59%]\n",
            "Validating: 100%|██████████| 79/79 [00:02<00:00, 33.42it/s]\n"
          ]
        },
        {
          "name": "stdout",
          "output_type": "stream",
          "text": [
            "Train Loss: 1.7369, Train Acc: 42.59%\n",
            "Test Loss: 1.4947, Test Acc: 53.92%\n",
            "Learning Rate: 0.000150\n",
            "✓ Saved best model with test accuracy: 53.92%\n",
            "\n",
            "Epoch 6/300\n"
          ]
        },
        {
          "name": "stderr",
          "output_type": "stream",
          "text": [
            "Training: 100%|██████████| 391/391 [00:21<00:00, 18.39it/s, loss=1.6209, acc=44.91%]\n",
            "Validating: 100%|██████████| 79/79 [00:02<00:00, 33.39it/s]\n"
          ]
        },
        {
          "name": "stdout",
          "output_type": "stream",
          "text": [
            "Train Loss: 1.6898, Train Acc: 44.91%\n",
            "Test Loss: 1.4576, Test Acc: 55.20%\n",
            "Learning Rate: 0.000180\n",
            "✓ Saved best model with test accuracy: 55.20%\n",
            "\n",
            "Epoch 7/300\n"
          ]
        },
        {
          "name": "stderr",
          "output_type": "stream",
          "text": [
            "Training: 100%|██████████| 391/391 [00:21<00:00, 18.25it/s, loss=1.7162, acc=46.30%]\n",
            "Validating: 100%|██████████| 79/79 [00:02<00:00, 33.36it/s]\n"
          ]
        },
        {
          "name": "stdout",
          "output_type": "stream",
          "text": [
            "Train Loss: 1.6629, Train Acc: 46.30%\n",
            "Test Loss: 1.4275, Test Acc: 57.34%\n",
            "Learning Rate: 0.000210\n",
            "✓ Saved best model with test accuracy: 57.34%\n",
            "\n",
            "Epoch 8/300\n"
          ]
        },
        {
          "name": "stderr",
          "output_type": "stream",
          "text": [
            "Training: 100%|██████████| 391/391 [00:21<00:00, 18.00it/s, loss=1.6422, acc=48.21%]\n",
            "Validating: 100%|██████████| 79/79 [00:02<00:00, 33.31it/s]\n"
          ]
        },
        {
          "name": "stdout",
          "output_type": "stream",
          "text": [
            "Train Loss: 1.6291, Train Acc: 48.21%\n",
            "Test Loss: 1.3816, Test Acc: 59.09%\n",
            "Learning Rate: 0.000240\n",
            "✓ Saved best model with test accuracy: 59.09%\n",
            "\n",
            "Epoch 9/300\n"
          ]
        },
        {
          "name": "stderr",
          "output_type": "stream",
          "text": [
            "Training: 100%|██████████| 391/391 [00:21<00:00, 18.11it/s, loss=1.6200, acc=48.56%]\n",
            "Validating: 100%|██████████| 79/79 [00:02<00:00, 33.32it/s]\n"
          ]
        },
        {
          "name": "stdout",
          "output_type": "stream",
          "text": [
            "Train Loss: 1.6144, Train Acc: 48.56%\n",
            "Test Loss: 1.3459, Test Acc: 61.03%\n",
            "Learning Rate: 0.000270\n",
            "✓ Saved best model with test accuracy: 61.03%\n",
            "\n",
            "Epoch 10/300\n"
          ]
        },
        {
          "name": "stderr",
          "output_type": "stream",
          "text": [
            "Training: 100%|██████████| 391/391 [00:21<00:00, 18.58it/s, loss=1.4073, acc=49.67%]\n",
            "Validating: 100%|██████████| 79/79 [00:02<00:00, 33.34it/s]\n"
          ]
        },
        {
          "name": "stdout",
          "output_type": "stream",
          "text": [
            "Train Loss: 1.5948, Train Acc: 49.67%\n",
            "Test Loss: 1.3669, Test Acc: 60.31%\n",
            "Learning Rate: 0.000300\n",
            "\n",
            "Epoch 11/300\n"
          ]
        },
        {
          "name": "stderr",
          "output_type": "stream",
          "text": [
            "Training: 100%|██████████| 391/391 [00:20<00:00, 18.84it/s, loss=1.5082, acc=51.02%]\n",
            "Validating: 100%|██████████| 79/79 [00:02<00:00, 33.34it/s]\n"
          ]
        },
        {
          "name": "stdout",
          "output_type": "stream",
          "text": [
            "Train Loss: 1.5709, Train Acc: 51.02%\n",
            "Test Loss: 1.3307, Test Acc: 61.28%\n",
            "Learning Rate: 0.000300\n",
            "✓ Saved best model with test accuracy: 61.28%\n",
            "\n",
            "Epoch 12/300\n"
          ]
        },
        {
          "name": "stderr",
          "output_type": "stream",
          "text": [
            "Training: 100%|██████████| 391/391 [00:21<00:00, 18.57it/s, loss=1.6146, acc=51.93%]\n",
            "Validating: 100%|██████████| 79/79 [00:02<00:00, 33.20it/s]\n"
          ]
        },
        {
          "name": "stdout",
          "output_type": "stream",
          "text": [
            "Train Loss: 1.5455, Train Acc: 51.93%\n",
            "Test Loss: 1.3547, Test Acc: 60.91%\n",
            "Learning Rate: 0.000300\n",
            "\n",
            "Epoch 13/300\n"
          ]
        },
        {
          "name": "stderr",
          "output_type": "stream",
          "text": [
            "Training: 100%|██████████| 391/391 [00:21<00:00, 18.39it/s, loss=1.4990, acc=53.43%]\n",
            "Validating: 100%|██████████| 79/79 [00:02<00:00, 33.28it/s]\n"
          ]
        },
        {
          "name": "stdout",
          "output_type": "stream",
          "text": [
            "Train Loss: 1.5174, Train Acc: 53.43%\n",
            "Test Loss: 1.2866, Test Acc: 63.27%\n",
            "Learning Rate: 0.000300\n",
            "✓ Saved best model with test accuracy: 63.27%\n",
            "\n",
            "Epoch 14/300\n"
          ]
        },
        {
          "name": "stderr",
          "output_type": "stream",
          "text": [
            "Training: 100%|██████████| 391/391 [00:22<00:00, 17.67it/s, loss=1.3533, acc=54.43%]\n",
            "Validating: 100%|██████████| 79/79 [00:02<00:00, 33.34it/s]\n"
          ]
        },
        {
          "name": "stdout",
          "output_type": "stream",
          "text": [
            "Train Loss: 1.4962, Train Acc: 54.43%\n",
            "Test Loss: 1.2531, Test Acc: 66.00%\n",
            "Learning Rate: 0.000300\n",
            "✓ Saved best model with test accuracy: 66.00%\n",
            "\n",
            "Epoch 15/300\n"
          ]
        },
        {
          "name": "stderr",
          "output_type": "stream",
          "text": [
            "Training: 100%|██████████| 391/391 [00:21<00:00, 17.92it/s, loss=1.5527, acc=55.31%]\n",
            "Validating: 100%|██████████| 79/79 [00:02<00:00, 33.26it/s]\n"
          ]
        },
        {
          "name": "stdout",
          "output_type": "stream",
          "text": [
            "Train Loss: 1.4775, Train Acc: 55.31%\n",
            "Test Loss: 1.2514, Test Acc: 66.14%\n",
            "Learning Rate: 0.000300\n",
            "✓ Saved best model with test accuracy: 66.14%\n",
            "\n",
            "Epoch 16/300\n"
          ]
        },
        {
          "name": "stderr",
          "output_type": "stream",
          "text": [
            "Training: 100%|██████████| 391/391 [00:21<00:00, 18.07it/s, loss=1.4904, acc=56.79%]\n",
            "Validating: 100%|██████████| 79/79 [00:02<00:00, 33.22it/s]\n"
          ]
        },
        {
          "name": "stdout",
          "output_type": "stream",
          "text": [
            "Train Loss: 1.4516, Train Acc: 56.79%\n",
            "Test Loss: 1.2523, Test Acc: 65.68%\n",
            "Learning Rate: 0.000300\n",
            "\n",
            "Epoch 17/300\n"
          ]
        },
        {
          "name": "stderr",
          "output_type": "stream",
          "text": [
            "Training: 100%|██████████| 391/391 [00:21<00:00, 17.88it/s, loss=1.2114, acc=57.68%]\n",
            "Validating: 100%|██████████| 79/79 [00:02<00:00, 33.36it/s]\n"
          ]
        },
        {
          "name": "stdout",
          "output_type": "stream",
          "text": [
            "Train Loss: 1.4304, Train Acc: 57.68%\n",
            "Test Loss: 1.1885, Test Acc: 68.72%\n",
            "Learning Rate: 0.000300\n",
            "✓ Saved best model with test accuracy: 68.72%\n",
            "\n",
            "Epoch 18/300\n"
          ]
        },
        {
          "name": "stderr",
          "output_type": "stream",
          "text": [
            "Training: 100%|██████████| 391/391 [00:20<00:00, 18.96it/s, loss=1.3896, acc=58.57%]\n",
            "Validating: 100%|██████████| 79/79 [00:02<00:00, 33.35it/s]\n"
          ]
        },
        {
          "name": "stdout",
          "output_type": "stream",
          "text": [
            "Train Loss: 1.4076, Train Acc: 58.57%\n",
            "Test Loss: 1.1702, Test Acc: 69.65%\n",
            "Learning Rate: 0.000299\n",
            "✓ Saved best model with test accuracy: 69.65%\n",
            "\n",
            "Epoch 19/300\n"
          ]
        },
        {
          "name": "stderr",
          "output_type": "stream",
          "text": [
            "Training: 100%|██████████| 391/391 [00:21<00:00, 17.88it/s, loss=1.3507, acc=59.39%]\n",
            "Validating: 100%|██████████| 79/79 [00:02<00:00, 33.24it/s]\n"
          ]
        },
        {
          "name": "stdout",
          "output_type": "stream",
          "text": [
            "Train Loss: 1.3907, Train Acc: 59.39%\n",
            "Test Loss: 1.1506, Test Acc: 70.29%\n",
            "Learning Rate: 0.000299\n",
            "✓ Saved best model with test accuracy: 70.29%\n",
            "\n",
            "Epoch 20/300\n"
          ]
        },
        {
          "name": "stderr",
          "output_type": "stream",
          "text": [
            "Training: 100%|██████████| 391/391 [00:22<00:00, 17.63it/s, loss=1.3777, acc=60.22%]\n",
            "Validating: 100%|██████████| 79/79 [00:02<00:00, 33.19it/s]\n"
          ]
        },
        {
          "name": "stdout",
          "output_type": "stream",
          "text": [
            "Train Loss: 1.3756, Train Acc: 60.22%\n",
            "Test Loss: 1.1291, Test Acc: 70.94%\n",
            "Learning Rate: 0.000299\n",
            "✓ Saved best model with test accuracy: 70.94%\n",
            "\n",
            "Epoch 21/300\n"
          ]
        },
        {
          "name": "stderr",
          "output_type": "stream",
          "text": [
            "Training: 100%|██████████| 391/391 [00:21<00:00, 18.29it/s, loss=1.4634, acc=60.73%]\n",
            "Validating: 100%|██████████| 79/79 [00:02<00:00, 33.34it/s]\n"
          ]
        },
        {
          "name": "stdout",
          "output_type": "stream",
          "text": [
            "Train Loss: 1.3640, Train Acc: 60.73%\n",
            "Test Loss: 1.1453, Test Acc: 70.97%\n",
            "Learning Rate: 0.000299\n",
            "✓ Saved best model with test accuracy: 70.97%\n",
            "\n",
            "Epoch 22/300\n"
          ]
        },
        {
          "name": "stderr",
          "output_type": "stream",
          "text": [
            "Training: 100%|██████████| 391/391 [00:21<00:00, 18.45it/s, loss=1.2986, acc=61.56%]\n",
            "Validating: 100%|██████████| 79/79 [00:02<00:00, 33.29it/s]\n"
          ]
        },
        {
          "name": "stdout",
          "output_type": "stream",
          "text": [
            "Train Loss: 1.3467, Train Acc: 61.56%\n",
            "Test Loss: 1.1239, Test Acc: 71.60%\n",
            "Learning Rate: 0.000299\n",
            "✓ Saved best model with test accuracy: 71.60%\n",
            "\n",
            "Epoch 23/300\n"
          ]
        },
        {
          "name": "stderr",
          "output_type": "stream",
          "text": [
            "Training: 100%|██████████| 391/391 [00:20<00:00, 18.67it/s, loss=1.5097, acc=62.55%]\n",
            "Validating: 100%|██████████| 79/79 [00:02<00:00, 33.27it/s]\n"
          ]
        },
        {
          "name": "stdout",
          "output_type": "stream",
          "text": [
            "Train Loss: 1.3276, Train Acc: 62.55%\n",
            "Test Loss: 1.0933, Test Acc: 72.91%\n",
            "Learning Rate: 0.000299\n",
            "✓ Saved best model with test accuracy: 72.91%\n",
            "\n",
            "Epoch 24/300\n"
          ]
        },
        {
          "name": "stderr",
          "output_type": "stream",
          "text": [
            "Training: 100%|██████████| 391/391 [00:21<00:00, 18.43it/s, loss=1.3711, acc=62.86%]\n",
            "Validating: 100%|██████████| 79/79 [00:02<00:00, 33.29it/s]\n"
          ]
        },
        {
          "name": "stdout",
          "output_type": "stream",
          "text": [
            "Train Loss: 1.3145, Train Acc: 62.86%\n",
            "Test Loss: 1.0605, Test Acc: 74.56%\n",
            "Learning Rate: 0.000298\n",
            "✓ Saved best model with test accuracy: 74.56%\n",
            "\n",
            "Epoch 25/300\n"
          ]
        },
        {
          "name": "stderr",
          "output_type": "stream",
          "text": [
            "Training: 100%|██████████| 391/391 [00:21<00:00, 17.95it/s, loss=1.2466, acc=64.04%]\n",
            "Validating: 100%|██████████| 79/79 [00:02<00:00, 33.45it/s]\n"
          ]
        },
        {
          "name": "stdout",
          "output_type": "stream",
          "text": [
            "Train Loss: 1.2973, Train Acc: 64.04%\n",
            "Test Loss: 1.0355, Test Acc: 75.95%\n",
            "Learning Rate: 0.000298\n",
            "✓ Saved best model with test accuracy: 75.95%\n",
            "\n",
            "Epoch 26/300\n"
          ]
        },
        {
          "name": "stderr",
          "output_type": "stream",
          "text": [
            "Training: 100%|██████████| 391/391 [00:21<00:00, 18.40it/s, loss=1.2440, acc=64.21%]\n",
            "Validating: 100%|██████████| 79/79 [00:02<00:00, 33.54it/s]\n"
          ]
        },
        {
          "name": "stdout",
          "output_type": "stream",
          "text": [
            "Train Loss: 1.2859, Train Acc: 64.21%\n",
            "Test Loss: 1.0341, Test Acc: 75.54%\n",
            "Learning Rate: 0.000298\n",
            "\n",
            "Epoch 27/300\n"
          ]
        },
        {
          "name": "stderr",
          "output_type": "stream",
          "text": [
            "Training: 100%|██████████| 391/391 [00:21<00:00, 18.26it/s, loss=1.1270, acc=64.78%]\n",
            "Validating: 100%|██████████| 79/79 [00:02<00:00, 33.22it/s]\n"
          ]
        },
        {
          "name": "stdout",
          "output_type": "stream",
          "text": [
            "Train Loss: 1.2770, Train Acc: 64.78%\n",
            "Test Loss: 1.0597, Test Acc: 74.63%\n",
            "Learning Rate: 0.000298\n",
            "\n",
            "Epoch 28/300\n"
          ]
        },
        {
          "name": "stderr",
          "output_type": "stream",
          "text": [
            "Training: 100%|██████████| 391/391 [00:21<00:00, 18.48it/s, loss=1.1472, acc=65.67%]\n",
            "Validating: 100%|██████████| 79/79 [00:02<00:00, 33.19it/s]\n"
          ]
        },
        {
          "name": "stdout",
          "output_type": "stream",
          "text": [
            "Train Loss: 1.2569, Train Acc: 65.67%\n",
            "Test Loss: 1.0241, Test Acc: 76.22%\n",
            "Learning Rate: 0.000297\n",
            "✓ Saved best model with test accuracy: 76.22%\n",
            "\n",
            "Epoch 29/300\n"
          ]
        },
        {
          "name": "stderr",
          "output_type": "stream",
          "text": [
            "Training: 100%|██████████| 391/391 [00:20<00:00, 18.70it/s, loss=1.2545, acc=66.10%]\n",
            "Validating: 100%|██████████| 79/79 [00:02<00:00, 33.41it/s]\n"
          ]
        },
        {
          "name": "stdout",
          "output_type": "stream",
          "text": [
            "Train Loss: 1.2500, Train Acc: 66.10%\n",
            "Test Loss: 1.0242, Test Acc: 75.85%\n",
            "Learning Rate: 0.000297\n",
            "\n",
            "Epoch 30/300\n"
          ]
        },
        {
          "name": "stderr",
          "output_type": "stream",
          "text": [
            "Training: 100%|██████████| 391/391 [00:21<00:00, 18.32it/s, loss=1.2602, acc=66.40%]\n",
            "Validating: 100%|██████████| 79/79 [00:02<00:00, 33.20it/s]\n"
          ]
        },
        {
          "name": "stdout",
          "output_type": "stream",
          "text": [
            "Train Loss: 1.2434, Train Acc: 66.40%\n",
            "Test Loss: 1.0156, Test Acc: 76.77%\n",
            "Learning Rate: 0.000297\n",
            "✓ Saved best model with test accuracy: 76.77%\n",
            "\n",
            "Epoch 31/300\n"
          ]
        },
        {
          "name": "stderr",
          "output_type": "stream",
          "text": [
            "Training: 100%|██████████| 391/391 [00:20<00:00, 18.66it/s, loss=1.3126, acc=66.89%]\n",
            "Validating: 100%|██████████| 79/79 [00:02<00:00, 33.20it/s]\n"
          ]
        },
        {
          "name": "stdout",
          "output_type": "stream",
          "text": [
            "Train Loss: 1.2277, Train Acc: 66.89%\n",
            "Test Loss: 1.0044, Test Acc: 77.30%\n",
            "Learning Rate: 0.000296\n",
            "✓ Saved best model with test accuracy: 77.30%\n",
            "\n",
            "Epoch 32/300\n"
          ]
        },
        {
          "name": "stderr",
          "output_type": "stream",
          "text": [
            "Training: 100%|██████████| 391/391 [00:20<00:00, 18.62it/s, loss=1.2768, acc=67.71%]\n",
            "Validating: 100%|██████████| 79/79 [00:02<00:00, 33.21it/s]\n"
          ]
        },
        {
          "name": "stdout",
          "output_type": "stream",
          "text": [
            "Train Loss: 1.2142, Train Acc: 67.71%\n",
            "Test Loss: 0.9785, Test Acc: 78.06%\n",
            "Learning Rate: 0.000296\n",
            "✓ Saved best model with test accuracy: 78.06%\n",
            "\n",
            "Epoch 33/300\n"
          ]
        },
        {
          "name": "stderr",
          "output_type": "stream",
          "text": [
            "Training: 100%|██████████| 391/391 [00:21<00:00, 18.16it/s, loss=1.3069, acc=68.03%]\n",
            "Validating: 100%|██████████| 79/79 [00:02<00:00, 33.42it/s]\n"
          ]
        },
        {
          "name": "stdout",
          "output_type": "stream",
          "text": [
            "Train Loss: 1.2050, Train Acc: 68.03%\n",
            "Test Loss: 0.9922, Test Acc: 77.60%\n",
            "Learning Rate: 0.000296\n",
            "\n",
            "Epoch 34/300\n"
          ]
        },
        {
          "name": "stderr",
          "output_type": "stream",
          "text": [
            "Training: 100%|██████████| 391/391 [00:21<00:00, 18.47it/s, loss=1.1387, acc=68.79%]\n",
            "Validating: 100%|██████████| 79/79 [00:02<00:00, 33.45it/s]\n"
          ]
        },
        {
          "name": "stdout",
          "output_type": "stream",
          "text": [
            "Train Loss: 1.1922, Train Acc: 68.79%\n",
            "Test Loss: 0.9986, Test Acc: 77.87%\n",
            "Learning Rate: 0.000295\n",
            "\n",
            "Epoch 35/300\n"
          ]
        },
        {
          "name": "stderr",
          "output_type": "stream",
          "text": [
            "Training: 100%|██████████| 391/391 [00:20<00:00, 18.72it/s, loss=1.2525, acc=68.96%]\n",
            "Validating: 100%|██████████| 79/79 [00:02<00:00, 33.25it/s]\n"
          ]
        },
        {
          "name": "stdout",
          "output_type": "stream",
          "text": [
            "Train Loss: 1.1827, Train Acc: 68.96%\n",
            "Test Loss: 1.0201, Test Acc: 76.25%\n",
            "Learning Rate: 0.000295\n",
            "\n",
            "Epoch 36/300\n"
          ]
        },
        {
          "name": "stderr",
          "output_type": "stream",
          "text": [
            "Training: 100%|██████████| 391/391 [00:20<00:00, 18.73it/s, loss=1.1961, acc=69.26%]\n",
            "Validating: 100%|██████████| 79/79 [00:02<00:00, 33.35it/s]\n"
          ]
        },
        {
          "name": "stdout",
          "output_type": "stream",
          "text": [
            "Train Loss: 1.1761, Train Acc: 69.26%\n",
            "Test Loss: 0.9577, Test Acc: 79.07%\n",
            "Learning Rate: 0.000294\n",
            "✓ Saved best model with test accuracy: 79.07%\n",
            "\n",
            "Epoch 37/300\n"
          ]
        },
        {
          "name": "stderr",
          "output_type": "stream",
          "text": [
            "Training: 100%|██████████| 391/391 [00:20<00:00, 18.65it/s, loss=1.1966, acc=69.98%]\n",
            "Validating: 100%|██████████| 79/79 [00:02<00:00, 33.22it/s]\n"
          ]
        },
        {
          "name": "stdout",
          "output_type": "stream",
          "text": [
            "Train Loss: 1.1619, Train Acc: 69.98%\n",
            "Test Loss: 0.9495, Test Acc: 80.09%\n",
            "Learning Rate: 0.000294\n",
            "✓ Saved best model with test accuracy: 80.09%\n",
            "\n",
            "Epoch 38/300\n"
          ]
        },
        {
          "name": "stderr",
          "output_type": "stream",
          "text": [
            "Training: 100%|██████████| 391/391 [00:20<00:00, 18.74it/s, loss=1.2627, acc=70.22%]\n",
            "Validating: 100%|██████████| 79/79 [00:02<00:00, 33.17it/s]\n"
          ]
        },
        {
          "name": "stdout",
          "output_type": "stream",
          "text": [
            "Train Loss: 1.1572, Train Acc: 70.22%\n",
            "Test Loss: 0.9466, Test Acc: 80.05%\n",
            "Learning Rate: 0.000294\n",
            "\n",
            "Epoch 39/300\n"
          ]
        },
        {
          "name": "stderr",
          "output_type": "stream",
          "text": [
            "Training: 100%|██████████| 391/391 [00:20<00:00, 18.63it/s, loss=1.2566, acc=70.64%]\n",
            "Validating: 100%|██████████| 79/79 [00:02<00:00, 33.22it/s]\n"
          ]
        },
        {
          "name": "stdout",
          "output_type": "stream",
          "text": [
            "Train Loss: 1.1485, Train Acc: 70.64%\n",
            "Test Loss: 0.9656, Test Acc: 78.68%\n",
            "Learning Rate: 0.000293\n",
            "\n",
            "Epoch 40/300\n"
          ]
        },
        {
          "name": "stderr",
          "output_type": "stream",
          "text": [
            "Training: 100%|██████████| 391/391 [00:21<00:00, 18.31it/s, loss=1.1262, acc=71.34%]\n",
            "Validating: 100%|██████████| 79/79 [00:02<00:00, 33.51it/s]\n"
          ]
        },
        {
          "name": "stdout",
          "output_type": "stream",
          "text": [
            "Train Loss: 1.1379, Train Acc: 71.34%\n",
            "Test Loss: 0.9597, Test Acc: 79.61%\n",
            "Learning Rate: 0.000293\n",
            "\n",
            "Epoch 41/300\n"
          ]
        },
        {
          "name": "stderr",
          "output_type": "stream",
          "text": [
            "Training: 100%|██████████| 391/391 [00:20<00:00, 18.69it/s, loss=1.1791, acc=71.30%]\n",
            "Validating: 100%|██████████| 79/79 [00:02<00:00, 33.17it/s]\n"
          ]
        },
        {
          "name": "stdout",
          "output_type": "stream",
          "text": [
            "Train Loss: 1.1337, Train Acc: 71.30%\n",
            "Test Loss: 0.9237, Test Acc: 80.77%\n",
            "Learning Rate: 0.000292\n",
            "✓ Saved best model with test accuracy: 80.77%\n",
            "\n",
            "Epoch 42/300\n"
          ]
        },
        {
          "name": "stderr",
          "output_type": "stream",
          "text": [
            "Training: 100%|██████████| 391/391 [00:21<00:00, 18.28it/s, loss=1.2604, acc=71.83%]\n",
            "Validating: 100%|██████████| 79/79 [00:02<00:00, 33.16it/s]\n"
          ]
        },
        {
          "name": "stdout",
          "output_type": "stream",
          "text": [
            "Train Loss: 1.1230, Train Acc: 71.83%\n",
            "Test Loss: 0.9216, Test Acc: 81.00%\n",
            "Learning Rate: 0.000292\n",
            "✓ Saved best model with test accuracy: 81.00%\n",
            "\n",
            "Epoch 43/300\n"
          ]
        },
        {
          "name": "stderr",
          "output_type": "stream",
          "text": [
            "Training: 100%|██████████| 391/391 [00:22<00:00, 17.59it/s, loss=1.0890, acc=72.25%]\n",
            "Validating: 100%|██████████| 79/79 [00:02<00:00, 33.21it/s]\n"
          ]
        },
        {
          "name": "stdout",
          "output_type": "stream",
          "text": [
            "Train Loss: 1.1140, Train Acc: 72.25%\n",
            "Test Loss: 0.9092, Test Acc: 81.81%\n",
            "Learning Rate: 0.000291\n",
            "✓ Saved best model with test accuracy: 81.81%\n",
            "\n",
            "Epoch 44/300\n"
          ]
        },
        {
          "name": "stderr",
          "output_type": "stream",
          "text": [
            "Training: 100%|██████████| 391/391 [00:21<00:00, 18.44it/s, loss=1.1662, acc=72.22%]\n",
            "Validating: 100%|██████████| 79/79 [00:02<00:00, 33.21it/s]\n"
          ]
        },
        {
          "name": "stdout",
          "output_type": "stream",
          "text": [
            "Train Loss: 1.1117, Train Acc: 72.22%\n",
            "Test Loss: 0.9055, Test Acc: 82.03%\n",
            "Learning Rate: 0.000291\n",
            "✓ Saved best model with test accuracy: 82.03%\n",
            "\n",
            "Epoch 45/300\n"
          ]
        },
        {
          "name": "stderr",
          "output_type": "stream",
          "text": [
            "Training: 100%|██████████| 391/391 [00:20<00:00, 19.09it/s, loss=1.1003, acc=72.88%]\n",
            "Validating: 100%|██████████| 79/79 [00:02<00:00, 33.17it/s]\n"
          ]
        },
        {
          "name": "stdout",
          "output_type": "stream",
          "text": [
            "Train Loss: 1.0992, Train Acc: 72.88%\n",
            "Test Loss: 0.9123, Test Acc: 81.30%\n",
            "Learning Rate: 0.000290\n",
            "\n",
            "Epoch 46/300\n"
          ]
        },
        {
          "name": "stderr",
          "output_type": "stream",
          "text": [
            "Training: 100%|██████████| 391/391 [00:21<00:00, 18.56it/s, loss=1.0858, acc=73.52%]\n",
            "Validating: 100%|██████████| 79/79 [00:02<00:00, 33.29it/s]\n"
          ]
        },
        {
          "name": "stdout",
          "output_type": "stream",
          "text": [
            "Train Loss: 1.0883, Train Acc: 73.52%\n",
            "Test Loss: 0.9084, Test Acc: 81.73%\n",
            "Learning Rate: 0.000290\n",
            "\n",
            "Epoch 47/300\n"
          ]
        },
        {
          "name": "stderr",
          "output_type": "stream",
          "text": [
            "Training: 100%|██████████| 391/391 [00:21<00:00, 18.38it/s, loss=1.0775, acc=73.40%]\n",
            "Validating: 100%|██████████| 79/79 [00:02<00:00, 33.23it/s]\n"
          ]
        },
        {
          "name": "stdout",
          "output_type": "stream",
          "text": [
            "Train Loss: 1.0888, Train Acc: 73.40%\n",
            "Test Loss: 0.8899, Test Acc: 82.13%\n",
            "Learning Rate: 0.000289\n",
            "✓ Saved best model with test accuracy: 82.13%\n",
            "\n",
            "Epoch 48/300\n"
          ]
        },
        {
          "name": "stderr",
          "output_type": "stream",
          "text": [
            "Training: 100%|██████████| 391/391 [00:21<00:00, 18.19it/s, loss=0.9614, acc=73.72%]\n",
            "Validating: 100%|██████████| 79/79 [00:02<00:00, 33.28it/s]\n"
          ]
        },
        {
          "name": "stdout",
          "output_type": "stream",
          "text": [
            "Train Loss: 1.0818, Train Acc: 73.72%\n",
            "Test Loss: 0.8976, Test Acc: 82.04%\n",
            "Learning Rate: 0.000288\n",
            "\n",
            "Epoch 49/300\n"
          ]
        },
        {
          "name": "stderr",
          "output_type": "stream",
          "text": [
            "Training: 100%|██████████| 391/391 [00:21<00:00, 18.50it/s, loss=1.1232, acc=73.94%]\n",
            "Validating: 100%|██████████| 79/79 [00:02<00:00, 33.41it/s]\n"
          ]
        },
        {
          "name": "stdout",
          "output_type": "stream",
          "text": [
            "Train Loss: 1.0720, Train Acc: 73.94%\n",
            "Test Loss: 0.8849, Test Acc: 82.67%\n",
            "Learning Rate: 0.000288\n",
            "✓ Saved best model with test accuracy: 82.67%\n",
            "\n",
            "Epoch 50/300\n"
          ]
        },
        {
          "name": "stderr",
          "output_type": "stream",
          "text": [
            "Training: 100%|██████████| 391/391 [00:21<00:00, 18.58it/s, loss=1.1948, acc=74.47%]\n",
            "Validating: 100%|██████████| 79/79 [00:02<00:00, 33.26it/s]\n"
          ]
        },
        {
          "name": "stdout",
          "output_type": "stream",
          "text": [
            "Train Loss: 1.0645, Train Acc: 74.47%\n",
            "Test Loss: 0.8895, Test Acc: 82.52%\n",
            "Learning Rate: 0.000287\n",
            "\n",
            "Epoch 51/300\n"
          ]
        },
        {
          "name": "stderr",
          "output_type": "stream",
          "text": [
            "Training: 100%|██████████| 391/391 [00:19<00:00, 20.25it/s, loss=1.0122, acc=74.90%]\n",
            "Validating: 100%|██████████| 79/79 [00:02<00:00, 33.18it/s]\n"
          ]
        },
        {
          "name": "stdout",
          "output_type": "stream",
          "text": [
            "Train Loss: 1.0561, Train Acc: 74.90%\n",
            "Test Loss: 0.8669, Test Acc: 83.59%\n",
            "Learning Rate: 0.000286\n",
            "✓ Saved best model with test accuracy: 83.59%\n",
            "\n",
            "Epoch 52/300\n"
          ]
        },
        {
          "name": "stderr",
          "output_type": "stream",
          "text": [
            "Training: 100%|██████████| 391/391 [00:21<00:00, 18.24it/s, loss=1.0657, acc=75.06%]\n",
            "Validating: 100%|██████████| 79/79 [00:02<00:00, 33.19it/s]\n"
          ]
        },
        {
          "name": "stdout",
          "output_type": "stream",
          "text": [
            "Train Loss: 1.0501, Train Acc: 75.06%\n",
            "Test Loss: 0.8808, Test Acc: 82.66%\n",
            "Learning Rate: 0.000286\n",
            "\n",
            "Epoch 53/300\n"
          ]
        },
        {
          "name": "stderr",
          "output_type": "stream",
          "text": [
            "Training: 100%|██████████| 391/391 [00:21<00:00, 18.21it/s, loss=1.0488, acc=75.03%]\n",
            "Validating: 100%|██████████| 79/79 [00:02<00:00, 33.23it/s]\n"
          ]
        },
        {
          "name": "stdout",
          "output_type": "stream",
          "text": [
            "Train Loss: 1.0516, Train Acc: 75.03%\n",
            "Test Loss: 0.8627, Test Acc: 83.67%\n",
            "Learning Rate: 0.000285\n",
            "✓ Saved best model with test accuracy: 83.67%\n",
            "\n",
            "Epoch 54/300\n"
          ]
        },
        {
          "name": "stderr",
          "output_type": "stream",
          "text": [
            "Training: 100%|██████████| 391/391 [00:20<00:00, 18.77it/s, loss=1.0639, acc=76.02%]\n",
            "Validating: 100%|██████████| 79/79 [00:02<00:00, 33.17it/s]\n"
          ]
        },
        {
          "name": "stdout",
          "output_type": "stream",
          "text": [
            "Train Loss: 1.0366, Train Acc: 76.02%\n",
            "Test Loss: 0.8806, Test Acc: 83.04%\n",
            "Learning Rate: 0.000284\n",
            "\n",
            "Epoch 55/300\n"
          ]
        },
        {
          "name": "stderr",
          "output_type": "stream",
          "text": [
            "Training: 100%|██████████| 391/391 [00:21<00:00, 18.11it/s, loss=0.9791, acc=75.84%]\n",
            "Validating: 100%|██████████| 79/79 [00:02<00:00, 33.18it/s]\n"
          ]
        },
        {
          "name": "stdout",
          "output_type": "stream",
          "text": [
            "Train Loss: 1.0396, Train Acc: 75.84%\n",
            "Test Loss: 0.8579, Test Acc: 83.92%\n",
            "Learning Rate: 0.000284\n",
            "✓ Saved best model with test accuracy: 83.92%\n",
            "\n",
            "Epoch 56/300\n"
          ]
        },
        {
          "name": "stderr",
          "output_type": "stream",
          "text": [
            "Training: 100%|██████████| 391/391 [00:20<00:00, 18.69it/s, loss=1.0475, acc=76.27%]\n",
            "Validating: 100%|██████████| 79/79 [00:02<00:00, 33.20it/s]\n"
          ]
        },
        {
          "name": "stdout",
          "output_type": "stream",
          "text": [
            "Train Loss: 1.0283, Train Acc: 76.27%\n",
            "Test Loss: 0.8526, Test Acc: 84.07%\n",
            "Learning Rate: 0.000283\n",
            "✓ Saved best model with test accuracy: 84.07%\n",
            "\n",
            "Epoch 57/300\n"
          ]
        },
        {
          "name": "stderr",
          "output_type": "stream",
          "text": [
            "Training: 100%|██████████| 391/391 [00:21<00:00, 18.26it/s, loss=1.0759, acc=76.26%]\n",
            "Validating: 100%|██████████| 79/79 [00:02<00:00, 33.18it/s]\n"
          ]
        },
        {
          "name": "stdout",
          "output_type": "stream",
          "text": [
            "Train Loss: 1.0249, Train Acc: 76.26%\n",
            "Test Loss: 0.8474, Test Acc: 84.39%\n",
            "Learning Rate: 0.000282\n",
            "✓ Saved best model with test accuracy: 84.39%\n",
            "\n",
            "Epoch 58/300\n"
          ]
        },
        {
          "name": "stderr",
          "output_type": "stream",
          "text": [
            "Training: 100%|██████████| 391/391 [00:20<00:00, 18.95it/s, loss=0.8773, acc=76.70%]\n",
            "Validating: 100%|██████████| 79/79 [00:02<00:00, 33.16it/s]\n"
          ]
        },
        {
          "name": "stdout",
          "output_type": "stream",
          "text": [
            "Train Loss: 1.0165, Train Acc: 76.70%\n",
            "Test Loss: 0.8452, Test Acc: 84.62%\n",
            "Learning Rate: 0.000282\n",
            "✓ Saved best model with test accuracy: 84.62%\n",
            "\n",
            "Epoch 59/300\n"
          ]
        },
        {
          "name": "stderr",
          "output_type": "stream",
          "text": [
            "Training: 100%|██████████| 391/391 [00:20<00:00, 19.06it/s, loss=0.9749, acc=76.80%]\n",
            "Validating: 100%|██████████| 79/79 [00:02<00:00, 33.25it/s]\n"
          ]
        },
        {
          "name": "stdout",
          "output_type": "stream",
          "text": [
            "Train Loss: 1.0157, Train Acc: 76.80%\n",
            "Test Loss: 0.8539, Test Acc: 84.07%\n",
            "Learning Rate: 0.000281\n",
            "\n",
            "Epoch 60/300\n"
          ]
        },
        {
          "name": "stderr",
          "output_type": "stream",
          "text": [
            "Training: 100%|██████████| 391/391 [00:20<00:00, 18.73it/s, loss=1.0768, acc=77.03%]\n",
            "Validating: 100%|██████████| 79/79 [00:02<00:00, 33.36it/s]\n"
          ]
        },
        {
          "name": "stdout",
          "output_type": "stream",
          "text": [
            "Train Loss: 1.0070, Train Acc: 77.03%\n",
            "Test Loss: 0.8356, Test Acc: 85.12%\n",
            "Learning Rate: 0.000280\n",
            "✓ Saved best model with test accuracy: 85.12%\n",
            "\n",
            "Epoch 61/300\n"
          ]
        },
        {
          "name": "stderr",
          "output_type": "stream",
          "text": [
            "Training: 100%|██████████| 391/391 [00:21<00:00, 18.30it/s, loss=0.9763, acc=77.37%]\n",
            "Validating: 100%|██████████| 79/79 [00:02<00:00, 33.49it/s]\n"
          ]
        },
        {
          "name": "stdout",
          "output_type": "stream",
          "text": [
            "Train Loss: 1.0012, Train Acc: 77.37%\n",
            "Test Loss: 0.8502, Test Acc: 84.55%\n",
            "Learning Rate: 0.000279\n",
            "\n",
            "Epoch 62/300\n"
          ]
        },
        {
          "name": "stderr",
          "output_type": "stream",
          "text": [
            "Training: 100%|██████████| 391/391 [00:21<00:00, 18.60it/s, loss=1.0578, acc=77.15%]\n",
            "Validating: 100%|██████████| 79/79 [00:02<00:00, 33.27it/s]\n"
          ]
        },
        {
          "name": "stdout",
          "output_type": "stream",
          "text": [
            "Train Loss: 1.0044, Train Acc: 77.15%\n",
            "Test Loss: 0.8295, Test Acc: 85.07%\n",
            "Learning Rate: 0.000278\n",
            "\n",
            "Epoch 63/300\n"
          ]
        },
        {
          "name": "stderr",
          "output_type": "stream",
          "text": [
            "Training: 100%|██████████| 391/391 [00:21<00:00, 18.36it/s, loss=0.7861, acc=77.94%]\n",
            "Validating: 100%|██████████| 79/79 [00:02<00:00, 33.24it/s]\n"
          ]
        },
        {
          "name": "stdout",
          "output_type": "stream",
          "text": [
            "Train Loss: 0.9901, Train Acc: 77.94%\n",
            "Test Loss: 0.8564, Test Acc: 84.52%\n",
            "Learning Rate: 0.000278\n",
            "\n",
            "Epoch 64/300\n"
          ]
        },
        {
          "name": "stderr",
          "output_type": "stream",
          "text": [
            "Training: 100%|██████████| 391/391 [00:20<00:00, 18.92it/s, loss=1.0474, acc=78.06%]\n",
            "Validating: 100%|██████████| 79/79 [00:02<00:00, 33.27it/s]\n"
          ]
        },
        {
          "name": "stdout",
          "output_type": "stream",
          "text": [
            "Train Loss: 0.9881, Train Acc: 78.06%\n",
            "Test Loss: 0.8416, Test Acc: 84.88%\n",
            "Learning Rate: 0.000277\n",
            "\n",
            "Epoch 65/300\n"
          ]
        },
        {
          "name": "stderr",
          "output_type": "stream",
          "text": [
            "Training: 100%|██████████| 391/391 [00:20<00:00, 18.83it/s, loss=0.9977, acc=78.13%]\n",
            "Validating: 100%|██████████| 79/79 [00:02<00:00, 33.21it/s]\n"
          ]
        },
        {
          "name": "stdout",
          "output_type": "stream",
          "text": [
            "Train Loss: 0.9850, Train Acc: 78.13%\n",
            "Test Loss: 0.8504, Test Acc: 84.23%\n",
            "Learning Rate: 0.000276\n",
            "\n",
            "Epoch 66/300\n"
          ]
        },
        {
          "name": "stderr",
          "output_type": "stream",
          "text": [
            "Training: 100%|██████████| 391/391 [00:21<00:00, 18.55it/s, loss=1.0054, acc=78.28%]\n",
            "Validating: 100%|██████████| 79/79 [00:02<00:00, 33.38it/s]\n"
          ]
        },
        {
          "name": "stdout",
          "output_type": "stream",
          "text": [
            "Train Loss: 0.9791, Train Acc: 78.28%\n",
            "Test Loss: 0.8251, Test Acc: 85.58%\n",
            "Learning Rate: 0.000275\n",
            "✓ Saved best model with test accuracy: 85.58%\n",
            "\n",
            "Epoch 67/300\n"
          ]
        },
        {
          "name": "stderr",
          "output_type": "stream",
          "text": [
            "Training: 100%|██████████| 391/391 [00:21<00:00, 18.56it/s, loss=0.9458, acc=78.50%]\n",
            "Validating: 100%|██████████| 79/79 [00:02<00:00, 33.43it/s]\n"
          ]
        },
        {
          "name": "stdout",
          "output_type": "stream",
          "text": [
            "Train Loss: 0.9768, Train Acc: 78.50%\n",
            "Test Loss: 0.8153, Test Acc: 86.18%\n",
            "Learning Rate: 0.000274\n",
            "✓ Saved best model with test accuracy: 86.18%\n",
            "\n",
            "Epoch 68/300\n"
          ]
        },
        {
          "name": "stderr",
          "output_type": "stream",
          "text": [
            "Training: 100%|██████████| 391/391 [00:21<00:00, 18.60it/s, loss=0.8791, acc=78.96%]\n",
            "Validating: 100%|██████████| 79/79 [00:02<00:00, 33.20it/s]\n"
          ]
        },
        {
          "name": "stdout",
          "output_type": "stream",
          "text": [
            "Train Loss: 0.9678, Train Acc: 78.96%\n",
            "Test Loss: 0.8242, Test Acc: 85.78%\n",
            "Learning Rate: 0.000273\n",
            "\n",
            "Epoch 69/300\n"
          ]
        },
        {
          "name": "stderr",
          "output_type": "stream",
          "text": [
            "Training: 100%|██████████| 391/391 [00:21<00:00, 18.43it/s, loss=1.0405, acc=79.14%]\n",
            "Validating: 100%|██████████| 79/79 [00:02<00:00, 33.24it/s]\n"
          ]
        },
        {
          "name": "stdout",
          "output_type": "stream",
          "text": [
            "Train Loss: 0.9646, Train Acc: 79.14%\n",
            "Test Loss: 0.8233, Test Acc: 85.70%\n",
            "Learning Rate: 0.000272\n",
            "\n",
            "Epoch 70/300\n"
          ]
        },
        {
          "name": "stderr",
          "output_type": "stream",
          "text": [
            "Training: 100%|██████████| 391/391 [00:21<00:00, 18.51it/s, loss=0.8099, acc=79.17%]\n",
            "Validating: 100%|██████████| 79/79 [00:02<00:00, 33.22it/s]\n"
          ]
        },
        {
          "name": "stdout",
          "output_type": "stream",
          "text": [
            "Train Loss: 0.9605, Train Acc: 79.17%\n",
            "Test Loss: 0.8155, Test Acc: 86.11%\n",
            "Learning Rate: 0.000271\n",
            "\n",
            "Epoch 71/300\n"
          ]
        },
        {
          "name": "stderr",
          "output_type": "stream",
          "text": [
            "Training: 100%|██████████| 391/391 [00:20<00:00, 18.62it/s, loss=0.9618, acc=79.44%]\n",
            "Validating: 100%|██████████| 79/79 [00:02<00:00, 33.18it/s]\n"
          ]
        },
        {
          "name": "stdout",
          "output_type": "stream",
          "text": [
            "Train Loss: 0.9552, Train Acc: 79.44%\n",
            "Test Loss: 0.8027, Test Acc: 86.72%\n",
            "Learning Rate: 0.000271\n",
            "✓ Saved best model with test accuracy: 86.72%\n",
            "\n",
            "Epoch 72/300\n"
          ]
        },
        {
          "name": "stderr",
          "output_type": "stream",
          "text": [
            "Training: 100%|██████████| 391/391 [00:21<00:00, 18.39it/s, loss=1.0444, acc=79.53%]\n",
            "Validating: 100%|██████████| 79/79 [00:02<00:00, 33.25it/s]\n"
          ]
        },
        {
          "name": "stdout",
          "output_type": "stream",
          "text": [
            "Train Loss: 0.9528, Train Acc: 79.53%\n",
            "Test Loss: 0.8060, Test Acc: 86.65%\n",
            "Learning Rate: 0.000270\n",
            "\n",
            "Epoch 73/300\n"
          ]
        },
        {
          "name": "stderr",
          "output_type": "stream",
          "text": [
            "Training: 100%|██████████| 391/391 [00:21<00:00, 18.50it/s, loss=0.8253, acc=79.99%]\n",
            "Validating: 100%|██████████| 79/79 [00:02<00:00, 33.47it/s]\n"
          ]
        },
        {
          "name": "stdout",
          "output_type": "stream",
          "text": [
            "Train Loss: 0.9434, Train Acc: 79.99%\n",
            "Test Loss: 0.7943, Test Acc: 87.07%\n",
            "Learning Rate: 0.000269\n",
            "✓ Saved best model with test accuracy: 87.07%\n",
            "\n",
            "Epoch 74/300\n"
          ]
        },
        {
          "name": "stderr",
          "output_type": "stream",
          "text": [
            "Training: 100%|██████████| 391/391 [00:20<00:00, 18.64it/s, loss=1.1471, acc=80.22%]\n",
            "Validating: 100%|██████████| 79/79 [00:02<00:00, 33.15it/s]\n"
          ]
        },
        {
          "name": "stdout",
          "output_type": "stream",
          "text": [
            "Train Loss: 0.9387, Train Acc: 80.22%\n",
            "Test Loss: 0.8163, Test Acc: 86.24%\n",
            "Learning Rate: 0.000268\n",
            "\n",
            "Epoch 75/300\n"
          ]
        },
        {
          "name": "stderr",
          "output_type": "stream",
          "text": [
            "Training: 100%|██████████| 391/391 [00:20<00:00, 18.65it/s, loss=0.9154, acc=80.53%]\n",
            "Validating: 100%|██████████| 79/79 [00:02<00:00, 33.46it/s]\n"
          ]
        },
        {
          "name": "stdout",
          "output_type": "stream",
          "text": [
            "Train Loss: 0.9342, Train Acc: 80.53%\n",
            "Test Loss: 0.8000, Test Acc: 86.91%\n",
            "Learning Rate: 0.000267\n",
            "\n",
            "Epoch 76/300\n"
          ]
        },
        {
          "name": "stderr",
          "output_type": "stream",
          "text": [
            "Training: 100%|██████████| 391/391 [00:21<00:00, 18.54it/s, loss=0.9449, acc=80.26%]\n",
            "Validating: 100%|██████████| 79/79 [00:02<00:00, 33.17it/s]\n"
          ]
        },
        {
          "name": "stdout",
          "output_type": "stream",
          "text": [
            "Train Loss: 0.9378, Train Acc: 80.26%\n",
            "Test Loss: 0.7996, Test Acc: 86.67%\n",
            "Learning Rate: 0.000266\n",
            "\n",
            "Epoch 77/300\n"
          ]
        },
        {
          "name": "stderr",
          "output_type": "stream",
          "text": [
            "Training: 100%|██████████| 391/391 [00:20<00:00, 18.68it/s, loss=1.1849, acc=80.93%]\n",
            "Validating: 100%|██████████| 79/79 [00:02<00:00, 33.20it/s]\n"
          ]
        },
        {
          "name": "stdout",
          "output_type": "stream",
          "text": [
            "Train Loss: 0.9254, Train Acc: 80.93%\n",
            "Test Loss: 0.8188, Test Acc: 86.50%\n",
            "Learning Rate: 0.000265\n",
            "\n",
            "Epoch 78/300\n"
          ]
        },
        {
          "name": "stderr",
          "output_type": "stream",
          "text": [
            "Training: 100%|██████████| 391/391 [00:18<00:00, 21.56it/s, loss=0.9577, acc=81.00%]\n",
            "Validating: 100%|██████████| 79/79 [00:02<00:00, 33.19it/s]\n"
          ]
        },
        {
          "name": "stdout",
          "output_type": "stream",
          "text": [
            "Train Loss: 0.9231, Train Acc: 81.00%\n",
            "Test Loss: 0.8085, Test Acc: 86.57%\n",
            "Learning Rate: 0.000264\n",
            "\n",
            "Epoch 79/300\n"
          ]
        },
        {
          "name": "stderr",
          "output_type": "stream",
          "text": [
            "Training: 100%|██████████| 391/391 [00:20<00:00, 19.43it/s, loss=0.9239, acc=81.08%]\n",
            "Validating: 100%|██████████| 79/79 [00:02<00:00, 33.13it/s]\n"
          ]
        },
        {
          "name": "stdout",
          "output_type": "stream",
          "text": [
            "Train Loss: 0.9167, Train Acc: 81.08%\n",
            "Test Loss: 0.8000, Test Acc: 86.99%\n",
            "Learning Rate: 0.000263\n",
            "\n",
            "Epoch 80/300\n"
          ]
        },
        {
          "name": "stderr",
          "output_type": "stream",
          "text": [
            "Training: 100%|██████████| 391/391 [00:21<00:00, 18.48it/s, loss=0.8504, acc=81.33%]\n",
            "Validating: 100%|██████████| 79/79 [00:02<00:00, 33.18it/s]\n"
          ]
        },
        {
          "name": "stdout",
          "output_type": "stream",
          "text": [
            "Train Loss: 0.9141, Train Acc: 81.33%\n",
            "Test Loss: 0.7915, Test Acc: 87.31%\n",
            "Learning Rate: 0.000262\n",
            "✓ Saved best model with test accuracy: 87.31%\n",
            "\n",
            "Epoch 81/300\n"
          ]
        },
        {
          "name": "stderr",
          "output_type": "stream",
          "text": [
            "Training: 100%|██████████| 391/391 [00:21<00:00, 18.50it/s, loss=0.8976, acc=81.30%]\n",
            "Validating: 100%|██████████| 79/79 [00:02<00:00, 33.22it/s]\n"
          ]
        },
        {
          "name": "stdout",
          "output_type": "stream",
          "text": [
            "Train Loss: 0.9097, Train Acc: 81.30%\n",
            "Test Loss: 0.7836, Test Acc: 87.75%\n",
            "Learning Rate: 0.000261\n",
            "✓ Saved best model with test accuracy: 87.75%\n",
            "\n",
            "Epoch 82/300\n"
          ]
        },
        {
          "name": "stderr",
          "output_type": "stream",
          "text": [
            "Training: 100%|██████████| 391/391 [00:21<00:00, 18.22it/s, loss=0.8650, acc=81.64%]\n",
            "Validating: 100%|██████████| 79/79 [00:02<00:00, 33.20it/s]\n"
          ]
        },
        {
          "name": "stdout",
          "output_type": "stream",
          "text": [
            "Train Loss: 0.9069, Train Acc: 81.64%\n",
            "Test Loss: 0.7885, Test Acc: 87.45%\n",
            "Learning Rate: 0.000259\n",
            "\n",
            "Epoch 83/300\n"
          ]
        },
        {
          "name": "stderr",
          "output_type": "stream",
          "text": [
            "Training: 100%|██████████| 391/391 [00:21<00:00, 18.47it/s, loss=0.8141, acc=82.00%]\n",
            "Validating: 100%|██████████| 79/79 [00:02<00:00, 33.19it/s]\n"
          ]
        },
        {
          "name": "stdout",
          "output_type": "stream",
          "text": [
            "Train Loss: 0.9000, Train Acc: 82.00%\n",
            "Test Loss: 0.8018, Test Acc: 87.52%\n",
            "Learning Rate: 0.000258\n",
            "\n",
            "Epoch 84/300\n"
          ]
        },
        {
          "name": "stderr",
          "output_type": "stream",
          "text": [
            "Training: 100%|██████████| 391/391 [00:21<00:00, 18.50it/s, loss=0.8166, acc=82.00%]\n",
            "Validating: 100%|██████████| 79/79 [00:02<00:00, 33.18it/s]\n"
          ]
        },
        {
          "name": "stdout",
          "output_type": "stream",
          "text": [
            "Train Loss: 0.8992, Train Acc: 82.00%\n",
            "Test Loss: 0.7843, Test Acc: 87.66%\n",
            "Learning Rate: 0.000257\n",
            "\n",
            "Epoch 85/300\n"
          ]
        },
        {
          "name": "stderr",
          "output_type": "stream",
          "text": [
            "Training: 100%|██████████| 391/391 [00:21<00:00, 18.27it/s, loss=0.9614, acc=82.16%]\n",
            "Validating: 100%|██████████| 79/79 [00:02<00:00, 33.25it/s]\n"
          ]
        },
        {
          "name": "stdout",
          "output_type": "stream",
          "text": [
            "Train Loss: 0.8945, Train Acc: 82.16%\n",
            "Test Loss: 0.7842, Test Acc: 87.67%\n",
            "Learning Rate: 0.000256\n",
            "\n",
            "Epoch 86/300\n"
          ]
        },
        {
          "name": "stderr",
          "output_type": "stream",
          "text": [
            "Training: 100%|██████████| 391/391 [00:21<00:00, 18.35it/s, loss=0.8796, acc=82.30%]\n",
            "Validating: 100%|██████████| 79/79 [00:02<00:00, 33.19it/s]\n"
          ]
        },
        {
          "name": "stdout",
          "output_type": "stream",
          "text": [
            "Train Loss: 0.8880, Train Acc: 82.30%\n",
            "Test Loss: 0.7978, Test Acc: 87.32%\n",
            "Learning Rate: 0.000255\n",
            "\n",
            "Epoch 87/300\n"
          ]
        },
        {
          "name": "stderr",
          "output_type": "stream",
          "text": [
            "Training: 100%|██████████| 391/391 [00:21<00:00, 18.52it/s, loss=0.8667, acc=82.74%]\n",
            "Validating: 100%|██████████| 79/79 [00:02<00:00, 33.20it/s]\n"
          ]
        },
        {
          "name": "stdout",
          "output_type": "stream",
          "text": [
            "Train Loss: 0.8843, Train Acc: 82.74%\n",
            "Test Loss: 0.7895, Test Acc: 87.82%\n",
            "Learning Rate: 0.000254\n",
            "✓ Saved best model with test accuracy: 87.82%\n",
            "\n",
            "Epoch 88/300\n"
          ]
        },
        {
          "name": "stderr",
          "output_type": "stream",
          "text": [
            "Training: 100%|██████████| 391/391 [00:20<00:00, 19.27it/s, loss=1.0246, acc=82.71%]\n",
            "Validating: 100%|██████████| 79/79 [00:02<00:00, 33.51it/s]\n"
          ]
        },
        {
          "name": "stdout",
          "output_type": "stream",
          "text": [
            "Train Loss: 0.8833, Train Acc: 82.71%\n",
            "Test Loss: 0.7929, Test Acc: 87.50%\n",
            "Learning Rate: 0.000253\n",
            "\n",
            "Epoch 89/300\n"
          ]
        },
        {
          "name": "stderr",
          "output_type": "stream",
          "text": [
            "Training: 100%|██████████| 391/391 [00:20<00:00, 18.69it/s, loss=0.7537, acc=83.12%]\n",
            "Validating: 100%|██████████| 79/79 [00:02<00:00, 33.17it/s]\n"
          ]
        },
        {
          "name": "stdout",
          "output_type": "stream",
          "text": [
            "Train Loss: 0.8772, Train Acc: 83.12%\n",
            "Test Loss: 0.7924, Test Acc: 87.48%\n",
            "Learning Rate: 0.000252\n",
            "\n",
            "Epoch 90/300\n"
          ]
        },
        {
          "name": "stderr",
          "output_type": "stream",
          "text": [
            "Training: 100%|██████████| 391/391 [00:18<00:00, 21.30it/s, loss=0.9334, acc=83.35%]\n",
            "Validating: 100%|██████████| 79/79 [00:02<00:00, 32.99it/s]\n"
          ]
        },
        {
          "name": "stdout",
          "output_type": "stream",
          "text": [
            "Train Loss: 0.8692, Train Acc: 83.35%\n",
            "Test Loss: 0.7837, Test Acc: 87.84%\n",
            "Learning Rate: 0.000251\n",
            "✓ Saved best model with test accuracy: 87.84%\n",
            "\n",
            "Epoch 91/300\n"
          ]
        },
        {
          "name": "stderr",
          "output_type": "stream",
          "text": [
            "Training: 100%|██████████| 391/391 [00:18<00:00, 21.11it/s, loss=0.8618, acc=83.44%]\n",
            "Validating: 100%|██████████| 79/79 [00:02<00:00, 33.05it/s]\n"
          ]
        },
        {
          "name": "stdout",
          "output_type": "stream",
          "text": [
            "Train Loss: 0.8679, Train Acc: 83.44%\n",
            "Test Loss: 0.7704, Test Acc: 88.59%\n",
            "Learning Rate: 0.000249\n",
            "✓ Saved best model with test accuracy: 88.59%\n",
            "\n",
            "Epoch 92/300\n"
          ]
        },
        {
          "name": "stderr",
          "output_type": "stream",
          "text": [
            "Training: 100%|██████████| 391/391 [00:21<00:00, 18.49it/s, loss=0.8804, acc=83.83%]\n",
            "Validating: 100%|██████████| 79/79 [00:02<00:00, 33.19it/s]\n"
          ]
        },
        {
          "name": "stdout",
          "output_type": "stream",
          "text": [
            "Train Loss: 0.8611, Train Acc: 83.83%\n",
            "Test Loss: 0.7848, Test Acc: 88.03%\n",
            "Learning Rate: 0.000248\n",
            "\n",
            "Epoch 93/300\n"
          ]
        },
        {
          "name": "stderr",
          "output_type": "stream",
          "text": [
            "Training: 100%|██████████| 391/391 [00:20<00:00, 18.81it/s, loss=0.8781, acc=83.79%]\n",
            "Validating: 100%|██████████| 79/79 [00:02<00:00, 33.15it/s]\n"
          ]
        },
        {
          "name": "stdout",
          "output_type": "stream",
          "text": [
            "Train Loss: 0.8598, Train Acc: 83.79%\n",
            "Test Loss: 0.7924, Test Acc: 87.64%\n",
            "Learning Rate: 0.000247\n",
            "\n",
            "Epoch 94/300\n"
          ]
        },
        {
          "name": "stderr",
          "output_type": "stream",
          "text": [
            "Training: 100%|██████████| 391/391 [00:21<00:00, 18.43it/s, loss=0.7831, acc=83.85%]\n",
            "Validating: 100%|██████████| 79/79 [00:02<00:00, 33.12it/s]\n"
          ]
        },
        {
          "name": "stdout",
          "output_type": "stream",
          "text": [
            "Train Loss: 0.8588, Train Acc: 83.85%\n",
            "Test Loss: 0.7825, Test Acc: 87.89%\n",
            "Learning Rate: 0.000246\n",
            "\n",
            "Epoch 95/300\n"
          ]
        },
        {
          "name": "stderr",
          "output_type": "stream",
          "text": [
            "Training: 100%|██████████| 391/391 [00:20<00:00, 18.67it/s, loss=0.8858, acc=84.24%]\n",
            "Validating: 100%|██████████| 79/79 [00:02<00:00, 33.20it/s]\n"
          ]
        },
        {
          "name": "stdout",
          "output_type": "stream",
          "text": [
            "Train Loss: 0.8519, Train Acc: 84.24%\n",
            "Test Loss: 0.7794, Test Acc: 88.11%\n",
            "Learning Rate: 0.000245\n",
            "\n",
            "Epoch 96/300\n"
          ]
        },
        {
          "name": "stderr",
          "output_type": "stream",
          "text": [
            "Training: 100%|██████████| 391/391 [00:21<00:00, 18.49it/s, loss=0.7900, acc=84.30%]\n",
            "Validating: 100%|██████████| 79/79 [00:02<00:00, 33.11it/s]\n"
          ]
        },
        {
          "name": "stdout",
          "output_type": "stream",
          "text": [
            "Train Loss: 0.8516, Train Acc: 84.30%\n",
            "Test Loss: 0.7837, Test Acc: 87.77%\n",
            "Learning Rate: 0.000243\n",
            "\n",
            "Epoch 97/300\n"
          ]
        },
        {
          "name": "stderr",
          "output_type": "stream",
          "text": [
            "Training: 100%|██████████| 391/391 [00:21<00:00, 18.31it/s, loss=0.8237, acc=84.28%]\n",
            "Validating: 100%|██████████| 79/79 [00:02<00:00, 33.16it/s]\n"
          ]
        },
        {
          "name": "stdout",
          "output_type": "stream",
          "text": [
            "Train Loss: 0.8481, Train Acc: 84.28%\n",
            "Test Loss: 0.7782, Test Acc: 88.36%\n",
            "Learning Rate: 0.000242\n",
            "\n",
            "Epoch 98/300\n"
          ]
        },
        {
          "name": "stderr",
          "output_type": "stream",
          "text": [
            "Training: 100%|██████████| 391/391 [00:19<00:00, 19.69it/s, loss=0.7830, acc=84.40%]\n",
            "Validating: 100%|██████████| 79/79 [00:02<00:00, 33.39it/s]\n"
          ]
        },
        {
          "name": "stdout",
          "output_type": "stream",
          "text": [
            "Train Loss: 0.8443, Train Acc: 84.40%\n",
            "Test Loss: 0.7840, Test Acc: 88.22%\n",
            "Learning Rate: 0.000241\n",
            "\n",
            "Epoch 99/300\n"
          ]
        },
        {
          "name": "stderr",
          "output_type": "stream",
          "text": [
            "Training: 100%|██████████| 391/391 [00:21<00:00, 18.53it/s, loss=0.9176, acc=84.58%]\n",
            "Validating: 100%|██████████| 79/79 [00:02<00:00, 33.11it/s]\n"
          ]
        },
        {
          "name": "stdout",
          "output_type": "stream",
          "text": [
            "Train Loss: 0.8427, Train Acc: 84.58%\n",
            "Test Loss: 0.7779, Test Acc: 88.34%\n",
            "Learning Rate: 0.000240\n",
            "\n",
            "Epoch 100/300\n"
          ]
        },
        {
          "name": "stderr",
          "output_type": "stream",
          "text": [
            "Training: 100%|██████████| 391/391 [00:19<00:00, 20.34it/s, loss=0.7979, acc=84.72%]\n",
            "Validating: 100%|██████████| 79/79 [00:02<00:00, 33.36it/s]\n"
          ]
        },
        {
          "name": "stdout",
          "output_type": "stream",
          "text": [
            "Train Loss: 0.8373, Train Acc: 84.72%\n",
            "Test Loss: 0.7851, Test Acc: 88.33%\n",
            "Learning Rate: 0.000238\n",
            "\n",
            "Epoch 101/300\n"
          ]
        },
        {
          "name": "stderr",
          "output_type": "stream",
          "text": [
            "Training: 100%|██████████| 391/391 [00:20<00:00, 19.14it/s, loss=0.8727, acc=84.87%]\n",
            "Validating: 100%|██████████| 79/79 [00:02<00:00, 33.36it/s]\n"
          ]
        },
        {
          "name": "stdout",
          "output_type": "stream",
          "text": [
            "Train Loss: 0.8372, Train Acc: 84.87%\n",
            "Test Loss: 0.7628, Test Acc: 88.84%\n",
            "Learning Rate: 0.000237\n",
            "✓ Saved best model with test accuracy: 88.84%\n",
            "\n",
            "Epoch 102/300\n"
          ]
        },
        {
          "name": "stderr",
          "output_type": "stream",
          "text": [
            "Training: 100%|██████████| 391/391 [00:21<00:00, 18.37it/s, loss=0.7225, acc=85.32%]\n",
            "Validating: 100%|██████████| 79/79 [00:02<00:00, 33.22it/s]\n"
          ]
        },
        {
          "name": "stdout",
          "output_type": "stream",
          "text": [
            "Train Loss: 0.8263, Train Acc: 85.32%\n",
            "Test Loss: 0.7960, Test Acc: 87.66%\n",
            "Learning Rate: 0.000236\n",
            "\n",
            "Epoch 103/300\n"
          ]
        },
        {
          "name": "stderr",
          "output_type": "stream",
          "text": [
            "Training: 100%|██████████| 391/391 [00:21<00:00, 18.11it/s, loss=0.8806, acc=85.03%]\n",
            "Validating: 100%|██████████| 79/79 [00:02<00:00, 33.19it/s]\n"
          ]
        },
        {
          "name": "stdout",
          "output_type": "stream",
          "text": [
            "Train Loss: 0.8291, Train Acc: 85.03%\n",
            "Test Loss: 0.7783, Test Acc: 88.05%\n",
            "Learning Rate: 0.000235\n",
            "\n",
            "Epoch 104/300\n"
          ]
        },
        {
          "name": "stderr",
          "output_type": "stream",
          "text": [
            "Training: 100%|██████████| 391/391 [00:21<00:00, 18.28it/s, loss=0.7552, acc=85.15%]\n",
            "Validating: 100%|██████████| 79/79 [00:02<00:00, 33.30it/s]\n"
          ]
        },
        {
          "name": "stdout",
          "output_type": "stream",
          "text": [
            "Train Loss: 0.8289, Train Acc: 85.15%\n",
            "Test Loss: 0.7705, Test Acc: 88.61%\n",
            "Learning Rate: 0.000233\n",
            "\n",
            "Epoch 105/300\n"
          ]
        },
        {
          "name": "stderr",
          "output_type": "stream",
          "text": [
            "Training: 100%|██████████| 391/391 [00:20<00:00, 18.68it/s, loss=0.8813, acc=85.17%]\n",
            "Validating: 100%|██████████| 79/79 [00:02<00:00, 33.09it/s]\n"
          ]
        },
        {
          "name": "stdout",
          "output_type": "stream",
          "text": [
            "Train Loss: 0.8275, Train Acc: 85.17%\n",
            "Test Loss: 0.7738, Test Acc: 88.77%\n",
            "Learning Rate: 0.000232\n",
            "\n",
            "Epoch 106/300\n"
          ]
        },
        {
          "name": "stderr",
          "output_type": "stream",
          "text": [
            "Training: 100%|██████████| 391/391 [00:21<00:00, 18.46it/s, loss=0.9014, acc=85.66%]\n",
            "Validating: 100%|██████████| 79/79 [00:02<00:00, 33.37it/s]\n"
          ]
        },
        {
          "name": "stdout",
          "output_type": "stream",
          "text": [
            "Train Loss: 0.8179, Train Acc: 85.66%\n",
            "Test Loss: 0.7756, Test Acc: 88.56%\n",
            "Learning Rate: 0.000231\n",
            "\n",
            "Epoch 107/300\n"
          ]
        },
        {
          "name": "stderr",
          "output_type": "stream",
          "text": [
            "Training: 100%|██████████| 391/391 [00:20<00:00, 18.66it/s, loss=0.7620, acc=86.00%]\n",
            "Validating: 100%|██████████| 79/79 [00:02<00:00, 33.21it/s]\n"
          ]
        },
        {
          "name": "stdout",
          "output_type": "stream",
          "text": [
            "Train Loss: 0.8142, Train Acc: 86.00%\n",
            "Test Loss: 0.7836, Test Acc: 88.55%\n",
            "Learning Rate: 0.000229\n",
            "\n",
            "Epoch 108/300\n"
          ]
        },
        {
          "name": "stderr",
          "output_type": "stream",
          "text": [
            "Training: 100%|██████████| 391/391 [00:21<00:00, 18.56it/s, loss=0.7324, acc=85.84%]\n",
            "Validating: 100%|██████████| 79/79 [00:02<00:00, 33.43it/s]\n"
          ]
        },
        {
          "name": "stdout",
          "output_type": "stream",
          "text": [
            "Train Loss: 0.8156, Train Acc: 85.84%\n",
            "Test Loss: 0.7645, Test Acc: 89.32%\n",
            "Learning Rate: 0.000228\n",
            "✓ Saved best model with test accuracy: 89.32%\n",
            "\n",
            "Epoch 109/300\n"
          ]
        },
        {
          "name": "stderr",
          "output_type": "stream",
          "text": [
            "Training: 100%|██████████| 391/391 [00:20<00:00, 18.77it/s, loss=0.8497, acc=86.12%]\n",
            "Validating: 100%|██████████| 79/79 [00:02<00:00, 33.47it/s]\n"
          ]
        },
        {
          "name": "stdout",
          "output_type": "stream",
          "text": [
            "Train Loss: 0.8114, Train Acc: 86.12%\n",
            "Test Loss: 0.7712, Test Acc: 88.84%\n",
            "Learning Rate: 0.000227\n",
            "\n",
            "Epoch 110/300\n"
          ]
        },
        {
          "name": "stderr",
          "output_type": "stream",
          "text": [
            "Training: 100%|██████████| 391/391 [00:20<00:00, 18.71it/s, loss=0.8111, acc=86.00%]\n",
            "Validating: 100%|██████████| 79/79 [00:02<00:00, 33.20it/s]\n"
          ]
        },
        {
          "name": "stdout",
          "output_type": "stream",
          "text": [
            "Train Loss: 0.8121, Train Acc: 86.00%\n",
            "Test Loss: 0.7780, Test Acc: 88.66%\n",
            "Learning Rate: 0.000225\n",
            "\n",
            "Epoch 111/300\n"
          ]
        },
        {
          "name": "stderr",
          "output_type": "stream",
          "text": [
            "Training: 100%|██████████| 391/391 [00:20<00:00, 18.91it/s, loss=0.6722, acc=86.17%]\n",
            "Validating: 100%|██████████| 79/79 [00:02<00:00, 33.41it/s]\n"
          ]
        },
        {
          "name": "stdout",
          "output_type": "stream",
          "text": [
            "Train Loss: 0.8072, Train Acc: 86.17%\n",
            "Test Loss: 0.7677, Test Acc: 89.04%\n",
            "Learning Rate: 0.000224\n",
            "\n",
            "Epoch 112/300\n"
          ]
        },
        {
          "name": "stderr",
          "output_type": "stream",
          "text": [
            "Training: 100%|██████████| 391/391 [00:21<00:00, 18.39it/s, loss=0.6653, acc=86.45%]\n",
            "Validating: 100%|██████████| 79/79 [00:02<00:00, 33.10it/s]\n"
          ]
        },
        {
          "name": "stdout",
          "output_type": "stream",
          "text": [
            "Train Loss: 0.8046, Train Acc: 86.45%\n",
            "Test Loss: 0.7711, Test Acc: 89.31%\n",
            "Learning Rate: 0.000223\n",
            "\n",
            "Epoch 113/300\n"
          ]
        },
        {
          "name": "stderr",
          "output_type": "stream",
          "text": [
            "Training: 100%|██████████| 391/391 [00:19<00:00, 19.58it/s, loss=0.6597, acc=86.21%]\n",
            "Validating: 100%|██████████| 79/79 [00:02<00:00, 33.43it/s]\n"
          ]
        },
        {
          "name": "stdout",
          "output_type": "stream",
          "text": [
            "Train Loss: 0.8033, Train Acc: 86.21%\n",
            "Test Loss: 0.7567, Test Acc: 89.45%\n",
            "Learning Rate: 0.000221\n",
            "✓ Saved best model with test accuracy: 89.45%\n",
            "\n",
            "Epoch 114/300\n"
          ]
        },
        {
          "name": "stderr",
          "output_type": "stream",
          "text": [
            "Training: 100%|██████████| 391/391 [00:18<00:00, 21.42it/s, loss=0.8202, acc=86.36%]\n",
            "Validating: 100%|██████████| 79/79 [00:02<00:00, 33.38it/s]\n"
          ]
        },
        {
          "name": "stdout",
          "output_type": "stream",
          "text": [
            "Train Loss: 0.8032, Train Acc: 86.36%\n",
            "Test Loss: 0.7758, Test Acc: 88.74%\n",
            "Learning Rate: 0.000220\n",
            "\n",
            "Epoch 115/300\n"
          ]
        },
        {
          "name": "stderr",
          "output_type": "stream",
          "text": [
            "Training: 100%|██████████| 391/391 [00:18<00:00, 21.00it/s, loss=0.7761, acc=86.33%]\n",
            "Validating: 100%|██████████| 79/79 [00:02<00:00, 33.11it/s]\n"
          ]
        },
        {
          "name": "stdout",
          "output_type": "stream",
          "text": [
            "Train Loss: 0.8022, Train Acc: 86.33%\n",
            "Test Loss: 0.7652, Test Acc: 89.57%\n",
            "Learning Rate: 0.000218\n",
            "✓ Saved best model with test accuracy: 89.57%\n",
            "\n",
            "Epoch 116/300\n"
          ]
        },
        {
          "name": "stderr",
          "output_type": "stream",
          "text": [
            "Training: 100%|██████████| 391/391 [00:20<00:00, 19.50it/s, loss=0.8573, acc=86.72%]\n",
            "Validating: 100%|██████████| 79/79 [00:02<00:00, 33.48it/s]\n"
          ]
        },
        {
          "name": "stdout",
          "output_type": "stream",
          "text": [
            "Train Loss: 0.7947, Train Acc: 86.72%\n",
            "Test Loss: 0.7533, Test Acc: 89.65%\n",
            "Learning Rate: 0.000217\n",
            "✓ Saved best model with test accuracy: 89.65%\n",
            "\n",
            "Epoch 117/300\n"
          ]
        },
        {
          "name": "stderr",
          "output_type": "stream",
          "text": [
            "Training: 100%|██████████| 391/391 [00:21<00:00, 18.54it/s, loss=0.7513, acc=86.80%]\n",
            "Validating: 100%|██████████| 79/79 [00:02<00:00, 32.92it/s]\n"
          ]
        },
        {
          "name": "stdout",
          "output_type": "stream",
          "text": [
            "Train Loss: 0.7965, Train Acc: 86.80%\n",
            "Test Loss: 0.7779, Test Acc: 89.12%\n",
            "Learning Rate: 0.000216\n",
            "\n",
            "Epoch 118/300\n"
          ]
        },
        {
          "name": "stderr",
          "output_type": "stream",
          "text": [
            "Training: 100%|██████████| 391/391 [00:21<00:00, 18.34it/s, loss=0.7489, acc=87.15%]\n",
            "Validating: 100%|██████████| 79/79 [00:02<00:00, 33.26it/s]\n"
          ]
        },
        {
          "name": "stdout",
          "output_type": "stream",
          "text": [
            "Train Loss: 0.7850, Train Acc: 87.15%\n",
            "Test Loss: 0.7654, Test Acc: 89.41%\n",
            "Learning Rate: 0.000214\n",
            "\n",
            "Epoch 119/300\n"
          ]
        },
        {
          "name": "stderr",
          "output_type": "stream",
          "text": [
            "Training: 100%|██████████| 391/391 [00:20<00:00, 18.82it/s, loss=0.8054, acc=87.17%]\n",
            "Validating: 100%|██████████| 79/79 [00:02<00:00, 33.22it/s]\n"
          ]
        },
        {
          "name": "stdout",
          "output_type": "stream",
          "text": [
            "Train Loss: 0.7840, Train Acc: 87.17%\n",
            "Test Loss: 0.7768, Test Acc: 89.21%\n",
            "Learning Rate: 0.000213\n",
            "\n",
            "Epoch 120/300\n"
          ]
        },
        {
          "name": "stderr",
          "output_type": "stream",
          "text": [
            "Training: 100%|██████████| 391/391 [00:21<00:00, 18.42it/s, loss=0.8377, acc=87.12%]\n",
            "Validating: 100%|██████████| 79/79 [00:02<00:00, 33.18it/s]\n"
          ]
        },
        {
          "name": "stdout",
          "output_type": "stream",
          "text": [
            "Train Loss: 0.7861, Train Acc: 87.12%\n",
            "Test Loss: 0.7623, Test Acc: 89.50%\n",
            "Learning Rate: 0.000211\n",
            "\n",
            "Epoch 121/300\n"
          ]
        },
        {
          "name": "stderr",
          "output_type": "stream",
          "text": [
            "Training: 100%|██████████| 391/391 [00:21<00:00, 18.48it/s, loss=0.8719, acc=87.38%]\n",
            "Validating: 100%|██████████| 79/79 [00:02<00:00, 33.32it/s]\n"
          ]
        },
        {
          "name": "stdout",
          "output_type": "stream",
          "text": [
            "Train Loss: 0.7815, Train Acc: 87.38%\n",
            "Test Loss: 0.7620, Test Acc: 89.50%\n",
            "Learning Rate: 0.000210\n",
            "\n",
            "Epoch 122/300\n"
          ]
        },
        {
          "name": "stderr",
          "output_type": "stream",
          "text": [
            "Training: 100%|██████████| 391/391 [00:20<00:00, 19.21it/s, loss=0.7055, acc=87.39%]\n",
            "Validating: 100%|██████████| 79/79 [00:02<00:00, 33.36it/s]\n"
          ]
        },
        {
          "name": "stdout",
          "output_type": "stream",
          "text": [
            "Train Loss: 0.7814, Train Acc: 87.39%\n",
            "Test Loss: 0.7619, Test Acc: 89.64%\n",
            "Learning Rate: 0.000208\n",
            "\n",
            "Epoch 123/300\n"
          ]
        },
        {
          "name": "stderr",
          "output_type": "stream",
          "text": [
            "Training: 100%|██████████| 391/391 [00:20<00:00, 18.90it/s, loss=0.8293, acc=87.36%]\n",
            "Validating: 100%|██████████| 79/79 [00:02<00:00, 33.29it/s]\n"
          ]
        },
        {
          "name": "stdout",
          "output_type": "stream",
          "text": [
            "Train Loss: 0.7801, Train Acc: 87.36%\n",
            "Test Loss: 0.7660, Test Acc: 89.50%\n",
            "Learning Rate: 0.000207\n",
            "\n",
            "Epoch 124/300\n"
          ]
        },
        {
          "name": "stderr",
          "output_type": "stream",
          "text": [
            "Training: 100%|██████████| 391/391 [00:21<00:00, 18.62it/s, loss=0.7308, acc=87.64%]\n",
            "Validating: 100%|██████████| 79/79 [00:02<00:00, 33.16it/s]\n"
          ]
        },
        {
          "name": "stdout",
          "output_type": "stream",
          "text": [
            "Train Loss: 0.7784, Train Acc: 87.64%\n",
            "Test Loss: 0.7578, Test Acc: 89.71%\n",
            "Learning Rate: 0.000206\n",
            "✓ Saved best model with test accuracy: 89.71%\n",
            "\n",
            "Epoch 125/300\n"
          ]
        },
        {
          "name": "stderr",
          "output_type": "stream",
          "text": [
            "Training: 100%|██████████| 391/391 [00:21<00:00, 18.37it/s, loss=0.6701, acc=87.71%]\n",
            "Validating: 100%|██████████| 79/79 [00:02<00:00, 33.27it/s]\n"
          ]
        },
        {
          "name": "stdout",
          "output_type": "stream",
          "text": [
            "Train Loss: 0.7725, Train Acc: 87.71%\n",
            "Test Loss: 0.7726, Test Acc: 89.04%\n",
            "Learning Rate: 0.000204\n",
            "\n",
            "Epoch 126/300\n"
          ]
        },
        {
          "name": "stderr",
          "output_type": "stream",
          "text": [
            "Training: 100%|██████████| 391/391 [00:19<00:00, 20.30it/s, loss=0.7954, acc=87.67%]\n",
            "Validating: 100%|██████████| 79/79 [00:02<00:00, 33.38it/s]\n"
          ]
        },
        {
          "name": "stdout",
          "output_type": "stream",
          "text": [
            "Train Loss: 0.7743, Train Acc: 87.67%\n",
            "Test Loss: 0.7606, Test Acc: 89.71%\n",
            "Learning Rate: 0.000203\n",
            "\n",
            "Epoch 127/300\n"
          ]
        },
        {
          "name": "stderr",
          "output_type": "stream",
          "text": [
            "Training: 100%|██████████| 391/391 [00:21<00:00, 18.44it/s, loss=0.6527, acc=87.89%]\n",
            "Validating: 100%|██████████| 79/79 [00:02<00:00, 33.45it/s]\n"
          ]
        },
        {
          "name": "stdout",
          "output_type": "stream",
          "text": [
            "Train Loss: 0.7693, Train Acc: 87.89%\n",
            "Test Loss: 0.7664, Test Acc: 89.35%\n",
            "Learning Rate: 0.000201\n",
            "\n",
            "Epoch 128/300\n"
          ]
        },
        {
          "name": "stderr",
          "output_type": "stream",
          "text": [
            "Training: 100%|██████████| 391/391 [00:20<00:00, 19.33it/s, loss=0.6997, acc=88.06%]\n",
            "Validating: 100%|██████████| 79/79 [00:02<00:00, 33.27it/s]\n"
          ]
        },
        {
          "name": "stdout",
          "output_type": "stream",
          "text": [
            "Train Loss: 0.7680, Train Acc: 88.06%\n",
            "Test Loss: 0.7613, Test Acc: 89.42%\n",
            "Learning Rate: 0.000200\n",
            "\n",
            "Epoch 129/300\n"
          ]
        },
        {
          "name": "stderr",
          "output_type": "stream",
          "text": [
            "Training: 100%|██████████| 391/391 [00:20<00:00, 19.40it/s, loss=0.8369, acc=87.85%]\n",
            "Validating: 100%|██████████| 79/79 [00:02<00:00, 33.19it/s]\n"
          ]
        },
        {
          "name": "stdout",
          "output_type": "stream",
          "text": [
            "Train Loss: 0.7713, Train Acc: 87.85%\n",
            "Test Loss: 0.7592, Test Acc: 89.89%\n",
            "Learning Rate: 0.000198\n",
            "✓ Saved best model with test accuracy: 89.89%\n",
            "\n",
            "Epoch 130/300\n"
          ]
        },
        {
          "name": "stderr",
          "output_type": "stream",
          "text": [
            "Training: 100%|██████████| 391/391 [00:20<00:00, 18.67it/s, loss=0.7699, acc=88.42%]\n",
            "Validating: 100%|██████████| 79/79 [00:02<00:00, 33.16it/s]\n"
          ]
        },
        {
          "name": "stdout",
          "output_type": "stream",
          "text": [
            "Train Loss: 0.7601, Train Acc: 88.42%\n",
            "Test Loss: 0.7692, Test Acc: 89.47%\n",
            "Learning Rate: 0.000197\n",
            "\n",
            "Epoch 131/300\n"
          ]
        },
        {
          "name": "stderr",
          "output_type": "stream",
          "text": [
            "Training: 100%|██████████| 391/391 [00:21<00:00, 18.38it/s, loss=0.7985, acc=88.41%]\n",
            "Validating: 100%|██████████| 79/79 [00:02<00:00, 33.23it/s]\n"
          ]
        },
        {
          "name": "stdout",
          "output_type": "stream",
          "text": [
            "Train Loss: 0.7605, Train Acc: 88.41%\n",
            "Test Loss: 0.7758, Test Acc: 89.70%\n",
            "Learning Rate: 0.000195\n",
            "\n",
            "Epoch 132/300\n"
          ]
        },
        {
          "name": "stderr",
          "output_type": "stream",
          "text": [
            "Training: 100%|██████████| 391/391 [00:20<00:00, 18.66it/s, loss=0.7387, acc=88.27%]\n",
            "Validating: 100%|██████████| 79/79 [00:02<00:00, 33.28it/s]\n"
          ]
        },
        {
          "name": "stdout",
          "output_type": "stream",
          "text": [
            "Train Loss: 0.7611, Train Acc: 88.27%\n",
            "Test Loss: 0.7598, Test Acc: 89.88%\n",
            "Learning Rate: 0.000194\n",
            "\n",
            "Epoch 133/300\n"
          ]
        },
        {
          "name": "stderr",
          "output_type": "stream",
          "text": [
            "Training: 100%|██████████| 391/391 [00:20<00:00, 18.71it/s, loss=0.8134, acc=88.70%]\n",
            "Validating: 100%|██████████| 79/79 [00:02<00:00, 33.24it/s]\n"
          ]
        },
        {
          "name": "stdout",
          "output_type": "stream",
          "text": [
            "Train Loss: 0.7562, Train Acc: 88.70%\n",
            "Test Loss: 0.7739, Test Acc: 89.21%\n",
            "Learning Rate: 0.000192\n",
            "\n",
            "Epoch 134/300\n"
          ]
        },
        {
          "name": "stderr",
          "output_type": "stream",
          "text": [
            "Training: 100%|██████████| 391/391 [00:21<00:00, 18.17it/s, loss=0.8555, acc=88.35%]\n",
            "Validating: 100%|██████████| 79/79 [00:02<00:00, 33.31it/s]\n"
          ]
        },
        {
          "name": "stdout",
          "output_type": "stream",
          "text": [
            "Train Loss: 0.7598, Train Acc: 88.35%\n",
            "Test Loss: 0.7682, Test Acc: 89.59%\n",
            "Learning Rate: 0.000191\n",
            "\n",
            "Epoch 135/300\n"
          ]
        },
        {
          "name": "stderr",
          "output_type": "stream",
          "text": [
            "Training: 100%|██████████| 391/391 [00:20<00:00, 18.67it/s, loss=0.7078, acc=88.71%]\n",
            "Validating: 100%|██████████| 79/79 [00:02<00:00, 33.38it/s]\n"
          ]
        },
        {
          "name": "stdout",
          "output_type": "stream",
          "text": [
            "Train Loss: 0.7547, Train Acc: 88.71%\n",
            "Test Loss: 0.7746, Test Acc: 89.20%\n",
            "Learning Rate: 0.000189\n",
            "\n",
            "Epoch 136/300\n"
          ]
        },
        {
          "name": "stderr",
          "output_type": "stream",
          "text": [
            "Training: 100%|██████████| 391/391 [00:21<00:00, 18.41it/s, loss=0.7519, acc=88.59%]\n",
            "Validating: 100%|██████████| 79/79 [00:02<00:00, 33.16it/s]\n"
          ]
        },
        {
          "name": "stdout",
          "output_type": "stream",
          "text": [
            "Train Loss: 0.7541, Train Acc: 88.59%\n",
            "Test Loss: 0.7711, Test Acc: 89.58%\n",
            "Learning Rate: 0.000188\n",
            "\n",
            "Epoch 137/300\n"
          ]
        },
        {
          "name": "stderr",
          "output_type": "stream",
          "text": [
            "Training: 100%|██████████| 391/391 [00:21<00:00, 18.43it/s, loss=0.6822, acc=88.72%]\n",
            "Validating: 100%|██████████| 79/79 [00:02<00:00, 33.28it/s]\n"
          ]
        },
        {
          "name": "stdout",
          "output_type": "stream",
          "text": [
            "Train Loss: 0.7505, Train Acc: 88.72%\n",
            "Test Loss: 0.7597, Test Acc: 89.71%\n",
            "Learning Rate: 0.000186\n",
            "\n",
            "Epoch 138/300\n"
          ]
        },
        {
          "name": "stderr",
          "output_type": "stream",
          "text": [
            "Training: 100%|██████████| 391/391 [00:19<00:00, 20.12it/s, loss=0.6694, acc=88.80%]\n",
            "Validating: 100%|██████████| 79/79 [00:02<00:00, 33.52it/s]\n"
          ]
        },
        {
          "name": "stdout",
          "output_type": "stream",
          "text": [
            "Train Loss: 0.7495, Train Acc: 88.80%\n",
            "Test Loss: 0.7763, Test Acc: 89.28%\n",
            "Learning Rate: 0.000185\n",
            "\n",
            "Epoch 139/300\n"
          ]
        },
        {
          "name": "stderr",
          "output_type": "stream",
          "text": [
            "Training: 100%|██████████| 391/391 [00:21<00:00, 18.30it/s, loss=0.8872, acc=89.07%]\n",
            "Validating: 100%|██████████| 79/79 [00:02<00:00, 33.36it/s]\n"
          ]
        },
        {
          "name": "stdout",
          "output_type": "stream",
          "text": [
            "Train Loss: 0.7432, Train Acc: 89.07%\n",
            "Test Loss: 0.7586, Test Acc: 90.11%\n",
            "Learning Rate: 0.000183\n",
            "✓ Saved best model with test accuracy: 90.11%\n",
            "\n",
            "Epoch 140/300\n"
          ]
        },
        {
          "name": "stderr",
          "output_type": "stream",
          "text": [
            "Training: 100%|██████████| 391/391 [00:20<00:00, 18.92it/s, loss=0.7404, acc=89.20%]\n",
            "Validating: 100%|██████████| 79/79 [00:02<00:00, 33.31it/s]\n"
          ]
        },
        {
          "name": "stdout",
          "output_type": "stream",
          "text": [
            "Train Loss: 0.7430, Train Acc: 89.20%\n",
            "Test Loss: 0.7629, Test Acc: 89.79%\n",
            "Learning Rate: 0.000182\n",
            "\n",
            "Epoch 141/300\n"
          ]
        },
        {
          "name": "stderr",
          "output_type": "stream",
          "text": [
            "Training: 100%|██████████| 391/391 [00:20<00:00, 18.65it/s, loss=0.8225, acc=89.03%]\n",
            "Validating: 100%|██████████| 79/79 [00:02<00:00, 33.35it/s]\n"
          ]
        },
        {
          "name": "stdout",
          "output_type": "stream",
          "text": [
            "Train Loss: 0.7430, Train Acc: 89.03%\n",
            "Test Loss: 0.7764, Test Acc: 89.46%\n",
            "Learning Rate: 0.000180\n",
            "\n",
            "Epoch 142/300\n"
          ]
        },
        {
          "name": "stderr",
          "output_type": "stream",
          "text": [
            "Training: 100%|██████████| 391/391 [00:21<00:00, 18.46it/s, loss=0.7656, acc=89.09%]\n",
            "Validating: 100%|██████████| 79/79 [00:02<00:00, 33.31it/s]\n"
          ]
        },
        {
          "name": "stdout",
          "output_type": "stream",
          "text": [
            "Train Loss: 0.7437, Train Acc: 89.09%\n",
            "Test Loss: 0.7801, Test Acc: 89.40%\n",
            "Learning Rate: 0.000179\n",
            "\n",
            "Epoch 143/300\n"
          ]
        },
        {
          "name": "stderr",
          "output_type": "stream",
          "text": [
            "Training: 100%|██████████| 391/391 [00:20<00:00, 18.79it/s, loss=0.7830, acc=89.56%]\n",
            "Validating: 100%|██████████| 79/79 [00:02<00:00, 33.22it/s]\n"
          ]
        },
        {
          "name": "stdout",
          "output_type": "stream",
          "text": [
            "Train Loss: 0.7354, Train Acc: 89.56%\n",
            "Test Loss: 0.7649, Test Acc: 89.99%\n",
            "Learning Rate: 0.000177\n",
            "\n",
            "Epoch 144/300\n"
          ]
        },
        {
          "name": "stderr",
          "output_type": "stream",
          "text": [
            "Training: 100%|██████████| 391/391 [00:21<00:00, 18.34it/s, loss=0.8587, acc=89.27%]\n",
            "Validating: 100%|██████████| 79/79 [00:02<00:00, 33.34it/s]\n"
          ]
        },
        {
          "name": "stdout",
          "output_type": "stream",
          "text": [
            "Train Loss: 0.7421, Train Acc: 89.27%\n",
            "Test Loss: 0.7608, Test Acc: 89.99%\n",
            "Learning Rate: 0.000175\n",
            "\n",
            "Epoch 145/300\n"
          ]
        },
        {
          "name": "stderr",
          "output_type": "stream",
          "text": [
            "Training: 100%|██████████| 391/391 [00:21<00:00, 18.47it/s, loss=0.7845, acc=89.37%]\n",
            "Validating: 100%|██████████| 79/79 [00:02<00:00, 33.05it/s]\n"
          ]
        },
        {
          "name": "stdout",
          "output_type": "stream",
          "text": [
            "Train Loss: 0.7348, Train Acc: 89.37%\n",
            "Test Loss: 0.7580, Test Acc: 90.17%\n",
            "Learning Rate: 0.000174\n",
            "✓ Saved best model with test accuracy: 90.17%\n",
            "\n",
            "Epoch 146/300\n"
          ]
        },
        {
          "name": "stderr",
          "output_type": "stream",
          "text": [
            "Training: 100%|██████████| 391/391 [00:20<00:00, 18.63it/s, loss=0.6266, acc=89.46%]\n",
            "Validating: 100%|██████████| 79/79 [00:02<00:00, 33.51it/s]\n"
          ]
        },
        {
          "name": "stdout",
          "output_type": "stream",
          "text": [
            "Train Loss: 0.7369, Train Acc: 89.46%\n",
            "Test Loss: 0.7647, Test Acc: 90.11%\n",
            "Learning Rate: 0.000172\n",
            "\n",
            "Epoch 147/300\n"
          ]
        },
        {
          "name": "stderr",
          "output_type": "stream",
          "text": [
            "Training: 100%|██████████| 391/391 [00:21<00:00, 18.44it/s, loss=0.7263, acc=89.72%]\n",
            "Validating: 100%|██████████| 79/79 [00:02<00:00, 33.32it/s]\n"
          ]
        },
        {
          "name": "stdout",
          "output_type": "stream",
          "text": [
            "Train Loss: 0.7294, Train Acc: 89.72%\n",
            "Test Loss: 0.7589, Test Acc: 90.00%\n",
            "Learning Rate: 0.000171\n",
            "\n",
            "Epoch 148/300\n"
          ]
        },
        {
          "name": "stderr",
          "output_type": "stream",
          "text": [
            "Training: 100%|██████████| 391/391 [00:20<00:00, 18.67it/s, loss=0.7592, acc=89.60%]\n",
            "Validating: 100%|██████████| 79/79 [00:02<00:00, 33.29it/s]\n"
          ]
        },
        {
          "name": "stdout",
          "output_type": "stream",
          "text": [
            "Train Loss: 0.7339, Train Acc: 89.60%\n",
            "Test Loss: 0.7616, Test Acc: 90.05%\n",
            "Learning Rate: 0.000169\n",
            "\n",
            "Epoch 149/300\n"
          ]
        },
        {
          "name": "stderr",
          "output_type": "stream",
          "text": [
            "Training: 100%|██████████| 391/391 [00:21<00:00, 18.28it/s, loss=0.6809, acc=89.69%]\n",
            "Validating: 100%|██████████| 79/79 [00:02<00:00, 33.29it/s]\n"
          ]
        },
        {
          "name": "stdout",
          "output_type": "stream",
          "text": [
            "Train Loss: 0.7294, Train Acc: 89.69%\n",
            "Test Loss: 0.7724, Test Acc: 89.73%\n",
            "Learning Rate: 0.000168\n",
            "\n",
            "Epoch 150/300\n"
          ]
        },
        {
          "name": "stderr",
          "output_type": "stream",
          "text": [
            "Training: 100%|██████████| 391/391 [00:21<00:00, 18.58it/s, loss=0.7626, acc=89.68%]\n",
            "Validating: 100%|██████████| 79/79 [00:02<00:00, 33.76it/s]\n"
          ]
        },
        {
          "name": "stdout",
          "output_type": "stream",
          "text": [
            "Train Loss: 0.7299, Train Acc: 89.68%\n",
            "Test Loss: 0.7628, Test Acc: 90.08%\n",
            "Learning Rate: 0.000166\n",
            "\n",
            "Epoch 151/300\n"
          ]
        },
        {
          "name": "stderr",
          "output_type": "stream",
          "text": [
            "Training: 100%|██████████| 391/391 [00:17<00:00, 21.78it/s, loss=0.7104, acc=89.90%]\n",
            "Validating: 100%|██████████| 79/79 [00:02<00:00, 33.16it/s]\n"
          ]
        },
        {
          "name": "stdout",
          "output_type": "stream",
          "text": [
            "Train Loss: 0.7256, Train Acc: 89.90%\n",
            "Test Loss: 0.7611, Test Acc: 90.20%\n",
            "Learning Rate: 0.000165\n",
            "✓ Saved best model with test accuracy: 90.20%\n",
            "\n",
            "Epoch 152/300\n"
          ]
        },
        {
          "name": "stderr",
          "output_type": "stream",
          "text": [
            "Training: 100%|██████████| 391/391 [00:21<00:00, 18.56it/s, loss=0.7047, acc=90.06%]\n",
            "Validating: 100%|██████████| 79/79 [00:02<00:00, 33.23it/s]\n"
          ]
        },
        {
          "name": "stdout",
          "output_type": "stream",
          "text": [
            "Train Loss: 0.7229, Train Acc: 90.06%\n",
            "Test Loss: 0.7697, Test Acc: 89.95%\n",
            "Learning Rate: 0.000163\n",
            "\n",
            "Epoch 153/300\n"
          ]
        },
        {
          "name": "stderr",
          "output_type": "stream",
          "text": [
            "Training: 100%|██████████| 391/391 [00:21<00:00, 18.35it/s, loss=0.6233, acc=89.94%]\n",
            "Validating: 100%|██████████| 79/79 [00:02<00:00, 33.36it/s]\n"
          ]
        },
        {
          "name": "stdout",
          "output_type": "stream",
          "text": [
            "Train Loss: 0.7227, Train Acc: 89.94%\n",
            "Test Loss: 0.7659, Test Acc: 90.13%\n",
            "Learning Rate: 0.000161\n",
            "\n",
            "Epoch 154/300\n"
          ]
        },
        {
          "name": "stderr",
          "output_type": "stream",
          "text": [
            "Training: 100%|██████████| 391/391 [00:19<00:00, 20.43it/s, loss=0.7931, acc=90.28%]\n",
            "Validating: 100%|██████████| 79/79 [00:02<00:00, 33.15it/s]\n"
          ]
        },
        {
          "name": "stdout",
          "output_type": "stream",
          "text": [
            "Train Loss: 0.7219, Train Acc: 90.28%\n",
            "Test Loss: 0.7634, Test Acc: 90.21%\n",
            "Learning Rate: 0.000160\n",
            "✓ Saved best model with test accuracy: 90.21%\n",
            "\n",
            "Epoch 155/300\n"
          ]
        },
        {
          "name": "stderr",
          "output_type": "stream",
          "text": [
            "Training: 100%|██████████| 391/391 [00:21<00:00, 18.41it/s, loss=0.7809, acc=90.17%]\n",
            "Validating: 100%|██████████| 79/79 [00:02<00:00, 33.19it/s]\n"
          ]
        },
        {
          "name": "stdout",
          "output_type": "stream",
          "text": [
            "Train Loss: 0.7209, Train Acc: 90.17%\n",
            "Test Loss: 0.7568, Test Acc: 90.46%\n",
            "Learning Rate: 0.000158\n",
            "✓ Saved best model with test accuracy: 90.46%\n",
            "\n",
            "Epoch 156/300\n"
          ]
        },
        {
          "name": "stderr",
          "output_type": "stream",
          "text": [
            "Training: 100%|██████████| 391/391 [00:20<00:00, 18.62it/s, loss=0.6722, acc=90.02%]\n",
            "Validating: 100%|██████████| 79/79 [00:02<00:00, 33.25it/s]\n"
          ]
        },
        {
          "name": "stdout",
          "output_type": "stream",
          "text": [
            "Train Loss: 0.7222, Train Acc: 90.02%\n",
            "Test Loss: 0.7715, Test Acc: 89.92%\n",
            "Learning Rate: 0.000157\n",
            "\n",
            "Epoch 157/300\n"
          ]
        },
        {
          "name": "stderr",
          "output_type": "stream",
          "text": [
            "Training: 100%|██████████| 391/391 [00:19<00:00, 20.08it/s, loss=0.7991, acc=90.36%]\n",
            "Validating: 100%|██████████| 79/79 [00:02<00:00, 33.27it/s]\n"
          ]
        },
        {
          "name": "stdout",
          "output_type": "stream",
          "text": [
            "Train Loss: 0.7184, Train Acc: 90.36%\n",
            "Test Loss: 0.7636, Test Acc: 90.20%\n",
            "Learning Rate: 0.000155\n",
            "\n",
            "Epoch 158/300\n"
          ]
        },
        {
          "name": "stderr",
          "output_type": "stream",
          "text": [
            "Training: 100%|██████████| 391/391 [00:21<00:00, 18.27it/s, loss=0.7935, acc=90.26%]\n",
            "Validating: 100%|██████████| 79/79 [00:02<00:00, 33.19it/s]\n"
          ]
        },
        {
          "name": "stdout",
          "output_type": "stream",
          "text": [
            "Train Loss: 0.7164, Train Acc: 90.26%\n",
            "Test Loss: 0.7528, Test Acc: 90.59%\n",
            "Learning Rate: 0.000154\n",
            "✓ Saved best model with test accuracy: 90.59%\n",
            "\n",
            "Epoch 159/300\n"
          ]
        },
        {
          "name": "stderr",
          "output_type": "stream",
          "text": [
            "Training: 100%|██████████| 391/391 [00:21<00:00, 18.34it/s, loss=0.8800, acc=90.52%]\n",
            "Validating: 100%|██████████| 79/79 [00:02<00:00, 33.22it/s]\n"
          ]
        },
        {
          "name": "stdout",
          "output_type": "stream",
          "text": [
            "Train Loss: 0.7156, Train Acc: 90.52%\n",
            "Test Loss: 0.7671, Test Acc: 90.19%\n",
            "Learning Rate: 0.000152\n",
            "\n",
            "Epoch 160/300\n"
          ]
        },
        {
          "name": "stderr",
          "output_type": "stream",
          "text": [
            "Training: 100%|██████████| 391/391 [00:21<00:00, 18.11it/s, loss=0.6655, acc=90.69%]\n",
            "Validating: 100%|██████████| 79/79 [00:02<00:00, 33.22it/s]\n"
          ]
        },
        {
          "name": "stdout",
          "output_type": "stream",
          "text": [
            "Train Loss: 0.7091, Train Acc: 90.69%\n",
            "Test Loss: 0.7523, Test Acc: 90.74%\n",
            "Learning Rate: 0.000150\n",
            "✓ Saved best model with test accuracy: 90.74%\n",
            "\n",
            "Epoch 161/300\n"
          ]
        },
        {
          "name": "stderr",
          "output_type": "stream",
          "text": [
            "Training: 100%|██████████| 391/391 [00:20<00:00, 18.82it/s, loss=0.6259, acc=90.69%]\n",
            "Validating: 100%|██████████| 79/79 [00:02<00:00, 33.18it/s]\n"
          ]
        },
        {
          "name": "stdout",
          "output_type": "stream",
          "text": [
            "Train Loss: 0.7107, Train Acc: 90.69%\n",
            "Test Loss: 0.7543, Test Acc: 90.50%\n",
            "Learning Rate: 0.000149\n",
            "\n",
            "Epoch 162/300\n"
          ]
        },
        {
          "name": "stderr",
          "output_type": "stream",
          "text": [
            "Training: 100%|██████████| 391/391 [00:20<00:00, 18.77it/s, loss=0.6295, acc=90.67%]\n",
            "Validating: 100%|██████████| 79/79 [00:02<00:00, 33.45it/s]\n"
          ]
        },
        {
          "name": "stdout",
          "output_type": "stream",
          "text": [
            "Train Loss: 0.7092, Train Acc: 90.67%\n",
            "Test Loss: 0.7505, Test Acc: 90.57%\n",
            "Learning Rate: 0.000147\n",
            "\n",
            "Epoch 163/300\n"
          ]
        },
        {
          "name": "stderr",
          "output_type": "stream",
          "text": [
            "Training: 100%|██████████| 391/391 [00:22<00:00, 17.77it/s, loss=0.6648, acc=90.85%]\n",
            "Validating: 100%|██████████| 79/79 [00:02<00:00, 33.50it/s]\n"
          ]
        },
        {
          "name": "stdout",
          "output_type": "stream",
          "text": [
            "Train Loss: 0.7046, Train Acc: 90.85%\n",
            "Test Loss: 0.7500, Test Acc: 90.56%\n",
            "Learning Rate: 0.000146\n",
            "\n",
            "Epoch 164/300\n"
          ]
        },
        {
          "name": "stderr",
          "output_type": "stream",
          "text": [
            "Training: 100%|██████████| 391/391 [00:21<00:00, 18.24it/s, loss=0.6665, acc=90.97%]\n",
            "Validating: 100%|██████████| 79/79 [00:02<00:00, 33.34it/s]\n"
          ]
        },
        {
          "name": "stdout",
          "output_type": "stream",
          "text": [
            "Train Loss: 0.7041, Train Acc: 90.97%\n",
            "Test Loss: 0.7582, Test Acc: 90.37%\n",
            "Learning Rate: 0.000144\n",
            "\n",
            "Epoch 165/300\n"
          ]
        },
        {
          "name": "stderr",
          "output_type": "stream",
          "text": [
            "Training: 100%|██████████| 391/391 [00:20<00:00, 19.11it/s, loss=0.6780, acc=90.96%]\n",
            "Validating: 100%|██████████| 79/79 [00:02<00:00, 33.14it/s]\n"
          ]
        },
        {
          "name": "stdout",
          "output_type": "stream",
          "text": [
            "Train Loss: 0.7044, Train Acc: 90.96%\n",
            "Test Loss: 0.7635, Test Acc: 90.26%\n",
            "Learning Rate: 0.000143\n",
            "\n",
            "Epoch 166/300\n"
          ]
        },
        {
          "name": "stderr",
          "output_type": "stream",
          "text": [
            "Training: 100%|██████████| 391/391 [00:21<00:00, 18.39it/s, loss=0.6057, acc=91.17%]\n",
            "Validating: 100%|██████████| 79/79 [00:02<00:00, 33.21it/s]\n"
          ]
        },
        {
          "name": "stdout",
          "output_type": "stream",
          "text": [
            "Train Loss: 0.7017, Train Acc: 91.17%\n",
            "Test Loss: 0.7641, Test Acc: 90.33%\n",
            "Learning Rate: 0.000141\n",
            "\n",
            "Epoch 167/300\n"
          ]
        },
        {
          "name": "stderr",
          "output_type": "stream",
          "text": [
            "Training: 100%|██████████| 391/391 [00:20<00:00, 18.72it/s, loss=0.6170, acc=91.09%]\n",
            "Validating: 100%|██████████| 79/79 [00:02<00:00, 33.23it/s]\n"
          ]
        },
        {
          "name": "stdout",
          "output_type": "stream",
          "text": [
            "Train Loss: 0.7015, Train Acc: 91.09%\n",
            "Test Loss: 0.7435, Test Acc: 91.12%\n",
            "Learning Rate: 0.000140\n",
            "✓ Saved best model with test accuracy: 91.12%\n",
            "\n",
            "Epoch 168/300\n"
          ]
        },
        {
          "name": "stderr",
          "output_type": "stream",
          "text": [
            "Training: 100%|██████████| 391/391 [00:20<00:00, 19.27it/s, loss=0.6071, acc=90.85%]\n",
            "Validating: 100%|██████████| 79/79 [00:02<00:00, 33.39it/s]\n"
          ]
        },
        {
          "name": "stdout",
          "output_type": "stream",
          "text": [
            "Train Loss: 0.7030, Train Acc: 90.85%\n",
            "Test Loss: 0.7438, Test Acc: 90.72%\n",
            "Learning Rate: 0.000138\n",
            "\n",
            "Epoch 169/300\n"
          ]
        },
        {
          "name": "stderr",
          "output_type": "stream",
          "text": [
            "Training: 100%|██████████| 391/391 [00:20<00:00, 19.14it/s, loss=0.7199, acc=91.17%]\n",
            "Validating: 100%|██████████| 79/79 [00:02<00:00, 33.21it/s]\n"
          ]
        },
        {
          "name": "stdout",
          "output_type": "stream",
          "text": [
            "Train Loss: 0.6983, Train Acc: 91.17%\n",
            "Test Loss: 0.7468, Test Acc: 90.88%\n",
            "Learning Rate: 0.000136\n",
            "\n",
            "Epoch 170/300\n"
          ]
        },
        {
          "name": "stderr",
          "output_type": "stream",
          "text": [
            "Training: 100%|██████████| 391/391 [00:21<00:00, 18.62it/s, loss=0.6667, acc=91.40%]\n",
            "Validating: 100%|██████████| 79/79 [00:02<00:00, 33.25it/s]\n"
          ]
        },
        {
          "name": "stdout",
          "output_type": "stream",
          "text": [
            "Train Loss: 0.6945, Train Acc: 91.40%\n",
            "Test Loss: 0.7588, Test Acc: 90.49%\n",
            "Learning Rate: 0.000135\n",
            "\n",
            "Epoch 171/300\n"
          ]
        },
        {
          "name": "stderr",
          "output_type": "stream",
          "text": [
            "Training: 100%|██████████| 391/391 [00:21<00:00, 18.50it/s, loss=0.7370, acc=91.40%]\n",
            "Validating: 100%|██████████| 79/79 [00:02<00:00, 33.22it/s]\n"
          ]
        },
        {
          "name": "stdout",
          "output_type": "stream",
          "text": [
            "Train Loss: 0.6938, Train Acc: 91.40%\n",
            "Test Loss: 0.7433, Test Acc: 91.13%\n",
            "Learning Rate: 0.000133\n",
            "✓ Saved best model with test accuracy: 91.13%\n",
            "\n",
            "Epoch 172/300\n"
          ]
        },
        {
          "name": "stderr",
          "output_type": "stream",
          "text": [
            "Training: 100%|██████████| 391/391 [00:21<00:00, 18.48it/s, loss=0.6577, acc=91.20%]\n",
            "Validating: 100%|██████████| 79/79 [00:02<00:00, 33.46it/s]\n"
          ]
        },
        {
          "name": "stdout",
          "output_type": "stream",
          "text": [
            "Train Loss: 0.6981, Train Acc: 91.20%\n",
            "Test Loss: 0.7511, Test Acc: 90.65%\n",
            "Learning Rate: 0.000132\n",
            "\n",
            "Epoch 173/300\n"
          ]
        },
        {
          "name": "stderr",
          "output_type": "stream",
          "text": [
            "Training: 100%|██████████| 391/391 [00:20<00:00, 19.11it/s, loss=0.6324, acc=91.08%]\n",
            "Validating: 100%|██████████| 79/79 [00:02<00:00, 33.47it/s]\n"
          ]
        },
        {
          "name": "stdout",
          "output_type": "stream",
          "text": [
            "Train Loss: 0.6982, Train Acc: 91.08%\n",
            "Test Loss: 0.7492, Test Acc: 90.79%\n",
            "Learning Rate: 0.000130\n",
            "\n",
            "Epoch 174/300\n"
          ]
        },
        {
          "name": "stderr",
          "output_type": "stream",
          "text": [
            "Training: 100%|██████████| 391/391 [00:20<00:00, 18.65it/s, loss=0.6195, acc=91.55%]\n",
            "Validating: 100%|██████████| 79/79 [00:02<00:00, 33.22it/s]\n"
          ]
        },
        {
          "name": "stdout",
          "output_type": "stream",
          "text": [
            "Train Loss: 0.6901, Train Acc: 91.55%\n",
            "Test Loss: 0.7587, Test Acc: 90.53%\n",
            "Learning Rate: 0.000129\n",
            "\n",
            "Epoch 175/300\n"
          ]
        },
        {
          "name": "stderr",
          "output_type": "stream",
          "text": [
            "Training: 100%|██████████| 391/391 [00:21<00:00, 18.53it/s, loss=0.7702, acc=91.34%]\n",
            "Validating: 100%|██████████| 79/79 [00:02<00:00, 33.19it/s]\n"
          ]
        },
        {
          "name": "stdout",
          "output_type": "stream",
          "text": [
            "Train Loss: 0.6933, Train Acc: 91.34%\n",
            "Test Loss: 0.7563, Test Acc: 90.63%\n",
            "Learning Rate: 0.000127\n",
            "\n",
            "Epoch 176/300\n"
          ]
        },
        {
          "name": "stderr",
          "output_type": "stream",
          "text": [
            "Training: 100%|██████████| 391/391 [00:20<00:00, 18.79it/s, loss=0.6696, acc=91.55%]\n",
            "Validating: 100%|██████████| 79/79 [00:02<00:00, 33.38it/s]\n"
          ]
        },
        {
          "name": "stdout",
          "output_type": "stream",
          "text": [
            "Train Loss: 0.6912, Train Acc: 91.55%\n",
            "Test Loss: 0.7510, Test Acc: 90.62%\n",
            "Learning Rate: 0.000126\n",
            "\n",
            "Epoch 177/300\n"
          ]
        },
        {
          "name": "stderr",
          "output_type": "stream",
          "text": [
            "Training: 100%|██████████| 391/391 [00:19<00:00, 20.04it/s, loss=0.7154, acc=91.68%]\n",
            "Validating: 100%|██████████| 79/79 [00:02<00:00, 33.13it/s]\n"
          ]
        },
        {
          "name": "stdout",
          "output_type": "stream",
          "text": [
            "Train Loss: 0.6869, Train Acc: 91.68%\n",
            "Test Loss: 0.7562, Test Acc: 90.71%\n",
            "Learning Rate: 0.000124\n",
            "\n",
            "Epoch 178/300\n"
          ]
        },
        {
          "name": "stderr",
          "output_type": "stream",
          "text": [
            "Training: 100%|██████████| 391/391 [00:20<00:00, 19.10it/s, loss=0.6787, acc=91.80%]\n",
            "Validating: 100%|██████████| 79/79 [00:02<00:00, 33.44it/s]\n"
          ]
        },
        {
          "name": "stdout",
          "output_type": "stream",
          "text": [
            "Train Loss: 0.6856, Train Acc: 91.80%\n",
            "Test Loss: 0.7508, Test Acc: 90.99%\n",
            "Learning Rate: 0.000122\n",
            "\n",
            "Epoch 179/300\n"
          ]
        },
        {
          "name": "stderr",
          "output_type": "stream",
          "text": [
            "Training: 100%|██████████| 391/391 [00:21<00:00, 18.22it/s, loss=0.7497, acc=91.95%]\n",
            "Validating: 100%|██████████| 79/79 [00:02<00:00, 33.37it/s]\n"
          ]
        },
        {
          "name": "stdout",
          "output_type": "stream",
          "text": [
            "Train Loss: 0.6837, Train Acc: 91.95%\n",
            "Test Loss: 0.7621, Test Acc: 90.33%\n",
            "Learning Rate: 0.000121\n",
            "\n",
            "Epoch 180/300\n"
          ]
        },
        {
          "name": "stderr",
          "output_type": "stream",
          "text": [
            "Training: 100%|██████████| 391/391 [00:21<00:00, 18.57it/s, loss=0.6358, acc=92.00%]\n",
            "Validating: 100%|██████████| 79/79 [00:02<00:00, 33.28it/s]\n"
          ]
        },
        {
          "name": "stdout",
          "output_type": "stream",
          "text": [
            "Train Loss: 0.6816, Train Acc: 92.00%\n",
            "Test Loss: 0.7548, Test Acc: 90.62%\n",
            "Learning Rate: 0.000119\n",
            "\n",
            "Epoch 181/300\n"
          ]
        },
        {
          "name": "stderr",
          "output_type": "stream",
          "text": [
            "Training: 100%|██████████| 391/391 [00:21<00:00, 18.42it/s, loss=0.7884, acc=91.90%]\n",
            "Validating: 100%|██████████| 79/79 [00:02<00:00, 33.46it/s]\n"
          ]
        },
        {
          "name": "stdout",
          "output_type": "stream",
          "text": [
            "Train Loss: 0.6825, Train Acc: 91.90%\n",
            "Test Loss: 0.7492, Test Acc: 90.81%\n",
            "Learning Rate: 0.000118\n",
            "\n",
            "Epoch 182/300\n"
          ]
        },
        {
          "name": "stderr",
          "output_type": "stream",
          "text": [
            "Training: 100%|██████████| 391/391 [00:21<00:00, 18.07it/s, loss=0.6955, acc=91.85%]\n",
            "Validating: 100%|██████████| 79/79 [00:02<00:00, 33.25it/s]\n"
          ]
        },
        {
          "name": "stdout",
          "output_type": "stream",
          "text": [
            "Train Loss: 0.6830, Train Acc: 91.85%\n",
            "Test Loss: 0.7577, Test Acc: 90.44%\n",
            "Learning Rate: 0.000116\n",
            "\n",
            "Epoch 183/300\n"
          ]
        },
        {
          "name": "stderr",
          "output_type": "stream",
          "text": [
            "Training: 100%|██████████| 391/391 [00:21<00:00, 18.06it/s, loss=0.7267, acc=91.98%]\n",
            "Validating: 100%|██████████| 79/79 [00:02<00:00, 33.31it/s]\n"
          ]
        },
        {
          "name": "stdout",
          "output_type": "stream",
          "text": [
            "Train Loss: 0.6801, Train Acc: 91.98%\n",
            "Test Loss: 0.7523, Test Acc: 90.99%\n",
            "Learning Rate: 0.000115\n",
            "\n",
            "Epoch 184/300\n"
          ]
        },
        {
          "name": "stderr",
          "output_type": "stream",
          "text": [
            "Training: 100%|██████████| 391/391 [00:22<00:00, 17.48it/s, loss=0.6585, acc=92.05%]\n",
            "Validating: 100%|██████████| 79/79 [00:02<00:00, 33.31it/s]\n"
          ]
        },
        {
          "name": "stdout",
          "output_type": "stream",
          "text": [
            "Train Loss: 0.6782, Train Acc: 92.05%\n",
            "Test Loss: 0.7505, Test Acc: 91.02%\n",
            "Learning Rate: 0.000113\n",
            "\n",
            "Epoch 185/300\n"
          ]
        },
        {
          "name": "stderr",
          "output_type": "stream",
          "text": [
            "Training: 100%|██████████| 391/391 [00:22<00:00, 17.64it/s, loss=0.5913, acc=92.32%]\n",
            "Validating: 100%|██████████| 79/79 [00:02<00:00, 33.21it/s]\n"
          ]
        },
        {
          "name": "stdout",
          "output_type": "stream",
          "text": [
            "Train Loss: 0.6730, Train Acc: 92.32%\n",
            "Test Loss: 0.7515, Test Acc: 90.80%\n",
            "Learning Rate: 0.000112\n",
            "\n",
            "Epoch 186/300\n"
          ]
        },
        {
          "name": "stderr",
          "output_type": "stream",
          "text": [
            "Training: 100%|██████████| 391/391 [00:21<00:00, 18.52it/s, loss=0.6509, acc=92.20%]\n",
            "Validating: 100%|██████████| 79/79 [00:02<00:00, 33.33it/s]\n"
          ]
        },
        {
          "name": "stdout",
          "output_type": "stream",
          "text": [
            "Train Loss: 0.6764, Train Acc: 92.20%\n",
            "Test Loss: 0.7491, Test Acc: 91.14%\n",
            "Learning Rate: 0.000110\n",
            "✓ Saved best model with test accuracy: 91.14%\n",
            "\n",
            "Epoch 187/300\n"
          ]
        },
        {
          "name": "stderr",
          "output_type": "stream",
          "text": [
            "Training: 100%|██████████| 391/391 [00:21<00:00, 18.43it/s, loss=0.6776, acc=92.06%]\n",
            "Validating: 100%|██████████| 79/79 [00:02<00:00, 33.26it/s]\n"
          ]
        },
        {
          "name": "stdout",
          "output_type": "stream",
          "text": [
            "Train Loss: 0.6781, Train Acc: 92.06%\n",
            "Test Loss: 0.7535, Test Acc: 90.92%\n",
            "Learning Rate: 0.000109\n",
            "\n",
            "Epoch 188/300\n"
          ]
        },
        {
          "name": "stderr",
          "output_type": "stream",
          "text": [
            "Training: 100%|██████████| 391/391 [00:20<00:00, 19.24it/s, loss=0.6361, acc=92.29%]\n",
            "Validating: 100%|██████████| 79/79 [00:02<00:00, 33.15it/s]\n"
          ]
        },
        {
          "name": "stdout",
          "output_type": "stream",
          "text": [
            "Train Loss: 0.6727, Train Acc: 92.29%\n",
            "Test Loss: 0.7657, Test Acc: 90.85%\n",
            "Learning Rate: 0.000107\n",
            "\n",
            "Epoch 189/300\n"
          ]
        },
        {
          "name": "stderr",
          "output_type": "stream",
          "text": [
            "Training: 100%|██████████| 391/391 [00:21<00:00, 18.55it/s, loss=0.7212, acc=92.23%]\n",
            "Validating: 100%|██████████| 79/79 [00:02<00:00, 33.26it/s]\n"
          ]
        },
        {
          "name": "stdout",
          "output_type": "stream",
          "text": [
            "Train Loss: 0.6735, Train Acc: 92.23%\n",
            "Test Loss: 0.7470, Test Acc: 91.11%\n",
            "Learning Rate: 0.000106\n",
            "\n",
            "Epoch 190/300\n"
          ]
        },
        {
          "name": "stderr",
          "output_type": "stream",
          "text": [
            "Training: 100%|██████████| 391/391 [00:20<00:00, 18.72it/s, loss=0.6602, acc=92.10%]\n",
            "Validating: 100%|██████████| 79/79 [00:02<00:00, 33.19it/s]\n"
          ]
        },
        {
          "name": "stdout",
          "output_type": "stream",
          "text": [
            "Train Loss: 0.6746, Train Acc: 92.10%\n",
            "Test Loss: 0.7481, Test Acc: 91.20%\n",
            "Learning Rate: 0.000104\n",
            "✓ Saved best model with test accuracy: 91.20%\n",
            "\n",
            "Epoch 191/300\n"
          ]
        },
        {
          "name": "stderr",
          "output_type": "stream",
          "text": [
            "Training: 100%|██████████| 391/391 [00:20<00:00, 18.69it/s, loss=0.6593, acc=92.48%]\n",
            "Validating: 100%|██████████| 79/79 [00:02<00:00, 33.22it/s]\n"
          ]
        },
        {
          "name": "stdout",
          "output_type": "stream",
          "text": [
            "Train Loss: 0.6705, Train Acc: 92.48%\n",
            "Test Loss: 0.7490, Test Acc: 91.11%\n",
            "Learning Rate: 0.000103\n",
            "\n",
            "Epoch 192/300\n"
          ]
        },
        {
          "name": "stderr",
          "output_type": "stream",
          "text": [
            "Training: 100%|██████████| 391/391 [00:20<00:00, 18.82it/s, loss=0.8037, acc=92.41%]\n",
            "Validating: 100%|██████████| 79/79 [00:02<00:00, 33.28it/s]\n"
          ]
        },
        {
          "name": "stdout",
          "output_type": "stream",
          "text": [
            "Train Loss: 0.6702, Train Acc: 92.41%\n",
            "Test Loss: 0.7502, Test Acc: 91.15%\n",
            "Learning Rate: 0.000101\n",
            "\n",
            "Epoch 193/300\n"
          ]
        },
        {
          "name": "stderr",
          "output_type": "stream",
          "text": [
            "Training: 100%|██████████| 391/391 [00:21<00:00, 18.47it/s, loss=0.7713, acc=92.72%]\n",
            "Validating: 100%|██████████| 79/79 [00:02<00:00, 33.34it/s]\n"
          ]
        },
        {
          "name": "stdout",
          "output_type": "stream",
          "text": [
            "Train Loss: 0.6653, Train Acc: 92.72%\n",
            "Test Loss: 0.7638, Test Acc: 90.58%\n",
            "Learning Rate: 0.000100\n",
            "\n",
            "Epoch 194/300\n"
          ]
        },
        {
          "name": "stderr",
          "output_type": "stream",
          "text": [
            "Training: 100%|██████████| 391/391 [00:21<00:00, 18.41it/s, loss=0.6869, acc=92.59%]\n",
            "Validating: 100%|██████████| 79/79 [00:02<00:00, 33.23it/s]\n"
          ]
        },
        {
          "name": "stdout",
          "output_type": "stream",
          "text": [
            "Train Loss: 0.6662, Train Acc: 92.59%\n",
            "Test Loss: 0.7609, Test Acc: 90.86%\n",
            "Learning Rate: 0.000098\n",
            "\n",
            "Epoch 195/300\n"
          ]
        },
        {
          "name": "stderr",
          "output_type": "stream",
          "text": [
            "Training: 100%|██████████| 391/391 [00:21<00:00, 18.58it/s, loss=0.6506, acc=92.70%]\n",
            "Validating: 100%|██████████| 79/79 [00:02<00:00, 33.29it/s]\n"
          ]
        },
        {
          "name": "stdout",
          "output_type": "stream",
          "text": [
            "Train Loss: 0.6648, Train Acc: 92.70%\n",
            "Test Loss: 0.7522, Test Acc: 90.96%\n",
            "Learning Rate: 0.000097\n",
            "\n",
            "Epoch 196/300\n"
          ]
        },
        {
          "name": "stderr",
          "output_type": "stream",
          "text": [
            "Training: 100%|██████████| 391/391 [00:21<00:00, 18.50it/s, loss=0.9253, acc=92.51%]\n",
            "Validating: 100%|██████████| 79/79 [00:02<00:00, 33.25it/s]\n"
          ]
        },
        {
          "name": "stdout",
          "output_type": "stream",
          "text": [
            "Train Loss: 0.6675, Train Acc: 92.51%\n",
            "Test Loss: 0.7458, Test Acc: 91.44%\n",
            "Learning Rate: 0.000095\n",
            "✓ Saved best model with test accuracy: 91.44%\n",
            "\n",
            "Epoch 197/300\n"
          ]
        },
        {
          "name": "stderr",
          "output_type": "stream",
          "text": [
            "Training: 100%|██████████| 391/391 [00:20<00:00, 18.78it/s, loss=0.7763, acc=92.78%]\n",
            "Validating: 100%|██████████| 79/79 [00:02<00:00, 33.28it/s]\n"
          ]
        },
        {
          "name": "stdout",
          "output_type": "stream",
          "text": [
            "Train Loss: 0.6633, Train Acc: 92.78%\n",
            "Test Loss: 0.7417, Test Acc: 91.39%\n",
            "Learning Rate: 0.000094\n",
            "\n",
            "Epoch 198/300\n"
          ]
        },
        {
          "name": "stderr",
          "output_type": "stream",
          "text": [
            "Training: 100%|██████████| 391/391 [00:20<00:00, 19.23it/s, loss=0.7177, acc=92.76%]\n",
            "Validating: 100%|██████████| 79/79 [00:02<00:00, 33.25it/s]\n"
          ]
        },
        {
          "name": "stdout",
          "output_type": "stream",
          "text": [
            "Train Loss: 0.6634, Train Acc: 92.76%\n",
            "Test Loss: 0.7467, Test Acc: 91.11%\n",
            "Learning Rate: 0.000093\n",
            "\n",
            "Epoch 199/300\n"
          ]
        },
        {
          "name": "stderr",
          "output_type": "stream",
          "text": [
            "Training: 100%|██████████| 391/391 [00:21<00:00, 18.38it/s, loss=0.6715, acc=92.74%]\n",
            "Validating: 100%|██████████| 79/79 [00:02<00:00, 33.26it/s]\n"
          ]
        },
        {
          "name": "stdout",
          "output_type": "stream",
          "text": [
            "Train Loss: 0.6624, Train Acc: 92.74%\n",
            "Test Loss: 0.7456, Test Acc: 90.96%\n",
            "Learning Rate: 0.000091\n",
            "\n",
            "Epoch 200/300\n"
          ]
        },
        {
          "name": "stderr",
          "output_type": "stream",
          "text": [
            "Training: 100%|██████████| 391/391 [00:21<00:00, 18.43it/s, loss=0.6988, acc=92.72%]\n",
            "Validating: 100%|██████████| 79/79 [00:02<00:00, 33.33it/s]\n"
          ]
        },
        {
          "name": "stdout",
          "output_type": "stream",
          "text": [
            "Train Loss: 0.6631, Train Acc: 92.72%\n",
            "Test Loss: 0.7515, Test Acc: 91.05%\n",
            "Learning Rate: 0.000090\n",
            "\n",
            "Epoch 201/300\n"
          ]
        },
        {
          "name": "stderr",
          "output_type": "stream",
          "text": [
            "Training: 100%|██████████| 391/391 [00:21<00:00, 18.60it/s, loss=0.5913, acc=93.03%]\n",
            "Validating: 100%|██████████| 79/79 [00:02<00:00, 33.31it/s]\n"
          ]
        },
        {
          "name": "stdout",
          "output_type": "stream",
          "text": [
            "Train Loss: 0.6567, Train Acc: 93.03%\n",
            "Test Loss: 0.7661, Test Acc: 90.47%\n",
            "Learning Rate: 0.000088\n",
            "\n",
            "Epoch 202/300\n"
          ]
        },
        {
          "name": "stderr",
          "output_type": "stream",
          "text": [
            "Training: 100%|██████████| 391/391 [00:20<00:00, 18.77it/s, loss=0.6493, acc=92.96%]\n",
            "Validating: 100%|██████████| 79/79 [00:02<00:00, 33.33it/s]\n"
          ]
        },
        {
          "name": "stdout",
          "output_type": "stream",
          "text": [
            "Train Loss: 0.6595, Train Acc: 92.96%\n",
            "Test Loss: 0.7529, Test Acc: 91.25%\n",
            "Learning Rate: 0.000087\n",
            "\n",
            "Epoch 203/300\n"
          ]
        },
        {
          "name": "stderr",
          "output_type": "stream",
          "text": [
            "Training: 100%|██████████| 391/391 [00:21<00:00, 18.57it/s, loss=0.5850, acc=93.10%]\n",
            "Validating: 100%|██████████| 79/79 [00:02<00:00, 33.56it/s]\n"
          ]
        },
        {
          "name": "stdout",
          "output_type": "stream",
          "text": [
            "Train Loss: 0.6567, Train Acc: 93.10%\n",
            "Test Loss: 0.7485, Test Acc: 91.09%\n",
            "Learning Rate: 0.000085\n",
            "\n",
            "Epoch 204/300\n"
          ]
        },
        {
          "name": "stderr",
          "output_type": "stream",
          "text": [
            "Training: 100%|██████████| 391/391 [00:21<00:00, 18.36it/s, loss=0.7780, acc=92.94%]\n",
            "Validating: 100%|██████████| 79/79 [00:02<00:00, 33.34it/s]\n"
          ]
        },
        {
          "name": "stdout",
          "output_type": "stream",
          "text": [
            "Train Loss: 0.6598, Train Acc: 92.94%\n",
            "Test Loss: 0.7559, Test Acc: 91.11%\n",
            "Learning Rate: 0.000084\n",
            "\n",
            "Epoch 205/300\n"
          ]
        },
        {
          "name": "stderr",
          "output_type": "stream",
          "text": [
            "Training: 100%|██████████| 391/391 [00:21<00:00, 18.15it/s, loss=0.7387, acc=93.14%]\n",
            "Validating: 100%|██████████| 79/79 [00:02<00:00, 33.55it/s]\n"
          ]
        },
        {
          "name": "stdout",
          "output_type": "stream",
          "text": [
            "Train Loss: 0.6555, Train Acc: 93.14%\n",
            "Test Loss: 0.7584, Test Acc: 90.83%\n",
            "Learning Rate: 0.000083\n",
            "\n",
            "Epoch 206/300\n"
          ]
        },
        {
          "name": "stderr",
          "output_type": "stream",
          "text": [
            "Training: 100%|██████████| 391/391 [00:21<00:00, 18.57it/s, loss=0.6649, acc=93.12%]\n",
            "Validating: 100%|██████████| 79/79 [00:02<00:00, 33.41it/s]\n"
          ]
        },
        {
          "name": "stdout",
          "output_type": "stream",
          "text": [
            "Train Loss: 0.6545, Train Acc: 93.12%\n",
            "Test Loss: 0.7566, Test Acc: 91.11%\n",
            "Learning Rate: 0.000081\n",
            "\n",
            "Epoch 207/300\n"
          ]
        },
        {
          "name": "stderr",
          "output_type": "stream",
          "text": [
            "Training: 100%|██████████| 391/391 [00:21<00:00, 18.45it/s, loss=0.6780, acc=93.19%]\n",
            "Validating: 100%|██████████| 79/79 [00:02<00:00, 33.27it/s]\n"
          ]
        },
        {
          "name": "stdout",
          "output_type": "stream",
          "text": [
            "Train Loss: 0.6525, Train Acc: 93.19%\n",
            "Test Loss: 0.7442, Test Acc: 91.32%\n",
            "Learning Rate: 0.000080\n",
            "\n",
            "Epoch 208/300\n"
          ]
        },
        {
          "name": "stderr",
          "output_type": "stream",
          "text": [
            "Training: 100%|██████████| 391/391 [00:21<00:00, 18.30it/s, loss=0.6007, acc=93.28%]\n",
            "Validating: 100%|██████████| 79/79 [00:02<00:00, 33.29it/s]\n"
          ]
        },
        {
          "name": "stdout",
          "output_type": "stream",
          "text": [
            "Train Loss: 0.6514, Train Acc: 93.28%\n",
            "Test Loss: 0.7599, Test Acc: 90.79%\n",
            "Learning Rate: 0.000078\n",
            "\n",
            "Epoch 209/300\n"
          ]
        },
        {
          "name": "stderr",
          "output_type": "stream",
          "text": [
            "Training: 100%|██████████| 391/391 [00:21<00:00, 18.31it/s, loss=0.5344, acc=93.42%]\n",
            "Validating: 100%|██████████| 79/79 [00:02<00:00, 33.40it/s]\n"
          ]
        },
        {
          "name": "stdout",
          "output_type": "stream",
          "text": [
            "Train Loss: 0.6493, Train Acc: 93.42%\n",
            "Test Loss: 0.7441, Test Acc: 91.32%\n",
            "Learning Rate: 0.000077\n",
            "\n",
            "Epoch 210/300\n"
          ]
        },
        {
          "name": "stderr",
          "output_type": "stream",
          "text": [
            "Training: 100%|██████████| 391/391 [00:21<00:00, 18.37it/s, loss=0.6377, acc=93.32%]\n",
            "Validating: 100%|██████████| 79/79 [00:02<00:00, 33.43it/s]\n"
          ]
        },
        {
          "name": "stdout",
          "output_type": "stream",
          "text": [
            "Train Loss: 0.6517, Train Acc: 93.32%\n",
            "Test Loss: 0.7432, Test Acc: 91.51%\n",
            "Learning Rate: 0.000076\n",
            "✓ Saved best model with test accuracy: 91.51%\n",
            "\n",
            "Epoch 211/300\n"
          ]
        },
        {
          "name": "stderr",
          "output_type": "stream",
          "text": [
            "Training: 100%|██████████| 391/391 [00:20<00:00, 18.71it/s, loss=0.6011, acc=93.23%]\n",
            "Validating: 100%|██████████| 79/79 [00:02<00:00, 33.31it/s]\n"
          ]
        },
        {
          "name": "stdout",
          "output_type": "stream",
          "text": [
            "Train Loss: 0.6497, Train Acc: 93.23%\n",
            "Test Loss: 0.7460, Test Acc: 91.24%\n",
            "Learning Rate: 0.000074\n",
            "\n",
            "Epoch 212/300\n"
          ]
        },
        {
          "name": "stderr",
          "output_type": "stream",
          "text": [
            "Training: 100%|██████████| 391/391 [00:20<00:00, 18.73it/s, loss=0.6148, acc=93.33%]\n",
            "Validating: 100%|██████████| 79/79 [00:02<00:00, 33.37it/s]\n"
          ]
        },
        {
          "name": "stdout",
          "output_type": "stream",
          "text": [
            "Train Loss: 0.6496, Train Acc: 93.33%\n",
            "Test Loss: 0.7444, Test Acc: 91.32%\n",
            "Learning Rate: 0.000073\n",
            "\n",
            "Epoch 213/300\n"
          ]
        },
        {
          "name": "stderr",
          "output_type": "stream",
          "text": [
            "Training: 100%|██████████| 391/391 [00:21<00:00, 18.44it/s, loss=0.6548, acc=93.31%]\n",
            "Validating: 100%|██████████| 79/79 [00:02<00:00, 33.30it/s]\n"
          ]
        },
        {
          "name": "stdout",
          "output_type": "stream",
          "text": [
            "Train Loss: 0.6509, Train Acc: 93.31%\n",
            "Test Loss: 0.7490, Test Acc: 91.34%\n",
            "Learning Rate: 0.000072\n",
            "\n",
            "Epoch 214/300\n"
          ]
        },
        {
          "name": "stderr",
          "output_type": "stream",
          "text": [
            "Training: 100%|██████████| 391/391 [00:21<00:00, 18.44it/s, loss=0.5654, acc=93.45%]\n",
            "Validating: 100%|██████████| 79/79 [00:02<00:00, 33.22it/s]\n"
          ]
        },
        {
          "name": "stdout",
          "output_type": "stream",
          "text": [
            "Train Loss: 0.6475, Train Acc: 93.45%\n",
            "Test Loss: 0.7424, Test Acc: 91.45%\n",
            "Learning Rate: 0.000070\n",
            "\n",
            "Epoch 215/300\n"
          ]
        },
        {
          "name": "stderr",
          "output_type": "stream",
          "text": [
            "Training: 100%|██████████| 391/391 [00:20<00:00, 18.88it/s, loss=0.6397, acc=93.58%]\n",
            "Validating: 100%|██████████| 79/79 [00:02<00:00, 33.24it/s]\n"
          ]
        },
        {
          "name": "stdout",
          "output_type": "stream",
          "text": [
            "Train Loss: 0.6455, Train Acc: 93.58%\n",
            "Test Loss: 0.7402, Test Acc: 91.62%\n",
            "Learning Rate: 0.000069\n",
            "✓ Saved best model with test accuracy: 91.62%\n",
            "\n",
            "Epoch 216/300\n"
          ]
        },
        {
          "name": "stderr",
          "output_type": "stream",
          "text": [
            "Training: 100%|██████████| 391/391 [00:21<00:00, 18.53it/s, loss=0.6659, acc=93.45%]\n",
            "Validating: 100%|██████████| 79/79 [00:02<00:00, 33.24it/s]\n"
          ]
        },
        {
          "name": "stdout",
          "output_type": "stream",
          "text": [
            "Train Loss: 0.6472, Train Acc: 93.45%\n",
            "Test Loss: 0.7536, Test Acc: 91.05%\n",
            "Learning Rate: 0.000068\n",
            "\n",
            "Epoch 217/300\n"
          ]
        },
        {
          "name": "stderr",
          "output_type": "stream",
          "text": [
            "Training: 100%|██████████| 391/391 [00:21<00:00, 18.45it/s, loss=0.6905, acc=93.57%]\n",
            "Validating: 100%|██████████| 79/79 [00:02<00:00, 33.45it/s]\n"
          ]
        },
        {
          "name": "stdout",
          "output_type": "stream",
          "text": [
            "Train Loss: 0.6443, Train Acc: 93.57%\n",
            "Test Loss: 0.7473, Test Acc: 91.49%\n",
            "Learning Rate: 0.000066\n",
            "\n",
            "Epoch 218/300\n"
          ]
        },
        {
          "name": "stderr",
          "output_type": "stream",
          "text": [
            "Training: 100%|██████████| 391/391 [00:21<00:00, 18.20it/s, loss=0.5310, acc=93.67%]\n",
            "Validating: 100%|██████████| 79/79 [00:02<00:00, 33.34it/s]\n"
          ]
        },
        {
          "name": "stdout",
          "output_type": "stream",
          "text": [
            "Train Loss: 0.6426, Train Acc: 93.67%\n",
            "Test Loss: 0.7584, Test Acc: 91.25%\n",
            "Learning Rate: 0.000065\n",
            "\n",
            "Epoch 219/300\n"
          ]
        },
        {
          "name": "stderr",
          "output_type": "stream",
          "text": [
            "Training: 100%|██████████| 391/391 [00:21<00:00, 18.62it/s, loss=0.6275, acc=93.87%]\n",
            "Validating: 100%|██████████| 79/79 [00:02<00:00, 33.53it/s]\n"
          ]
        },
        {
          "name": "stdout",
          "output_type": "stream",
          "text": [
            "Train Loss: 0.6391, Train Acc: 93.87%\n",
            "Test Loss: 0.7489, Test Acc: 91.30%\n",
            "Learning Rate: 0.000064\n",
            "\n",
            "Epoch 220/300\n"
          ]
        },
        {
          "name": "stderr",
          "output_type": "stream",
          "text": [
            "Training: 100%|██████████| 391/391 [00:21<00:00, 18.47it/s, loss=0.6898, acc=93.64%]\n",
            "Validating: 100%|██████████| 79/79 [00:02<00:00, 33.27it/s]\n"
          ]
        },
        {
          "name": "stdout",
          "output_type": "stream",
          "text": [
            "Train Loss: 0.6450, Train Acc: 93.64%\n",
            "Test Loss: 0.7512, Test Acc: 91.24%\n",
            "Learning Rate: 0.000063\n",
            "\n",
            "Epoch 221/300\n"
          ]
        },
        {
          "name": "stderr",
          "output_type": "stream",
          "text": [
            "Training: 100%|██████████| 391/391 [00:21<00:00, 18.07it/s, loss=0.5224, acc=93.79%]\n",
            "Validating: 100%|██████████| 79/79 [00:02<00:00, 33.58it/s]\n"
          ]
        },
        {
          "name": "stdout",
          "output_type": "stream",
          "text": [
            "Train Loss: 0.6402, Train Acc: 93.79%\n",
            "Test Loss: 0.7466, Test Acc: 91.47%\n",
            "Learning Rate: 0.000061\n",
            "\n",
            "Epoch 222/300\n"
          ]
        },
        {
          "name": "stderr",
          "output_type": "stream",
          "text": [
            "Training: 100%|██████████| 391/391 [00:22<00:00, 17.68it/s, loss=0.6646, acc=93.88%]\n",
            "Validating: 100%|██████████| 79/79 [00:02<00:00, 33.34it/s]\n"
          ]
        },
        {
          "name": "stdout",
          "output_type": "stream",
          "text": [
            "Train Loss: 0.6393, Train Acc: 93.88%\n",
            "Test Loss: 0.7451, Test Acc: 91.44%\n",
            "Learning Rate: 0.000060\n",
            "\n",
            "Epoch 223/300\n"
          ]
        },
        {
          "name": "stderr",
          "output_type": "stream",
          "text": [
            "Training: 100%|██████████| 391/391 [00:21<00:00, 18.02it/s, loss=0.5810, acc=93.99%]\n",
            "Validating: 100%|██████████| 79/79 [00:02<00:00, 33.36it/s]\n"
          ]
        },
        {
          "name": "stdout",
          "output_type": "stream",
          "text": [
            "Train Loss: 0.6347, Train Acc: 93.99%\n",
            "Test Loss: 0.7455, Test Acc: 91.42%\n",
            "Learning Rate: 0.000059\n",
            "\n",
            "Epoch 224/300\n"
          ]
        },
        {
          "name": "stderr",
          "output_type": "stream",
          "text": [
            "Training: 100%|██████████| 391/391 [00:21<00:00, 18.28it/s, loss=0.5899, acc=93.83%]\n",
            "Validating: 100%|██████████| 79/79 [00:02<00:00, 33.56it/s]\n"
          ]
        },
        {
          "name": "stdout",
          "output_type": "stream",
          "text": [
            "Train Loss: 0.6397, Train Acc: 93.83%\n",
            "Test Loss: 0.7493, Test Acc: 91.43%\n",
            "Learning Rate: 0.000058\n",
            "\n",
            "Epoch 225/300\n"
          ]
        },
        {
          "name": "stderr",
          "output_type": "stream",
          "text": [
            "Training: 100%|██████████| 391/391 [00:20<00:00, 18.72it/s, loss=0.6461, acc=93.98%]\n",
            "Validating: 100%|██████████| 79/79 [00:02<00:00, 33.24it/s]\n"
          ]
        },
        {
          "name": "stdout",
          "output_type": "stream",
          "text": [
            "Train Loss: 0.6380, Train Acc: 93.98%\n",
            "Test Loss: 0.7469, Test Acc: 91.54%\n",
            "Learning Rate: 0.000056\n",
            "\n",
            "Epoch 226/300\n"
          ]
        },
        {
          "name": "stderr",
          "output_type": "stream",
          "text": [
            "Training: 100%|██████████| 391/391 [00:20<00:00, 18.63it/s, loss=0.7081, acc=93.93%]\n",
            "Validating: 100%|██████████| 79/79 [00:02<00:00, 33.50it/s]\n"
          ]
        },
        {
          "name": "stdout",
          "output_type": "stream",
          "text": [
            "Train Loss: 0.6357, Train Acc: 93.93%\n",
            "Test Loss: 0.7528, Test Acc: 91.36%\n",
            "Learning Rate: 0.000055\n",
            "\n",
            "Epoch 227/300\n"
          ]
        },
        {
          "name": "stderr",
          "output_type": "stream",
          "text": [
            "Training: 100%|██████████| 391/391 [00:21<00:00, 18.28it/s, loss=0.6433, acc=94.10%]\n",
            "Validating: 100%|██████████| 79/79 [00:02<00:00, 33.59it/s]\n"
          ]
        },
        {
          "name": "stdout",
          "output_type": "stream",
          "text": [
            "Train Loss: 0.6350, Train Acc: 94.10%\n",
            "Test Loss: 0.7535, Test Acc: 91.09%\n",
            "Learning Rate: 0.000054\n",
            "\n",
            "Epoch 228/300\n"
          ]
        },
        {
          "name": "stderr",
          "output_type": "stream",
          "text": [
            "Training: 100%|██████████| 391/391 [00:19<00:00, 19.87it/s, loss=0.6011, acc=94.00%]\n",
            "Validating: 100%|██████████| 79/79 [00:02<00:00, 33.46it/s]\n"
          ]
        },
        {
          "name": "stdout",
          "output_type": "stream",
          "text": [
            "Train Loss: 0.6342, Train Acc: 94.00%\n",
            "Test Loss: 0.7540, Test Acc: 91.26%\n",
            "Learning Rate: 0.000053\n",
            "\n",
            "Epoch 229/300\n"
          ]
        },
        {
          "name": "stderr",
          "output_type": "stream",
          "text": [
            "Training: 100%|██████████| 391/391 [00:21<00:00, 18.51it/s, loss=0.6323, acc=94.10%]\n",
            "Validating: 100%|██████████| 79/79 [00:02<00:00, 33.20it/s]\n"
          ]
        },
        {
          "name": "stdout",
          "output_type": "stream",
          "text": [
            "Train Loss: 0.6344, Train Acc: 94.10%\n",
            "Test Loss: 0.7426, Test Acc: 91.86%\n",
            "Learning Rate: 0.000052\n",
            "✓ Saved best model with test accuracy: 91.86%\n",
            "\n",
            "Epoch 230/300\n"
          ]
        },
        {
          "name": "stderr",
          "output_type": "stream",
          "text": [
            "Training: 100%|██████████| 391/391 [00:21<00:00, 18.53it/s, loss=0.6161, acc=94.11%]\n",
            "Validating: 100%|██████████| 79/79 [00:02<00:00, 33.37it/s]\n"
          ]
        },
        {
          "name": "stdout",
          "output_type": "stream",
          "text": [
            "Train Loss: 0.6352, Train Acc: 94.11%\n",
            "Test Loss: 0.7480, Test Acc: 91.72%\n",
            "Learning Rate: 0.000050\n",
            "\n",
            "Epoch 231/300\n"
          ]
        },
        {
          "name": "stderr",
          "output_type": "stream",
          "text": [
            "Training: 100%|██████████| 391/391 [00:20<00:00, 18.73it/s, loss=0.6634, acc=93.88%]\n",
            "Validating: 100%|██████████| 79/79 [00:02<00:00, 33.38it/s]\n"
          ]
        },
        {
          "name": "stdout",
          "output_type": "stream",
          "text": [
            "Train Loss: 0.6348, Train Acc: 93.88%\n",
            "Test Loss: 0.7575, Test Acc: 91.40%\n",
            "Learning Rate: 0.000049\n",
            "\n",
            "Epoch 232/300\n"
          ]
        },
        {
          "name": "stderr",
          "output_type": "stream",
          "text": [
            "Training: 100%|██████████| 391/391 [00:21<00:00, 18.21it/s, loss=0.7316, acc=94.22%]\n",
            "Validating: 100%|██████████| 79/79 [00:02<00:00, 33.35it/s]\n"
          ]
        },
        {
          "name": "stdout",
          "output_type": "stream",
          "text": [
            "Train Loss: 0.6309, Train Acc: 94.22%\n",
            "Test Loss: 0.7544, Test Acc: 91.37%\n",
            "Learning Rate: 0.000048\n",
            "\n",
            "Epoch 233/300\n"
          ]
        },
        {
          "name": "stderr",
          "output_type": "stream",
          "text": [
            "Training: 100%|██████████| 391/391 [00:21<00:00, 18.06it/s, loss=0.5999, acc=94.15%]\n",
            "Validating: 100%|██████████| 79/79 [00:02<00:00, 33.26it/s]\n"
          ]
        },
        {
          "name": "stdout",
          "output_type": "stream",
          "text": [
            "Train Loss: 0.6342, Train Acc: 94.15%\n",
            "Test Loss: 0.7402, Test Acc: 91.84%\n",
            "Learning Rate: 0.000047\n",
            "\n",
            "Epoch 234/300\n"
          ]
        },
        {
          "name": "stderr",
          "output_type": "stream",
          "text": [
            "Training: 100%|██████████| 391/391 [00:21<00:00, 18.24it/s, loss=0.5634, acc=94.31%]\n",
            "Validating: 100%|██████████| 79/79 [00:02<00:00, 33.28it/s]\n"
          ]
        },
        {
          "name": "stdout",
          "output_type": "stream",
          "text": [
            "Train Loss: 0.6294, Train Acc: 94.31%\n",
            "Test Loss: 0.7477, Test Acc: 91.51%\n",
            "Learning Rate: 0.000046\n",
            "\n",
            "Epoch 235/300\n"
          ]
        },
        {
          "name": "stderr",
          "output_type": "stream",
          "text": [
            "Training: 100%|██████████| 391/391 [00:21<00:00, 18.62it/s, loss=0.5904, acc=94.19%]\n",
            "Validating: 100%|██████████| 79/79 [00:02<00:00, 33.29it/s]\n"
          ]
        },
        {
          "name": "stdout",
          "output_type": "stream",
          "text": [
            "Train Loss: 0.6299, Train Acc: 94.19%\n",
            "Test Loss: 0.7448, Test Acc: 91.49%\n",
            "Learning Rate: 0.000045\n",
            "\n",
            "Epoch 236/300\n"
          ]
        },
        {
          "name": "stderr",
          "output_type": "stream",
          "text": [
            "Training: 100%|██████████| 391/391 [00:19<00:00, 19.95it/s, loss=0.6604, acc=94.29%]\n",
            "Validating: 100%|██████████| 79/79 [00:02<00:00, 33.17it/s]\n"
          ]
        },
        {
          "name": "stdout",
          "output_type": "stream",
          "text": [
            "Train Loss: 0.6302, Train Acc: 94.29%\n",
            "Test Loss: 0.7508, Test Acc: 91.32%\n",
            "Learning Rate: 0.000044\n",
            "\n",
            "Epoch 237/300\n"
          ]
        },
        {
          "name": "stderr",
          "output_type": "stream",
          "text": [
            "Training: 100%|██████████| 391/391 [00:21<00:00, 18.38it/s, loss=0.5695, acc=94.33%]\n",
            "Validating: 100%|██████████| 79/79 [00:02<00:00, 33.24it/s]\n"
          ]
        },
        {
          "name": "stdout",
          "output_type": "stream",
          "text": [
            "Train Loss: 0.6282, Train Acc: 94.33%\n",
            "Test Loss: 0.7446, Test Acc: 91.82%\n",
            "Learning Rate: 0.000043\n",
            "\n",
            "Epoch 238/300\n"
          ]
        },
        {
          "name": "stderr",
          "output_type": "stream",
          "text": [
            "Training: 100%|██████████| 391/391 [00:21<00:00, 18.47it/s, loss=0.5657, acc=94.63%]\n",
            "Validating: 100%|██████████| 79/79 [00:02<00:00, 33.22it/s]\n"
          ]
        },
        {
          "name": "stdout",
          "output_type": "stream",
          "text": [
            "Train Loss: 0.6230, Train Acc: 94.63%\n",
            "Test Loss: 0.7546, Test Acc: 91.33%\n",
            "Learning Rate: 0.000042\n",
            "\n",
            "Epoch 239/300\n"
          ]
        },
        {
          "name": "stderr",
          "output_type": "stream",
          "text": [
            "Training: 100%|██████████| 391/391 [00:21<00:00, 18.38it/s, loss=0.6604, acc=94.45%]\n",
            "Validating: 100%|██████████| 79/79 [00:02<00:00, 33.39it/s]\n"
          ]
        },
        {
          "name": "stdout",
          "output_type": "stream",
          "text": [
            "Train Loss: 0.6269, Train Acc: 94.45%\n",
            "Test Loss: 0.7477, Test Acc: 91.79%\n",
            "Learning Rate: 0.000040\n",
            "\n",
            "Epoch 240/300\n"
          ]
        },
        {
          "name": "stderr",
          "output_type": "stream",
          "text": [
            "Training: 100%|██████████| 391/391 [00:20<00:00, 18.83it/s, loss=0.6302, acc=94.41%]\n",
            "Validating: 100%|██████████| 79/79 [00:02<00:00, 33.14it/s]\n"
          ]
        },
        {
          "name": "stdout",
          "output_type": "stream",
          "text": [
            "Train Loss: 0.6279, Train Acc: 94.41%\n",
            "Test Loss: 0.7515, Test Acc: 91.37%\n",
            "Learning Rate: 0.000039\n",
            "\n",
            "Epoch 241/300\n"
          ]
        },
        {
          "name": "stderr",
          "output_type": "stream",
          "text": [
            "Training: 100%|██████████| 391/391 [00:20<00:00, 18.87it/s, loss=0.5936, acc=94.47%]\n",
            "Validating: 100%|██████████| 79/79 [00:02<00:00, 33.23it/s]\n"
          ]
        },
        {
          "name": "stdout",
          "output_type": "stream",
          "text": [
            "Train Loss: 0.6255, Train Acc: 94.47%\n",
            "Test Loss: 0.7454, Test Acc: 91.76%\n",
            "Learning Rate: 0.000038\n",
            "\n",
            "Epoch 242/300\n"
          ]
        },
        {
          "name": "stderr",
          "output_type": "stream",
          "text": [
            "Training: 100%|██████████| 391/391 [00:20<00:00, 18.79it/s, loss=0.5470, acc=94.63%]\n",
            "Validating: 100%|██████████| 79/79 [00:02<00:00, 33.29it/s]\n"
          ]
        },
        {
          "name": "stdout",
          "output_type": "stream",
          "text": [
            "Train Loss: 0.6211, Train Acc: 94.63%\n",
            "Test Loss: 0.7430, Test Acc: 91.64%\n",
            "Learning Rate: 0.000037\n",
            "\n",
            "Epoch 243/300\n"
          ]
        },
        {
          "name": "stderr",
          "output_type": "stream",
          "text": [
            "Training: 100%|██████████| 391/391 [00:20<00:00, 19.01it/s, loss=0.6180, acc=94.44%]\n",
            "Validating: 100%|██████████| 79/79 [00:02<00:00, 33.39it/s]\n"
          ]
        },
        {
          "name": "stdout",
          "output_type": "stream",
          "text": [
            "Train Loss: 0.6247, Train Acc: 94.44%\n",
            "Test Loss: 0.7427, Test Acc: 91.67%\n",
            "Learning Rate: 0.000036\n",
            "\n",
            "Epoch 244/300\n"
          ]
        },
        {
          "name": "stderr",
          "output_type": "stream",
          "text": [
            "Training: 100%|██████████| 391/391 [00:21<00:00, 18.43it/s, loss=0.6469, acc=94.56%]\n",
            "Validating: 100%|██████████| 79/79 [00:02<00:00, 33.24it/s]\n"
          ]
        },
        {
          "name": "stdout",
          "output_type": "stream",
          "text": [
            "Train Loss: 0.6218, Train Acc: 94.56%\n",
            "Test Loss: 0.7450, Test Acc: 91.80%\n",
            "Learning Rate: 0.000035\n",
            "\n",
            "Epoch 245/300\n"
          ]
        },
        {
          "name": "stderr",
          "output_type": "stream",
          "text": [
            "Training: 100%|██████████| 391/391 [00:21<00:00, 18.41it/s, loss=0.6570, acc=94.38%]\n",
            "Validating: 100%|██████████| 79/79 [00:02<00:00, 33.16it/s]\n"
          ]
        },
        {
          "name": "stdout",
          "output_type": "stream",
          "text": [
            "Train Loss: 0.6249, Train Acc: 94.38%\n",
            "Test Loss: 0.7436, Test Acc: 91.79%\n",
            "Learning Rate: 0.000034\n",
            "\n",
            "Epoch 246/300\n"
          ]
        },
        {
          "name": "stderr",
          "output_type": "stream",
          "text": [
            "Training: 100%|██████████| 391/391 [00:21<00:00, 18.27it/s, loss=0.5614, acc=94.80%]\n",
            "Validating: 100%|██████████| 79/79 [00:02<00:00, 33.32it/s]\n"
          ]
        },
        {
          "name": "stdout",
          "output_type": "stream",
          "text": [
            "Train Loss: 0.6184, Train Acc: 94.80%\n",
            "Test Loss: 0.7494, Test Acc: 91.47%\n",
            "Learning Rate: 0.000033\n",
            "\n",
            "Epoch 247/300\n"
          ]
        },
        {
          "name": "stderr",
          "output_type": "stream",
          "text": [
            "Training: 100%|██████████| 391/391 [00:21<00:00, 18.45it/s, loss=0.6566, acc=94.71%]\n",
            "Validating: 100%|██████████| 79/79 [00:02<00:00, 33.32it/s]\n"
          ]
        },
        {
          "name": "stdout",
          "output_type": "stream",
          "text": [
            "Train Loss: 0.6209, Train Acc: 94.71%\n",
            "Test Loss: 0.7492, Test Acc: 91.73%\n",
            "Learning Rate: 0.000032\n",
            "\n",
            "Epoch 248/300\n"
          ]
        },
        {
          "name": "stderr",
          "output_type": "stream",
          "text": [
            "Training: 100%|██████████| 391/391 [00:20<00:00, 18.65it/s, loss=0.7241, acc=94.66%]\n",
            "Validating: 100%|██████████| 79/79 [00:02<00:00, 33.19it/s]\n"
          ]
        },
        {
          "name": "stdout",
          "output_type": "stream",
          "text": [
            "Train Loss: 0.6204, Train Acc: 94.66%\n",
            "Test Loss: 0.7447, Test Acc: 91.53%\n",
            "Learning Rate: 0.000031\n",
            "\n",
            "Epoch 249/300\n"
          ]
        },
        {
          "name": "stderr",
          "output_type": "stream",
          "text": [
            "Training: 100%|██████████| 391/391 [00:20<00:00, 18.77it/s, loss=0.5909, acc=94.77%]\n",
            "Validating: 100%|██████████| 79/79 [00:02<00:00, 33.20it/s]\n"
          ]
        },
        {
          "name": "stdout",
          "output_type": "stream",
          "text": [
            "Train Loss: 0.6193, Train Acc: 94.77%\n",
            "Test Loss: 0.7465, Test Acc: 91.82%\n",
            "Learning Rate: 0.000030\n",
            "\n",
            "Epoch 250/300\n"
          ]
        },
        {
          "name": "stderr",
          "output_type": "stream",
          "text": [
            "Training: 100%|██████████| 391/391 [00:21<00:00, 18.49it/s, loss=0.5916, acc=94.64%]\n",
            "Validating: 100%|██████████| 79/79 [00:02<00:00, 33.24it/s]\n"
          ]
        },
        {
          "name": "stdout",
          "output_type": "stream",
          "text": [
            "Train Loss: 0.6208, Train Acc: 94.64%\n",
            "Test Loss: 0.7383, Test Acc: 91.79%\n",
            "Learning Rate: 0.000030\n",
            "\n",
            "Epoch 251/300\n"
          ]
        },
        {
          "name": "stderr",
          "output_type": "stream",
          "text": [
            "Training: 100%|██████████| 391/391 [00:21<00:00, 18.59it/s, loss=0.6295, acc=94.73%]\n",
            "Validating: 100%|██████████| 79/79 [00:02<00:00, 33.29it/s]\n"
          ]
        },
        {
          "name": "stdout",
          "output_type": "stream",
          "text": [
            "Train Loss: 0.6182, Train Acc: 94.73%\n",
            "Test Loss: 0.7417, Test Acc: 91.66%\n",
            "Learning Rate: 0.000029\n",
            "\n",
            "Epoch 252/300\n"
          ]
        },
        {
          "name": "stderr",
          "output_type": "stream",
          "text": [
            "Training: 100%|██████████| 391/391 [00:20<00:00, 18.80it/s, loss=0.5812, acc=94.78%]\n",
            "Validating: 100%|██████████| 79/79 [00:02<00:00, 33.30it/s]\n"
          ]
        },
        {
          "name": "stdout",
          "output_type": "stream",
          "text": [
            "Train Loss: 0.6206, Train Acc: 94.78%\n",
            "Test Loss: 0.7371, Test Acc: 91.94%\n",
            "Learning Rate: 0.000028\n",
            "✓ Saved best model with test accuracy: 91.94%\n",
            "\n",
            "Epoch 253/300\n"
          ]
        },
        {
          "name": "stderr",
          "output_type": "stream",
          "text": [
            "Training: 100%|██████████| 391/391 [00:21<00:00, 18.53it/s, loss=0.5618, acc=94.89%]\n",
            "Validating: 100%|██████████| 79/79 [00:02<00:00, 33.26it/s]\n"
          ]
        },
        {
          "name": "stdout",
          "output_type": "stream",
          "text": [
            "Train Loss: 0.6150, Train Acc: 94.89%\n",
            "Test Loss: 0.7328, Test Acc: 91.99%\n",
            "Learning Rate: 0.000027\n",
            "✓ Saved best model with test accuracy: 91.99%\n",
            "\n",
            "Epoch 254/300\n"
          ]
        },
        {
          "name": "stderr",
          "output_type": "stream",
          "text": [
            "Training: 100%|██████████| 391/391 [00:21<00:00, 18.17it/s, loss=0.6129, acc=94.71%]\n",
            "Validating: 100%|██████████| 79/79 [00:02<00:00, 33.20it/s]\n"
          ]
        },
        {
          "name": "stdout",
          "output_type": "stream",
          "text": [
            "Train Loss: 0.6194, Train Acc: 94.71%\n",
            "Test Loss: 0.7385, Test Acc: 91.77%\n",
            "Learning Rate: 0.000026\n",
            "\n",
            "Epoch 255/300\n"
          ]
        },
        {
          "name": "stderr",
          "output_type": "stream",
          "text": [
            "Training: 100%|██████████| 391/391 [00:21<00:00, 18.26it/s, loss=0.6452, acc=94.48%]\n",
            "Validating: 100%|██████████| 79/79 [00:02<00:00, 33.41it/s]\n"
          ]
        },
        {
          "name": "stdout",
          "output_type": "stream",
          "text": [
            "Train Loss: 0.6231, Train Acc: 94.48%\n",
            "Test Loss: 0.7367, Test Acc: 91.80%\n",
            "Learning Rate: 0.000025\n",
            "\n",
            "Epoch 256/300\n"
          ]
        },
        {
          "name": "stderr",
          "output_type": "stream",
          "text": [
            "Training: 100%|██████████| 391/391 [00:21<00:00, 18.20it/s, loss=0.6369, acc=94.80%]\n",
            "Validating: 100%|██████████| 79/79 [00:02<00:00, 33.34it/s]\n"
          ]
        },
        {
          "name": "stdout",
          "output_type": "stream",
          "text": [
            "Train Loss: 0.6175, Train Acc: 94.80%\n",
            "Test Loss: 0.7322, Test Acc: 92.09%\n",
            "Learning Rate: 0.000024\n",
            "✓ Saved best model with test accuracy: 92.09%\n",
            "\n",
            "Epoch 257/300\n"
          ]
        },
        {
          "name": "stderr",
          "output_type": "stream",
          "text": [
            "Training: 100%|██████████| 391/391 [00:21<00:00, 18.36it/s, loss=0.5877, acc=94.90%]\n",
            "Validating: 100%|██████████| 79/79 [00:02<00:00, 33.28it/s]\n"
          ]
        },
        {
          "name": "stdout",
          "output_type": "stream",
          "text": [
            "Train Loss: 0.6167, Train Acc: 94.90%\n",
            "Test Loss: 0.7469, Test Acc: 91.49%\n",
            "Learning Rate: 0.000023\n",
            "\n",
            "Epoch 258/300\n"
          ]
        },
        {
          "name": "stderr",
          "output_type": "stream",
          "text": [
            "Training: 100%|██████████| 391/391 [00:21<00:00, 18.11it/s, loss=0.5947, acc=94.76%]\n",
            "Validating: 100%|██████████| 79/79 [00:02<00:00, 33.31it/s]\n"
          ]
        },
        {
          "name": "stdout",
          "output_type": "stream",
          "text": [
            "Train Loss: 0.6191, Train Acc: 94.76%\n",
            "Test Loss: 0.7388, Test Acc: 91.81%\n",
            "Learning Rate: 0.000023\n",
            "\n",
            "Epoch 259/300\n"
          ]
        },
        {
          "name": "stderr",
          "output_type": "stream",
          "text": [
            "Training: 100%|██████████| 391/391 [00:21<00:00, 18.47it/s, loss=0.5989, acc=94.93%]\n",
            "Validating: 100%|██████████| 79/79 [00:02<00:00, 33.26it/s]\n"
          ]
        },
        {
          "name": "stdout",
          "output_type": "stream",
          "text": [
            "Train Loss: 0.6142, Train Acc: 94.93%\n",
            "Test Loss: 0.7382, Test Acc: 91.93%\n",
            "Learning Rate: 0.000022\n",
            "\n",
            "Epoch 260/300\n"
          ]
        },
        {
          "name": "stderr",
          "output_type": "stream",
          "text": [
            "Training: 100%|██████████| 391/391 [00:20<00:00, 19.09it/s, loss=0.6155, acc=95.03%]\n",
            "Validating: 100%|██████████| 79/79 [00:02<00:00, 33.29it/s]\n"
          ]
        },
        {
          "name": "stdout",
          "output_type": "stream",
          "text": [
            "Train Loss: 0.6144, Train Acc: 95.03%\n",
            "Test Loss: 0.7343, Test Acc: 91.96%\n",
            "Learning Rate: 0.000021\n",
            "\n",
            "Epoch 261/300\n"
          ]
        },
        {
          "name": "stderr",
          "output_type": "stream",
          "text": [
            "Training: 100%|██████████| 391/391 [00:20<00:00, 19.29it/s, loss=0.5571, acc=95.08%]\n",
            "Validating: 100%|██████████| 79/79 [00:02<00:00, 33.27it/s]\n"
          ]
        },
        {
          "name": "stdout",
          "output_type": "stream",
          "text": [
            "Train Loss: 0.6128, Train Acc: 95.08%\n",
            "Test Loss: 0.7339, Test Acc: 91.93%\n",
            "Learning Rate: 0.000020\n",
            "\n",
            "Epoch 262/300\n"
          ]
        },
        {
          "name": "stderr",
          "output_type": "stream",
          "text": [
            "Training: 100%|██████████| 391/391 [00:20<00:00, 19.53it/s, loss=0.5816, acc=95.01%]\n",
            "Validating: 100%|██████████| 79/79 [00:02<00:00, 33.48it/s]\n"
          ]
        },
        {
          "name": "stdout",
          "output_type": "stream",
          "text": [
            "Train Loss: 0.6139, Train Acc: 95.01%\n",
            "Test Loss: 0.7408, Test Acc: 91.66%\n",
            "Learning Rate: 0.000019\n",
            "\n",
            "Epoch 263/300\n"
          ]
        },
        {
          "name": "stderr",
          "output_type": "stream",
          "text": [
            "Training: 100%|██████████| 391/391 [00:21<00:00, 18.16it/s, loss=0.6093, acc=95.09%]\n",
            "Validating: 100%|██████████| 79/79 [00:02<00:00, 33.17it/s]\n"
          ]
        },
        {
          "name": "stdout",
          "output_type": "stream",
          "text": [
            "Train Loss: 0.6119, Train Acc: 95.09%\n",
            "Test Loss: 0.7398, Test Acc: 91.80%\n",
            "Learning Rate: 0.000019\n",
            "\n",
            "Epoch 264/300\n"
          ]
        },
        {
          "name": "stderr",
          "output_type": "stream",
          "text": [
            "Training: 100%|██████████| 391/391 [00:21<00:00, 18.41it/s, loss=0.5991, acc=95.01%]\n",
            "Validating: 100%|██████████| 79/79 [00:02<00:00, 33.38it/s]\n"
          ]
        },
        {
          "name": "stdout",
          "output_type": "stream",
          "text": [
            "Train Loss: 0.6132, Train Acc: 95.01%\n",
            "Test Loss: 0.7387, Test Acc: 91.86%\n",
            "Learning Rate: 0.000018\n",
            "\n",
            "Epoch 265/300\n"
          ]
        },
        {
          "name": "stderr",
          "output_type": "stream",
          "text": [
            "Training: 100%|██████████| 391/391 [00:21<00:00, 18.57it/s, loss=0.5615, acc=95.16%]\n",
            "Validating: 100%|██████████| 79/79 [00:02<00:00, 33.30it/s]\n"
          ]
        },
        {
          "name": "stdout",
          "output_type": "stream",
          "text": [
            "Train Loss: 0.6111, Train Acc: 95.16%\n",
            "Test Loss: 0.7403, Test Acc: 91.88%\n",
            "Learning Rate: 0.000017\n",
            "\n",
            "Epoch 266/300\n"
          ]
        },
        {
          "name": "stderr",
          "output_type": "stream",
          "text": [
            "Training: 100%|██████████| 391/391 [00:20<00:00, 18.92it/s, loss=0.5333, acc=94.96%]\n",
            "Validating: 100%|██████████| 79/79 [00:02<00:00, 33.34it/s]\n"
          ]
        },
        {
          "name": "stdout",
          "output_type": "stream",
          "text": [
            "Train Loss: 0.6138, Train Acc: 94.96%\n",
            "Test Loss: 0.7396, Test Acc: 91.80%\n",
            "Learning Rate: 0.000017\n",
            "\n",
            "Epoch 267/300\n"
          ]
        },
        {
          "name": "stderr",
          "output_type": "stream",
          "text": [
            "Training: 100%|██████████| 391/391 [00:20<00:00, 18.83it/s, loss=0.6635, acc=95.08%]\n",
            "Validating: 100%|██████████| 79/79 [00:02<00:00, 33.52it/s]\n"
          ]
        },
        {
          "name": "stdout",
          "output_type": "stream",
          "text": [
            "Train Loss: 0.6105, Train Acc: 95.08%\n",
            "Test Loss: 0.7365, Test Acc: 92.06%\n",
            "Learning Rate: 0.000016\n",
            "\n",
            "Epoch 268/300\n"
          ]
        },
        {
          "name": "stderr",
          "output_type": "stream",
          "text": [
            "Training: 100%|██████████| 391/391 [00:20<00:00, 18.85it/s, loss=0.6632, acc=95.18%]\n",
            "Validating: 100%|██████████| 79/79 [00:02<00:00, 33.38it/s]\n"
          ]
        },
        {
          "name": "stdout",
          "output_type": "stream",
          "text": [
            "Train Loss: 0.6104, Train Acc: 95.18%\n",
            "Test Loss: 0.7418, Test Acc: 91.89%\n",
            "Learning Rate: 0.000015\n",
            "\n",
            "Epoch 269/300\n"
          ]
        },
        {
          "name": "stderr",
          "output_type": "stream",
          "text": [
            "Training: 100%|██████████| 391/391 [00:18<00:00, 20.65it/s, loss=0.6005, acc=95.14%]\n",
            "Validating: 100%|██████████| 79/79 [00:02<00:00, 33.55it/s]\n"
          ]
        },
        {
          "name": "stdout",
          "output_type": "stream",
          "text": [
            "Train Loss: 0.6083, Train Acc: 95.14%\n",
            "Test Loss: 0.7358, Test Acc: 92.05%\n",
            "Learning Rate: 0.000015\n",
            "\n",
            "Epoch 270/300\n"
          ]
        },
        {
          "name": "stderr",
          "output_type": "stream",
          "text": [
            "Training: 100%|██████████| 391/391 [00:18<00:00, 20.82it/s, loss=0.7873, acc=95.09%]\n",
            "Validating: 100%|██████████| 79/79 [00:02<00:00, 33.52it/s]\n"
          ]
        },
        {
          "name": "stdout",
          "output_type": "stream",
          "text": [
            "Train Loss: 0.6100, Train Acc: 95.09%\n",
            "Test Loss: 0.7331, Test Acc: 92.01%\n",
            "Learning Rate: 0.000014\n",
            "\n",
            "Epoch 271/300\n"
          ]
        },
        {
          "name": "stderr",
          "output_type": "stream",
          "text": [
            "Training: 100%|██████████| 391/391 [00:20<00:00, 19.29it/s, loss=0.5442, acc=95.08%]\n",
            "Validating: 100%|██████████| 79/79 [00:02<00:00, 33.49it/s]\n"
          ]
        },
        {
          "name": "stdout",
          "output_type": "stream",
          "text": [
            "Train Loss: 0.6107, Train Acc: 95.08%\n",
            "Test Loss: 0.7386, Test Acc: 92.01%\n",
            "Learning Rate: 0.000013\n",
            "\n",
            "Epoch 272/300\n"
          ]
        },
        {
          "name": "stderr",
          "output_type": "stream",
          "text": [
            "Training: 100%|██████████| 391/391 [00:21<00:00, 18.60it/s, loss=0.5468, acc=95.20%]\n",
            "Validating: 100%|██████████| 79/79 [00:02<00:00, 33.34it/s]\n"
          ]
        },
        {
          "name": "stdout",
          "output_type": "stream",
          "text": [
            "Train Loss: 0.6065, Train Acc: 95.20%\n",
            "Test Loss: 0.7376, Test Acc: 91.97%\n",
            "Learning Rate: 0.000013\n",
            "\n",
            "Epoch 273/300\n"
          ]
        },
        {
          "name": "stderr",
          "output_type": "stream",
          "text": [
            "Training: 100%|██████████| 391/391 [00:20<00:00, 18.84it/s, loss=0.5519, acc=95.16%]\n",
            "Validating: 100%|██████████| 79/79 [00:02<00:00, 33.02it/s]\n"
          ]
        },
        {
          "name": "stdout",
          "output_type": "stream",
          "text": [
            "Train Loss: 0.6102, Train Acc: 95.16%\n",
            "Test Loss: 0.7323, Test Acc: 91.99%\n",
            "Learning Rate: 0.000012\n",
            "\n",
            "Epoch 274/300\n"
          ]
        },
        {
          "name": "stderr",
          "output_type": "stream",
          "text": [
            "Training: 100%|██████████| 391/391 [00:20<00:00, 18.67it/s, loss=0.6527, acc=95.34%]\n",
            "Validating: 100%|██████████| 79/79 [00:02<00:00, 33.38it/s]\n"
          ]
        },
        {
          "name": "stdout",
          "output_type": "stream",
          "text": [
            "Train Loss: 0.6064, Train Acc: 95.34%\n",
            "Test Loss: 0.7369, Test Acc: 92.08%\n",
            "Learning Rate: 0.000011\n",
            "\n",
            "Epoch 275/300\n"
          ]
        },
        {
          "name": "stderr",
          "output_type": "stream",
          "text": [
            "Training: 100%|██████████| 391/391 [00:20<00:00, 18.67it/s, loss=0.5970, acc=95.19%]\n",
            "Validating: 100%|██████████| 79/79 [00:02<00:00, 33.41it/s]\n"
          ]
        },
        {
          "name": "stdout",
          "output_type": "stream",
          "text": [
            "Train Loss: 0.6077, Train Acc: 95.19%\n",
            "Test Loss: 0.7334, Test Acc: 92.12%\n",
            "Learning Rate: 0.000011\n",
            "✓ Saved best model with test accuracy: 92.12%\n",
            "\n",
            "Epoch 276/300\n"
          ]
        },
        {
          "name": "stderr",
          "output_type": "stream",
          "text": [
            "Training: 100%|██████████| 391/391 [00:20<00:00, 18.93it/s, loss=0.5699, acc=95.31%]\n",
            "Validating: 100%|██████████| 79/79 [00:02<00:00, 33.41it/s]\n"
          ]
        },
        {
          "name": "stdout",
          "output_type": "stream",
          "text": [
            "Train Loss: 0.6063, Train Acc: 95.31%\n",
            "Test Loss: 0.7332, Test Acc: 92.09%\n",
            "Learning Rate: 0.000010\n",
            "\n",
            "Epoch 277/300\n"
          ]
        },
        {
          "name": "stderr",
          "output_type": "stream",
          "text": [
            "Training: 100%|██████████| 391/391 [00:21<00:00, 18.56it/s, loss=0.5817, acc=95.25%]\n",
            "Validating: 100%|██████████| 79/79 [00:02<00:00, 33.29it/s]\n"
          ]
        },
        {
          "name": "stdout",
          "output_type": "stream",
          "text": [
            "Train Loss: 0.6090, Train Acc: 95.25%\n",
            "Test Loss: 0.7313, Test Acc: 92.20%\n",
            "Learning Rate: 0.000010\n",
            "✓ Saved best model with test accuracy: 92.20%\n",
            "\n",
            "Epoch 278/300\n"
          ]
        },
        {
          "name": "stderr",
          "output_type": "stream",
          "text": [
            "Training: 100%|██████████| 391/391 [00:20<00:00, 18.91it/s, loss=0.6114, acc=95.29%]\n",
            "Validating: 100%|██████████| 79/79 [00:02<00:00, 33.45it/s]\n"
          ]
        },
        {
          "name": "stdout",
          "output_type": "stream",
          "text": [
            "Train Loss: 0.6058, Train Acc: 95.29%\n",
            "Test Loss: 0.7335, Test Acc: 92.19%\n",
            "Learning Rate: 0.000009\n",
            "\n",
            "Epoch 279/300\n"
          ]
        },
        {
          "name": "stderr",
          "output_type": "stream",
          "text": [
            "Training: 100%|██████████| 391/391 [00:20<00:00, 19.23it/s, loss=0.6369, acc=95.28%]\n",
            "Validating: 100%|██████████| 79/79 [00:02<00:00, 33.41it/s]\n"
          ]
        },
        {
          "name": "stdout",
          "output_type": "stream",
          "text": [
            "Train Loss: 0.6066, Train Acc: 95.28%\n",
            "Test Loss: 0.7371, Test Acc: 92.13%\n",
            "Learning Rate: 0.000009\n",
            "\n",
            "Epoch 280/300\n"
          ]
        },
        {
          "name": "stderr",
          "output_type": "stream",
          "text": [
            "Training: 100%|██████████| 391/391 [00:20<00:00, 18.99it/s, loss=0.5923, acc=95.27%]\n",
            "Validating: 100%|██████████| 79/79 [00:02<00:00, 33.64it/s]\n"
          ]
        },
        {
          "name": "stdout",
          "output_type": "stream",
          "text": [
            "Train Loss: 0.6060, Train Acc: 95.27%\n",
            "Test Loss: 0.7359, Test Acc: 92.03%\n",
            "Learning Rate: 0.000008\n",
            "\n",
            "Epoch 281/300\n"
          ]
        },
        {
          "name": "stderr",
          "output_type": "stream",
          "text": [
            "Training: 100%|██████████| 391/391 [00:21<00:00, 18.33it/s, loss=0.7011, acc=95.36%]\n",
            "Validating: 100%|██████████| 79/79 [00:02<00:00, 33.15it/s]\n"
          ]
        },
        {
          "name": "stdout",
          "output_type": "stream",
          "text": [
            "Train Loss: 0.6050, Train Acc: 95.36%\n",
            "Test Loss: 0.7375, Test Acc: 92.04%\n",
            "Learning Rate: 0.000008\n",
            "\n",
            "Epoch 282/300\n"
          ]
        },
        {
          "name": "stderr",
          "output_type": "stream",
          "text": [
            "Training: 100%|██████████| 391/391 [00:21<00:00, 18.51it/s, loss=0.6602, acc=95.37%]\n",
            "Validating: 100%|██████████| 79/79 [00:02<00:00, 33.32it/s]\n"
          ]
        },
        {
          "name": "stdout",
          "output_type": "stream",
          "text": [
            "Train Loss: 0.6047, Train Acc: 95.37%\n",
            "Test Loss: 0.7347, Test Acc: 92.08%\n",
            "Learning Rate: 0.000007\n",
            "\n",
            "Epoch 283/300\n"
          ]
        },
        {
          "name": "stderr",
          "output_type": "stream",
          "text": [
            "Training: 100%|██████████| 391/391 [00:21<00:00, 18.46it/s, loss=0.6215, acc=95.39%]\n",
            "Validating: 100%|██████████| 79/79 [00:02<00:00, 33.29it/s]\n"
          ]
        },
        {
          "name": "stdout",
          "output_type": "stream",
          "text": [
            "Train Loss: 0.6050, Train Acc: 95.39%\n",
            "Test Loss: 0.7383, Test Acc: 92.12%\n",
            "Learning Rate: 0.000007\n",
            "\n",
            "Epoch 284/300\n"
          ]
        },
        {
          "name": "stderr",
          "output_type": "stream",
          "text": [
            "Training: 100%|██████████| 391/391 [00:21<00:00, 18.60it/s, loss=0.5545, acc=95.44%]\n",
            "Validating: 100%|██████████| 79/79 [00:02<00:00, 33.34it/s]\n"
          ]
        },
        {
          "name": "stdout",
          "output_type": "stream",
          "text": [
            "Train Loss: 0.6043, Train Acc: 95.44%\n",
            "Test Loss: 0.7386, Test Acc: 92.12%\n",
            "Learning Rate: 0.000007\n",
            "\n",
            "Epoch 285/300\n"
          ]
        },
        {
          "name": "stderr",
          "output_type": "stream",
          "text": [
            "Training: 100%|██████████| 391/391 [00:21<00:00, 18.42it/s, loss=0.5729, acc=95.41%]\n",
            "Validating: 100%|██████████| 79/79 [00:02<00:00, 33.32it/s]\n"
          ]
        },
        {
          "name": "stdout",
          "output_type": "stream",
          "text": [
            "Train Loss: 0.6045, Train Acc: 95.41%\n",
            "Test Loss: 0.7375, Test Acc: 92.13%\n",
            "Learning Rate: 0.000006\n",
            "\n",
            "Epoch 286/300\n"
          ]
        },
        {
          "name": "stderr",
          "output_type": "stream",
          "text": [
            "Training: 100%|██████████| 391/391 [00:21<00:00, 18.48it/s, loss=0.6843, acc=95.40%]\n",
            "Validating: 100%|██████████| 79/79 [00:02<00:00, 33.24it/s]\n"
          ]
        },
        {
          "name": "stdout",
          "output_type": "stream",
          "text": [
            "Train Loss: 0.6040, Train Acc: 95.40%\n",
            "Test Loss: 0.7374, Test Acc: 92.11%\n",
            "Learning Rate: 0.000006\n",
            "\n",
            "Epoch 287/300\n"
          ]
        },
        {
          "name": "stderr",
          "output_type": "stream",
          "text": [
            "Training: 100%|██████████| 391/391 [00:21<00:00, 18.45it/s, loss=0.5967, acc=95.33%]\n",
            "Validating: 100%|██████████| 79/79 [00:02<00:00, 33.34it/s]\n"
          ]
        },
        {
          "name": "stdout",
          "output_type": "stream",
          "text": [
            "Train Loss: 0.6057, Train Acc: 95.33%\n",
            "Test Loss: 0.7355, Test Acc: 92.07%\n",
            "Learning Rate: 0.000005\n",
            "\n",
            "Epoch 288/300\n"
          ]
        },
        {
          "name": "stderr",
          "output_type": "stream",
          "text": [
            "Training: 100%|██████████| 391/391 [00:21<00:00, 18.33it/s, loss=0.6426, acc=95.32%]\n",
            "Validating: 100%|██████████| 79/79 [00:02<00:00, 33.22it/s]\n"
          ]
        },
        {
          "name": "stdout",
          "output_type": "stream",
          "text": [
            "Train Loss: 0.6058, Train Acc: 95.32%\n",
            "Test Loss: 0.7343, Test Acc: 92.17%\n",
            "Learning Rate: 0.000005\n",
            "\n",
            "Epoch 289/300\n"
          ]
        },
        {
          "name": "stderr",
          "output_type": "stream",
          "text": [
            "Training: 100%|██████████| 391/391 [00:21<00:00, 18.41it/s, loss=0.6125, acc=95.41%]\n",
            "Validating: 100%|██████████| 79/79 [00:02<00:00, 33.52it/s]\n"
          ]
        },
        {
          "name": "stdout",
          "output_type": "stream",
          "text": [
            "Train Loss: 0.6044, Train Acc: 95.41%\n",
            "Test Loss: 0.7360, Test Acc: 92.11%\n",
            "Learning Rate: 0.000005\n",
            "\n",
            "Epoch 290/300\n"
          ]
        },
        {
          "name": "stderr",
          "output_type": "stream",
          "text": [
            "Training: 100%|██████████| 391/391 [00:21<00:00, 18.33it/s, loss=0.5475, acc=95.59%]\n",
            "Validating: 100%|██████████| 79/79 [00:02<00:00, 33.26it/s]\n"
          ]
        },
        {
          "name": "stdout",
          "output_type": "stream",
          "text": [
            "Train Loss: 0.6003, Train Acc: 95.59%\n",
            "Test Loss: 0.7366, Test Acc: 92.07%\n",
            "Learning Rate: 0.000004\n",
            "\n",
            "Epoch 291/300\n"
          ]
        },
        {
          "name": "stderr",
          "output_type": "stream",
          "text": [
            "Training: 100%|██████████| 391/391 [00:21<00:00, 18.51it/s, loss=0.5933, acc=95.45%]\n",
            "Validating: 100%|██████████| 79/79 [00:02<00:00, 33.55it/s]\n"
          ]
        },
        {
          "name": "stdout",
          "output_type": "stream",
          "text": [
            "Train Loss: 0.6039, Train Acc: 95.45%\n",
            "Test Loss: 0.7366, Test Acc: 92.16%\n",
            "Learning Rate: 0.000004\n",
            "\n",
            "Epoch 292/300\n"
          ]
        },
        {
          "name": "stderr",
          "output_type": "stream",
          "text": [
            "Training: 100%|██████████| 391/391 [00:21<00:00, 18.07it/s, loss=0.6023, acc=95.40%]\n",
            "Validating: 100%|██████████| 79/79 [00:02<00:00, 33.24it/s]\n"
          ]
        },
        {
          "name": "stdout",
          "output_type": "stream",
          "text": [
            "Train Loss: 0.6047, Train Acc: 95.40%\n",
            "Test Loss: 0.7373, Test Acc: 92.15%\n",
            "Learning Rate: 0.000004\n",
            "\n",
            "Epoch 293/300\n"
          ]
        },
        {
          "name": "stderr",
          "output_type": "stream",
          "text": [
            "Training: 100%|██████████| 391/391 [00:21<00:00, 18.59it/s, loss=0.5602, acc=95.39%]\n",
            "Validating: 100%|██████████| 79/79 [00:02<00:00, 33.29it/s]\n"
          ]
        },
        {
          "name": "stdout",
          "output_type": "stream",
          "text": [
            "Train Loss: 0.6055, Train Acc: 95.39%\n",
            "Test Loss: 0.7357, Test Acc: 92.12%\n",
            "Learning Rate: 0.000003\n",
            "\n",
            "Epoch 294/300\n"
          ]
        },
        {
          "name": "stderr",
          "output_type": "stream",
          "text": [
            "Training: 100%|██████████| 391/391 [00:19<00:00, 19.94it/s, loss=0.5541, acc=95.44%]\n",
            "Validating: 100%|██████████| 79/79 [00:02<00:00, 33.47it/s]\n"
          ]
        },
        {
          "name": "stdout",
          "output_type": "stream",
          "text": [
            "Train Loss: 0.6028, Train Acc: 95.44%\n",
            "Test Loss: 0.7367, Test Acc: 92.10%\n",
            "Learning Rate: 0.000003\n",
            "\n",
            "Epoch 295/300\n"
          ]
        },
        {
          "name": "stderr",
          "output_type": "stream",
          "text": [
            "Training: 100%|██████████| 391/391 [00:20<00:00, 18.64it/s, loss=0.6485, acc=95.56%]\n",
            "Validating: 100%|██████████| 79/79 [00:02<00:00, 33.16it/s]\n"
          ]
        },
        {
          "name": "stdout",
          "output_type": "stream",
          "text": [
            "Train Loss: 0.6017, Train Acc: 95.56%\n",
            "Test Loss: 0.7362, Test Acc: 92.11%\n",
            "Learning Rate: 0.000003\n",
            "\n",
            "Epoch 296/300\n"
          ]
        },
        {
          "name": "stderr",
          "output_type": "stream",
          "text": [
            "Training: 100%|██████████| 391/391 [00:21<00:00, 18.57it/s, loss=0.6488, acc=95.38%]\n",
            "Validating: 100%|██████████| 79/79 [00:02<00:00, 33.27it/s]\n"
          ]
        },
        {
          "name": "stdout",
          "output_type": "stream",
          "text": [
            "Train Loss: 0.6041, Train Acc: 95.38%\n",
            "Test Loss: 0.7368, Test Acc: 92.14%\n",
            "Learning Rate: 0.000003\n",
            "\n",
            "Epoch 297/300\n"
          ]
        },
        {
          "name": "stderr",
          "output_type": "stream",
          "text": [
            "Training: 100%|██████████| 391/391 [00:21<00:00, 18.25it/s, loss=0.5266, acc=95.54%]\n",
            "Validating: 100%|██████████| 79/79 [00:02<00:00, 33.23it/s]\n"
          ]
        },
        {
          "name": "stdout",
          "output_type": "stream",
          "text": [
            "Train Loss: 0.6014, Train Acc: 95.54%\n",
            "Test Loss: 0.7364, Test Acc: 92.17%\n",
            "Learning Rate: 0.000002\n",
            "\n",
            "Epoch 298/300\n"
          ]
        },
        {
          "name": "stderr",
          "output_type": "stream",
          "text": [
            "Training: 100%|██████████| 391/391 [00:20<00:00, 18.80it/s, loss=0.6096, acc=95.28%]\n",
            "Validating: 100%|██████████| 79/79 [00:02<00:00, 33.41it/s]\n"
          ]
        },
        {
          "name": "stdout",
          "output_type": "stream",
          "text": [
            "Train Loss: 0.6059, Train Acc: 95.28%\n",
            "Test Loss: 0.7353, Test Acc: 92.07%\n",
            "Learning Rate: 0.000002\n",
            "\n",
            "Epoch 299/300\n"
          ]
        },
        {
          "name": "stderr",
          "output_type": "stream",
          "text": [
            "Training: 100%|██████████| 391/391 [00:19<00:00, 19.74it/s, loss=0.5665, acc=95.42%]\n",
            "Validating: 100%|██████████| 79/79 [00:02<00:00, 33.25it/s]\n"
          ]
        },
        {
          "name": "stdout",
          "output_type": "stream",
          "text": [
            "Train Loss: 0.6041, Train Acc: 95.42%\n",
            "Test Loss: 0.7360, Test Acc: 92.17%\n",
            "Learning Rate: 0.000002\n",
            "\n",
            "Epoch 300/300\n"
          ]
        },
        {
          "name": "stderr",
          "output_type": "stream",
          "text": [
            "Training: 100%|██████████| 391/391 [00:20<00:00, 19.41it/s, loss=0.6005, acc=95.42%]\n",
            "Validating: 100%|██████████| 79/79 [00:02<00:00, 33.14it/s]"
          ]
        },
        {
          "name": "stdout",
          "output_type": "stream",
          "text": [
            "Train Loss: 0.6031, Train Acc: 95.42%\n",
            "Test Loss: 0.7351, Test Acc: 92.11%\n",
            "Learning Rate: 0.000002\n",
            "\n",
            "Training completed! Best test accuracy: 92.20%\n"
          ]
        },
        {
          "name": "stderr",
          "output_type": "stream",
          "text": [
            "\n"
          ]
        }
      ],
      "source": [
        "# ====================== Main training function =====================\n",
        "def main():\n",
        "    config = Config()\n",
        "    print(f\"Using device: {config.device}\")\n",
        "    print(f\"Model configuration: {config.embed_dim}D, {config.depth} layers, {config.num_heads} heads\")\n",
        "\n",
        "    # Load data\n",
        "    print(\"Loading CIFAR-10 dataset...\")\n",
        "    train_dataset = torchvision.datasets.CIFAR10(\n",
        "        root='./data', train=True, download=True,\n",
        "        transform=get_transforms(train=True)\n",
        "    )\n",
        "    test_dataset = torchvision.datasets.CIFAR10(\n",
        "        root='./data', train=False, download=True,\n",
        "        transform=get_transforms(train=False)\n",
        "    )\n",
        "\n",
        "    train_loader = DataLoader(\n",
        "        train_dataset, batch_size=config.batch_size,\n",
        "        shuffle=True, num_workers=2, pin_memory=True\n",
        "    )\n",
        "    test_loader = DataLoader(\n",
        "        test_dataset, batch_size=config.batch_size,\n",
        "        shuffle=False, num_workers=2, pin_memory=True\n",
        "    )\n",
        "\n",
        "    # create model\n",
        "    print(\"Creating Vision Transformer model...\")\n",
        "    model = VisionTransformer(config).to(config.device)\n",
        "\n",
        "    # count parameters\n",
        "    total_params = sum(p.numel() for p in model.parameters())\n",
        "    trainable_params = sum(p.numel() for p in model.parameters() if p.requires_grad)\n",
        "    print(f\"Total parameters: {total_params:,}\")\n",
        "    print(f\"Trainable parameters: {trainable_params:,}\")\n",
        "\n",
        "    # Loss function with label smoothing\n",
        "    criterion = nn.CrossEntropyLoss(label_smoothing=config.label_smoothing)\n",
        "\n",
        "    # Optimizer (AdamW)\n",
        "    optimizer = torch.optim.AdamW(\n",
        "        model.parameters(), lr=config.learning_rate,\n",
        "        weight_decay=config.weight_decay, betas=(0.9, 0.999)\n",
        "    )\n",
        "\n",
        "    # Learning rate scheduler\n",
        "    scheduler = CosineAnnealingLR(optimizer, T_max=config.epochs, eta_min=1e-6)\n",
        "\n",
        "    # Mixed precision scaler\n",
        "    scaler = torch.cuda.amp.GradScaler()\n",
        "\n",
        "    # Training loop\n",
        "    best_acc = 0\n",
        "    print(f\"\\nStarting training for {config.epochs} epochs...\")\n",
        "\n",
        "    for epoch in range(config.epochs):\n",
        "        print(f\"\\nEpoch {epoch+1}/{config.epochs}\")\n",
        "\n",
        "        # Warmup\n",
        "        if epoch < config.warmup_epochs:\n",
        "            warmup_lr = config.learning_rate * (epoch + 1) / config.warmup_epochs\n",
        "            for param_group in optimizer.param_groups:\n",
        "                param_group['lr'] = warmup_lr\n",
        "\n",
        "        train_loss, train_acc = train_epoch(\n",
        "            model, train_loader, criterion, optimizer, scheduler, config, scaler\n",
        "        )\n",
        "        test_loss, test_acc = validate(model, test_loader, criterion, config)\n",
        "\n",
        "        if epoch >= config.warmup_epochs:\n",
        "            scheduler.step()\n",
        "\n",
        "        current_lr = optimizer.param_groups[0]['lr']\n",
        "        print(f\"Train Loss: {train_loss:.4f}, Train Acc: {train_acc:.2f}%\")\n",
        "        print(f\"Test Loss: {test_loss:.4f}, Test Acc: {test_acc:.2f}%\")\n",
        "        print(f\"Learning Rate: {current_lr:.6f}\")\n",
        "\n",
        "        # Save best model\n",
        "        if test_acc > best_acc:\n",
        "            best_acc = test_acc\n",
        "            torch.save({\n",
        "                'epoch': epoch,\n",
        "                'model_state_dict': model.state_dict(),\n",
        "                'optimizer_state_dict': optimizer.state_dict(),\n",
        "                'test_acc': test_acc,\n",
        "                'config': config\n",
        "            }, 'best_vit_cifar10.pth')\n",
        "            print(f\"✓ Saved best model with test accuracy: {best_acc:.2f}%\")\n",
        "\n",
        "    print(f\"\\nTraining completed! Best test accuracy: {best_acc:.2f}%\")\n",
        "    return best_acc\n",
        "\n",
        "if __name__ == '__main__':\n",
        "    main()"
      ]
    },
    {
      "cell_type": "code",
      "execution_count": null,
      "metadata": {
        "id": "ZNruYZ9Yp4hB"
      },
      "outputs": [],
      "source": []
    }
  ],
  "metadata": {
    "accelerator": "GPU",
    "colab": {
      "gpuType": "T4",
      "provenance": [],
      "include_colab_link": true
    },
    "kernelspec": {
      "display_name": "Python3 (ipykernel)",
      "language": "python",
      "name": "python3"
    },
    "language_info": {
      "codemirror_mode": {
        "name": "ipython",
        "version": 3
      },
      "file_extension": ".py",
      "mimetype": "text/x-python",
      "name": "python",
      "nbconvert_exporter": "python",
      "pygments_lexer": "ipython3",
      "version": "3.12.11"
    }
  },
  "nbformat": 4,
  "nbformat_minor": 0
}